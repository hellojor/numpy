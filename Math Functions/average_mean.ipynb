{
 "cells": [
  {
   "cell_type": "markdown",
   "id": "b704066e",
   "metadata": {},
   "source": [
    "# 計算元素平均值 - average() 與 mean()"
   ]
  },
  {
   "cell_type": "markdown",
   "id": "8ae5c201",
   "metadata": {},
   "source": [
    "## np.average"
   ]
  },
  {
   "cell_type": "markdown",
   "id": "e8b36022",
   "metadata": {},
   "source": [
    "    np.average(a, axis=None, weights=None, returned=False)"
   ]
  },
  {
   "cell_type": "code",
   "execution_count": 1,
   "id": "854b16c2",
   "metadata": {},
   "outputs": [],
   "source": [
    "import numpy as np"
   ]
  },
  {
   "cell_type": "code",
   "execution_count": 2,
   "id": "e6fe52eb",
   "metadata": {},
   "outputs": [],
   "source": [
    "a = np.array([33, 44, 54, 23, 25, 55, 32, 76])"
   ]
  },
  {
   "cell_type": "code",
   "execution_count": 3,
   "id": "23090161",
   "metadata": {},
   "outputs": [
    {
     "data": {
      "text/plain": [
       "42.75"
      ]
     },
     "execution_count": 3,
     "metadata": {},
     "output_type": "execute_result"
    }
   ],
   "source": [
    "np.average(a)"
   ]
  },
  {
   "cell_type": "code",
   "execution_count": 4,
   "id": "41fe9214",
   "metadata": {},
   "outputs": [
    {
     "data": {
      "text/plain": [
       "array([[33, 44, 54, 23],\n",
       "       [25, 55, 32, 76]])"
      ]
     },
     "execution_count": 4,
     "metadata": {},
     "output_type": "execute_result"
    }
   ],
   "source": [
    "a = a.reshape(2, 4)\n",
    "a"
   ]
  },
  {
   "cell_type": "code",
   "execution_count": 5,
   "id": "ff398463",
   "metadata": {},
   "outputs": [
    {
     "data": {
      "text/plain": [
       "42.75"
      ]
     },
     "execution_count": 5,
     "metadata": {},
     "output_type": "execute_result"
    }
   ],
   "source": [
    "np.average(a)"
   ]
  },
  {
   "cell_type": "code",
   "execution_count": 6,
   "id": "0945dedb",
   "metadata": {},
   "outputs": [
    {
     "data": {
      "text/plain": [
       "array([29. , 49.5, 43. , 49.5])"
      ]
     },
     "execution_count": 6,
     "metadata": {},
     "output_type": "execute_result"
    }
   ],
   "source": [
    "np.average(a, axis=0)"
   ]
  },
  {
   "cell_type": "code",
   "execution_count": 7,
   "id": "d20f0c16",
   "metadata": {},
   "outputs": [
    {
     "data": {
      "text/plain": [
       "array([38.5, 47. ])"
      ]
     },
     "execution_count": 7,
     "metadata": {},
     "output_type": "execute_result"
    }
   ],
   "source": [
    "np.average(a, axis=1)"
   ]
  },
  {
   "cell_type": "code",
   "execution_count": 8,
   "id": "5d0dbb6d",
   "metadata": {},
   "outputs": [
    {
     "data": {
      "text/plain": [
       "array([[[0.59309639, 0.52158142, 0.01594766, 0.75675067],\n",
       "        [0.1184406 , 0.35816205, 0.67772294, 0.65030687],\n",
       "        [0.43285368, 0.20894846, 0.89453204, 0.09683136]],\n",
       "\n",
       "       [[0.19529002, 0.08029832, 0.27567252, 0.08290602],\n",
       "        [0.78481764, 0.75041295, 0.13352859, 0.72275987],\n",
       "        [0.87781684, 0.93121157, 0.65637253, 0.51371647]]])"
      ]
     },
     "execution_count": 8,
     "metadata": {},
     "output_type": "execute_result"
    }
   ],
   "source": [
    "b = np.random.rand(24).reshape(2, 3, 4)\n",
    "b"
   ]
  },
  {
   "cell_type": "code",
   "execution_count": 9,
   "id": "516dbe39",
   "metadata": {},
   "outputs": [
    {
     "data": {
      "text/plain": [
       "array([[0.39419321, 0.30093987, 0.14581009, 0.41982834],\n",
       "       [0.45162912, 0.5542875 , 0.40562576, 0.68653337],\n",
       "       [0.65533526, 0.57008002, 0.77545229, 0.30527392]])"
      ]
     },
     "execution_count": 9,
     "metadata": {},
     "output_type": "execute_result"
    }
   ],
   "source": [
    "np.average(b, axis=0)"
   ]
  },
  {
   "cell_type": "code",
   "execution_count": 10,
   "id": "37efcc1d",
   "metadata": {},
   "outputs": [
    {
     "data": {
      "text/plain": [
       "array([[0.38146356, 0.36289731, 0.52940088, 0.5012963 ],\n",
       "       [0.61930817, 0.58730762, 0.35519121, 0.43979412]])"
      ]
     },
     "execution_count": 10,
     "metadata": {},
     "output_type": "execute_result"
    }
   ],
   "source": [
    "np.average(b, axis=1)"
   ]
  },
  {
   "cell_type": "code",
   "execution_count": 11,
   "id": "1297340d",
   "metadata": {},
   "outputs": [
    {
     "data": {
      "text/plain": [
       "array([[0.47184403, 0.45115811, 0.40829138],\n",
       "       [0.15854172, 0.59787976, 0.74477935]])"
      ]
     },
     "execution_count": 11,
     "metadata": {},
     "output_type": "execute_result"
    }
   ],
   "source": [
    "np.average(b, axis=2)"
   ]
  },
  {
   "cell_type": "code",
   "execution_count": 12,
   "id": "e01f7cec",
   "metadata": {},
   "outputs": [],
   "source": [
    "a = a.flatten()"
   ]
  },
  {
   "cell_type": "code",
   "execution_count": 13,
   "id": "732197b3",
   "metadata": {},
   "outputs": [],
   "source": [
    "w = np.array([0.1, 0.05, 0.2, 0.0, 0.0, 0.4, 0.2, 0.05])"
   ]
  },
  {
   "cell_type": "code",
   "execution_count": 14,
   "id": "7bd251b7",
   "metadata": {},
   "outputs": [
    {
     "data": {
      "text/plain": [
       "48.5"
      ]
     },
     "execution_count": 14,
     "metadata": {},
     "output_type": "execute_result"
    }
   ],
   "source": [
    "np.average(a, weights=w) #(33*0.1 + 44*0.05 + ....)"
   ]
  },
  {
   "cell_type": "code",
   "execution_count": 15,
   "id": "c57b1cc0",
   "metadata": {},
   "outputs": [],
   "source": [
    "w2 = np.array([0.2, 0.8])"
   ]
  },
  {
   "cell_type": "code",
   "execution_count": 16,
   "id": "2ab51422",
   "metadata": {},
   "outputs": [
    {
     "data": {
      "text/plain": [
       "array([[33, 44, 54, 23],\n",
       "       [25, 55, 32, 76]])"
      ]
     },
     "execution_count": 16,
     "metadata": {},
     "output_type": "execute_result"
    }
   ],
   "source": [
    "a = a.reshape(2, 4)\n",
    "a"
   ]
  },
  {
   "cell_type": "code",
   "execution_count": 17,
   "id": "7702df95",
   "metadata": {},
   "outputs": [
    {
     "data": {
      "text/plain": [
       "array([26.6, 52.8, 36.4, 65.4])"
      ]
     },
     "execution_count": 17,
     "metadata": {},
     "output_type": "execute_result"
    }
   ],
   "source": [
    "np.average(a, axis=0, weights=w2)"
   ]
  },
  {
   "cell_type": "code",
   "execution_count": 18,
   "id": "36b01308",
   "metadata": {},
   "outputs": [
    {
     "data": {
      "text/plain": [
       "(42.75, 8.0)"
      ]
     },
     "execution_count": 18,
     "metadata": {},
     "output_type": "execute_result"
    }
   ],
   "source": [
    "np.average(a, returned=True)"
   ]
  },
  {
   "cell_type": "code",
   "execution_count": 19,
   "id": "bf55b308",
   "metadata": {},
   "outputs": [
    {
     "data": {
      "text/plain": [
       "array([33, 44, 54, 23, 25, 55, 32, 76])"
      ]
     },
     "execution_count": 19,
     "metadata": {},
     "output_type": "execute_result"
    }
   ],
   "source": [
    "a = a.flatten()\n",
    "a"
   ]
  },
  {
   "cell_type": "code",
   "execution_count": 21,
   "id": "0fa44072",
   "metadata": {},
   "outputs": [
    {
     "data": {
      "text/plain": [
       "array([0.1 , 0.05, 0.2 , 0.  , 0.  , 0.4 , 0.2 , 0.05])"
      ]
     },
     "execution_count": 21,
     "metadata": {},
     "output_type": "execute_result"
    }
   ],
   "source": [
    "w"
   ]
  },
  {
   "cell_type": "code",
   "execution_count": 22,
   "id": "94323aba",
   "metadata": {},
   "outputs": [
    {
     "data": {
      "text/plain": [
       "(48.5, 1.0)"
      ]
     },
     "execution_count": 22,
     "metadata": {},
     "output_type": "execute_result"
    }
   ],
   "source": [
    "np.average(a, weights=w, returned=True)"
   ]
  },
  {
   "cell_type": "code",
   "execution_count": 23,
   "id": "842d7640",
   "metadata": {},
   "outputs": [],
   "source": [
    "np.random.seed(1)"
   ]
  },
  {
   "cell_type": "code",
   "execution_count": null,
   "id": "7bf97f2c",
   "metadata": {},
   "outputs": [],
   "source": []
  }
 ],
 "metadata": {
  "kernelspec": {
   "display_name": "Python 3 (ipykernel)",
   "language": "python",
   "name": "python3"
  },
  "language_info": {
   "codemirror_mode": {
    "name": "ipython",
    "version": 3
   },
   "file_extension": ".py",
   "mimetype": "text/x-python",
   "name": "python",
   "nbconvert_exporter": "python",
   "pygments_lexer": "ipython3",
   "version": "3.8.8"
  }
 },
 "nbformat": 4,
 "nbformat_minor": 5
}
