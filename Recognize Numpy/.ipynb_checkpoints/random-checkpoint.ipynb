{
 "cells": [
  {
   "cell_type": "markdown",
   "id": "445cd3a3",
   "metadata": {},
   "source": [
    "# 建立隨機亂數的陣列 - random()"
   ]
  },
  {
   "cell_type": "code",
   "execution_count": 1,
   "id": "ab96c4b9",
   "metadata": {},
   "outputs": [],
   "source": [
    "import numpy as np"
   ]
  },
  {
   "cell_type": "markdown",
   "id": "77e81015",
   "metadata": {},
   "source": [
    "## np.random.rand() & np.random.randint()\n",
    "\n",
    "    np.random.rand(d0, d1, ...dn)\n",
    "    np.random.randint(low, high, size, dtype)"
   ]
  },
  {
   "cell_type": "code",
   "execution_count": 2,
   "id": "dad7c163",
   "metadata": {},
   "outputs": [
    {
     "data": {
      "text/plain": [
       "0.6453321035833139"
      ]
     },
     "execution_count": 2,
     "metadata": {},
     "output_type": "execute_result"
    }
   ],
   "source": [
    "np.random.rand()"
   ]
  },
  {
   "cell_type": "code",
   "execution_count": 3,
   "id": "208f8c27",
   "metadata": {},
   "outputs": [
    {
     "data": {
      "text/plain": [
       "0"
      ]
     },
     "execution_count": 3,
     "metadata": {},
     "output_type": "execute_result"
    }
   ],
   "source": [
    "np.random.randint(10)"
   ]
  },
  {
   "cell_type": "code",
   "execution_count": 4,
   "id": "cd9d2b6a",
   "metadata": {},
   "outputs": [
    {
     "data": {
      "text/plain": [
       "array([[0.91804875, 0.76555543, 0.17231395],\n",
       "       [0.5494364 , 0.601591  , 0.98108009]])"
      ]
     },
     "execution_count": 4,
     "metadata": {},
     "output_type": "execute_result"
    }
   ],
   "source": [
    "np.random.rand(2, 3)"
   ]
  },
  {
   "cell_type": "code",
   "execution_count": 5,
   "id": "5d154a7b",
   "metadata": {},
   "outputs": [
    {
     "data": {
      "text/plain": [
       "array([[6, 4, 6],\n",
       "       [5, 5, 3]])"
      ]
     },
     "execution_count": 5,
     "metadata": {},
     "output_type": "execute_result"
    }
   ],
   "source": [
    "np.random.randint(10, size=(2, 3))"
   ]
  },
  {
   "cell_type": "code",
   "execution_count": 6,
   "id": "64b2440e",
   "metadata": {},
   "outputs": [
    {
     "data": {
      "text/plain": [
       "array([5, 7, 5, 8, 6, 9, 9, 7, 7, 6])"
      ]
     },
     "execution_count": 6,
     "metadata": {},
     "output_type": "execute_result"
    }
   ],
   "source": [
    "np.random.randint(5, 10, size=10)"
   ]
  },
  {
   "cell_type": "code",
   "execution_count": 7,
   "id": "a4969c68",
   "metadata": {},
   "outputs": [
    {
     "data": {
      "text/plain": [
       "array([7.69551755, 6.55717517, 8.63814878, 6.63363439, 6.7842304 ,\n",
       "       9.91559896, 7.44128833, 6.34031624, 9.16387075, 9.48221118])"
      ]
     },
     "execution_count": 7,
     "metadata": {},
     "output_type": "execute_result"
    }
   ],
   "source": [
    "#(stop - start) * np.random.rand() + start 回歸分析\n",
    "(10 - 5) * np.random.rand(10) + 5"
   ]
  },
  {
   "cell_type": "markdown",
   "id": "e160bb03",
   "metadata": {},
   "source": [
    "## np.random.seed()\n",
    "\n",
    "    np.random.seed(seed)\n",
    "    np.random模組的亂數產生器在初始化時，會使用一個整數來作爲seed\n",
    "    seed不變 random出來的結果就不變"
   ]
  },
  {
   "cell_type": "code",
   "execution_count": 8,
   "id": "99b93085",
   "metadata": {},
   "outputs": [],
   "source": [
    "np.random.seed(20)"
   ]
  },
  {
   "cell_type": "code",
   "execution_count": 9,
   "id": "db26313d",
   "metadata": {},
   "outputs": [
    {
     "data": {
      "text/plain": [
       "0.5881308010772742"
      ]
     },
     "execution_count": 9,
     "metadata": {},
     "output_type": "execute_result"
    }
   ],
   "source": [
    "np.random.rand()"
   ]
  },
  {
   "cell_type": "code",
   "execution_count": 10,
   "id": "ce7caf06",
   "metadata": {},
   "outputs": [
    {
     "data": {
      "text/plain": [
       "0.5881308010772742"
      ]
     },
     "execution_count": 10,
     "metadata": {},
     "output_type": "execute_result"
    }
   ],
   "source": [
    "np.random.seed(20)\n",
    "np.random.rand()"
   ]
  },
  {
   "cell_type": "markdown",
   "id": "8b4969fc",
   "metadata": {},
   "source": [
    "## np.random.choice()\n",
    "\n",
    "    np.random.choice(a, size, replace=True, p)\n",
    "    np.random.choice不僅可以隨機取出元素， 還可用replace來控制是否取出重複的元素"
   ]
  },
  {
   "cell_type": "code",
   "execution_count": 11,
   "id": "58a6dc41",
   "metadata": {},
   "outputs": [],
   "source": [
    "a = ['Python', 'Ruby', 'Java', 'C++', 'PHP']"
   ]
  },
  {
   "cell_type": "code",
   "execution_count": 12,
   "id": "04d185ac",
   "metadata": {},
   "outputs": [
    {
     "data": {
      "text/plain": [
       "array(['Java', 'Python', 'Java'], dtype='<U6')"
      ]
     },
     "execution_count": 12,
     "metadata": {},
     "output_type": "execute_result"
    }
   ],
   "source": [
    "np.random.seed(4002)\n",
    "np.random.choice(a, 3)"
   ]
  },
  {
   "cell_type": "code",
   "execution_count": 13,
   "id": "ed79810a",
   "metadata": {},
   "outputs": [
    {
     "data": {
      "text/plain": [
       "array(['Java', 'Python', 'Java'], dtype='<U6')"
      ]
     },
     "execution_count": 13,
     "metadata": {},
     "output_type": "execute_result"
    }
   ],
   "source": [
    "np.random.seed(4002)\n",
    "np.random.choice(a, 3)"
   ]
  },
  {
   "cell_type": "code",
   "execution_count": 14,
   "id": "b9eb4238",
   "metadata": {},
   "outputs": [
    {
     "data": {
      "text/plain": [
       "array(['Python', 'Java', 'C++', 'Python', 'Python', 'Python', 'Python',\n",
       "       'Python', 'Python', 'Python', 'Java', 'PHP', 'Python', 'Java',\n",
       "       'Python', 'Python', 'Python', 'Python', 'Python', 'Python'],\n",
       "      dtype='<U6')"
      ]
     },
     "execution_count": 14,
     "metadata": {},
     "output_type": "execute_result"
    }
   ],
   "source": [
    "np.random.seed(4002)\n",
    "np.random.choice(a, 20, p=[0.75, 0.05, 0.05, 0.05, 0.1]) #各個元素的權重\n",
    "# p的總和 = 1"
   ]
  },
  {
   "cell_type": "code",
   "execution_count": 15,
   "id": "45b98c46",
   "metadata": {},
   "outputs": [
    {
     "data": {
      "text/plain": [
       "array(['Python', 'Java', 'C++', 'Python', 'Python', 'Python', 'Python',\n",
       "       'Python', 'Python', 'Python', 'Java', 'PHP', 'Python', 'Java',\n",
       "       'Python', 'Python', 'Python', 'Python', 'Python', 'Python'],\n",
       "      dtype='<U6')"
      ]
     },
     "execution_count": 15,
     "metadata": {},
     "output_type": "execute_result"
    }
   ],
   "source": [
    "np.random.seed(4002)\n",
    "np.random.choice(a, 20, p=[0.75, 0.05, 0.05, 0.05, 0.1]) #各個元素的權重\n",
    "# p的總和 = 1"
   ]
  },
  {
   "cell_type": "code",
   "execution_count": 16,
   "id": "7e9a1a4e",
   "metadata": {},
   "outputs": [
    {
     "data": {
      "text/plain": [
       "array([0, 1, 2, 3, 4, 5, 6, 7, 8, 9])"
      ]
     },
     "execution_count": 16,
     "metadata": {},
     "output_type": "execute_result"
    }
   ],
   "source": [
    "a = np.arange(10)\n",
    "a"
   ]
  },
  {
   "cell_type": "code",
   "execution_count": 17,
   "id": "49a92b28",
   "metadata": {},
   "outputs": [
    {
     "data": {
      "text/plain": [
       "array([9, 2, 3, 0, 8, 1, 6, 7, 5, 4])"
      ]
     },
     "execution_count": 17,
     "metadata": {},
     "output_type": "execute_result"
    }
   ],
   "source": [
    "np.random.shuffle(a)\n",
    "a"
   ]
  }
 ],
 "metadata": {
  "kernelspec": {
   "display_name": "Python 3 (ipykernel)",
   "language": "python",
   "name": "python3"
  },
  "language_info": {
   "codemirror_mode": {
    "name": "ipython",
    "version": 3
   },
   "file_extension": ".py",
   "mimetype": "text/x-python",
   "name": "python",
   "nbconvert_exporter": "python",
   "pygments_lexer": "ipython3",
   "version": "3.8.8"
  }
 },
 "nbformat": 4,
 "nbformat_minor": 5
}
