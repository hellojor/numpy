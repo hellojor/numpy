{
 "cells": [
  {
   "cell_type": "markdown",
   "id": "fa30a47a",
   "metadata": {},
   "source": [
    "# 計算標準差 - std()\n",
    "\n",
    "    np.std(a, axis=None, dtype=None, out=None, ddof=0, keepdims=False)\n",
    "    ddof : can control the n of std\n",
    "    \n",
    "    \n",
    "    s : standard deviation\n",
    "    x': mean \n",
    "    s = np.sqrt(np.sum((xi - x')^2)/n)"
   ]
  },
  {
   "cell_type": "code",
   "execution_count": 1,
   "id": "ad7f1169",
   "metadata": {},
   "outputs": [],
   "source": [
    "import numpy as np"
   ]
  },
  {
   "cell_type": "code",
   "execution_count": 2,
   "id": "b7087b5c",
   "metadata": {},
   "outputs": [
    {
     "data": {
      "text/plain": [
       "array([0.53733044, 0.59081369, 0.73914737, 0.96926611, 0.16411687,\n",
       "       0.89720994, 0.57388033, 0.43865924, 0.49793853, 0.59678938])"
      ]
     },
     "execution_count": 2,
     "metadata": {},
     "output_type": "execute_result"
    }
   ],
   "source": [
    "a = np.random.rand(10)\n",
    "a"
   ]
  },
  {
   "cell_type": "code",
   "execution_count": 3,
   "id": "f4502874",
   "metadata": {},
   "outputs": [
    {
     "data": {
      "text/plain": [
       "0.21799000851750966"
      ]
     },
     "execution_count": 3,
     "metadata": {},
     "output_type": "execute_result"
    }
   ],
   "source": [
    "np.std(a)"
   ]
  },
  {
   "cell_type": "code",
   "execution_count": 4,
   "id": "bb5b212f",
   "metadata": {},
   "outputs": [
    {
     "data": {
      "text/plain": [
       "array([[[0.76748822, 0.77684687, 0.71730878, 0.78856261],\n",
       "        [0.34640301, 0.46853097, 0.76433827, 0.47437283],\n",
       "        [0.94444639, 0.97027875, 0.462011  , 0.651048  ]],\n",
       "\n",
       "       [[0.75260363, 0.31789041, 0.05937933, 0.29388538],\n",
       "        [0.66002627, 0.68002925, 0.00640116, 0.1687039 ],\n",
       "        [0.42489969, 0.21990882, 0.80562175, 0.39576642]]])"
      ]
     },
     "execution_count": 4,
     "metadata": {},
     "output_type": "execute_result"
    }
   ],
   "source": [
    "b = np.random.rand(2, 3, 4)\n",
    "b"
   ]
  },
  {
   "cell_type": "code",
   "execution_count": 5,
   "id": "e78cf910",
   "metadata": {},
   "outputs": [
    {
     "data": {
      "text/plain": [
       "array([[0.00744229, 0.22947823, 0.32896473, 0.24733862],\n",
       "       [0.15681163, 0.10574914, 0.37896855, 0.15283446],\n",
       "       [0.25977335, 0.37518496, 0.17180538, 0.12764079]])"
      ]
     },
     "execution_count": 5,
     "metadata": {},
     "output_type": "execute_result"
    }
   ],
   "source": [
    "np.std(b, axis=0)"
   ]
  },
  {
   "cell_type": "code",
   "execution_count": 6,
   "id": "b4bcd12f",
   "metadata": {},
   "outputs": [
    {
     "data": {
      "text/plain": [
       "0.26732574478825866"
      ]
     },
     "execution_count": 6,
     "metadata": {},
     "output_type": "execute_result"
    }
   ],
   "source": [
    "np.std(b)"
   ]
  },
  {
   "cell_type": "code",
   "execution_count": 7,
   "id": "db76576a",
   "metadata": {},
   "outputs": [
    {
     "data": {
      "text/plain": [
       "0.273075343309142"
      ]
     },
     "execution_count": 7,
     "metadata": {},
     "output_type": "execute_result"
    }
   ],
   "source": [
    "np.std(b, ddof=1) \n",
    "#1/n -> 1/(n-1)\n",
    "#貝索校正(Bessel's correction)"
   ]
  },
  {
   "cell_type": "markdown",
   "id": "cee0e581",
   "metadata": {},
   "source": [
    "# 計算變異數 - var()\n",
    "\n",
    "    np.var(a, axis=None, dtype=None, out=None, ddof=0, keepdims=False)\n",
    "    \n",
    "    var = np.sqrt(std)"
   ]
  },
  {
   "cell_type": "code",
   "execution_count": 8,
   "id": "5a3a791b",
   "metadata": {},
   "outputs": [],
   "source": [
    "x = np.array([10, 20, 12, 0, 3, 5])"
   ]
  },
  {
   "cell_type": "code",
   "execution_count": 9,
   "id": "4a8bbee0",
   "metadata": {},
   "outputs": [
    {
     "data": {
      "text/plain": [
       "0.047519643813463935"
      ]
     },
     "execution_count": 9,
     "metadata": {},
     "output_type": "execute_result"
    }
   ],
   "source": [
    "np.var(a)"
   ]
  },
  {
   "cell_type": "markdown",
   "id": "fd4623de",
   "metadata": {},
   "source": [
    "其餘用法與std()相同"
   ]
  }
 ],
 "metadata": {
  "kernelspec": {
   "display_name": "Python 3 (ipykernel)",
   "language": "python",
   "name": "python3"
  },
  "language_info": {
   "codemirror_mode": {
    "name": "ipython",
    "version": 3
   },
   "file_extension": ".py",
   "mimetype": "text/x-python",
   "name": "python",
   "nbconvert_exporter": "python",
   "pygments_lexer": "ipython3",
   "version": "3.8.8"
  }
 },
 "nbformat": 4,
 "nbformat_minor": 5
}
