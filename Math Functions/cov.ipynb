{
 "cells": [
  {
   "cell_type": "markdown",
   "id": "ee22437e",
   "metadata": {},
   "source": [
    "## 計算共變異數 - cov()\n",
    "\n",
    "    np.cov(m, y=None, rowvar=True, bias=False, ddof=None, fweights=None,\n",
    "    aweights=None)\n",
    "    \n",
    "    "
   ]
  },
  {
   "cell_type": "markdown",
   "id": "e3c9a0f3",
   "metadata": {},
   "source": [
    "    X = {x1, x2, x3, ....., xn}\n",
    "    Y = {y1, y2, y3, ....., yn}\n",
    "    \n",
    "    Sxy = (1/n) * np.sum((xi - x')(yi - y'))\n",
    "    \n",
    "    if x == y, Varx = (1/n) * np.sum((xi - x')^2)"
   ]
  },
  {
   "cell_type": "code",
   "execution_count": 1,
   "id": "475070be",
   "metadata": {},
   "outputs": [],
   "source": [
    "import numpy as np"
   ]
  },
  {
   "cell_type": "code",
   "execution_count": 2,
   "id": "0c1fac39",
   "metadata": {},
   "outputs": [],
   "source": [
    "a = np.array([[10, 5, 2, 4, 9, 3, 2], [10, 2, 8, 3, 7, 4, 1]])"
   ]
  },
  {
   "cell_type": "code",
   "execution_count": 3,
   "id": "96103e3d",
   "metadata": {},
   "outputs": [
    {
     "data": {
      "text/plain": [
       "array([[10.66666667,  6.66666667],\n",
       "       [ 6.66666667, 11.33333333]])"
      ]
     },
     "execution_count": 3,
     "metadata": {},
     "output_type": "execute_result"
    }
   ],
   "source": [
    "np.cov(a) #對角綫不看 6.666666667是他們的共變異數"
   ]
  },
  {
   "cell_type": "code",
   "execution_count": 4,
   "id": "6d08aa83",
   "metadata": {},
   "outputs": [],
   "source": [
    "c = np.array([3, 2, 1, 5, 7, 2, 1])"
   ]
  },
  {
   "cell_type": "code",
   "execution_count": 5,
   "id": "4e886fc0",
   "metadata": {},
   "outputs": [
    {
     "data": {
      "text/plain": [
       "array([[10.66666667,  6.66666667,  4.66666667],\n",
       "       [ 6.66666667, 11.33333333,  1.66666667],\n",
       "       [ 4.66666667,  1.66666667,  5.        ]])"
      ]
     },
     "execution_count": 5,
     "metadata": {},
     "output_type": "execute_result"
    }
   ],
   "source": [
    "np.cov(a, c) \n",
    "#對角綫不看 是各自的變異數\n",
    "#6.66666667是第一組跟第二組的共變異數\n",
    "#4.66666667是第一組跟第三組的共變異數\n",
    "#4.66666667是第二組跟第三組的共變異數"
   ]
  },
  {
   "cell_type": "code",
   "execution_count": 6,
   "id": "f0787a20",
   "metadata": {},
   "outputs": [
    {
     "data": {
      "text/plain": [
       "array([[ 5.        ,  4.66666667,  1.66666667],\n",
       "       [ 4.66666667, 10.66666667,  6.66666667],\n",
       "       [ 1.66666667,  6.66666667, 11.33333333]])"
      ]
     },
     "execution_count": 6,
     "metadata": {},
     "output_type": "execute_result"
    }
   ],
   "source": [
    "np.cov(c, a) "
   ]
  },
  {
   "cell_type": "markdown",
   "id": "906d9a20",
   "metadata": {},
   "source": [
    "    bias=False 分母為1/(n-1) : 求樣本共變異數\n",
    "    bias=True 分母為1/n"
   ]
  },
  {
   "cell_type": "code",
   "execution_count": 7,
   "id": "cc3d6b6f",
   "metadata": {},
   "outputs": [
    {
     "data": {
      "text/plain": [
       "array([[10.66666667,  6.66666667],\n",
       "       [ 6.66666667, 11.33333333]])"
      ]
     },
     "execution_count": 7,
     "metadata": {},
     "output_type": "execute_result"
    }
   ],
   "source": [
    "np.cov(a, bias=False)"
   ]
  },
  {
   "cell_type": "code",
   "execution_count": 8,
   "id": "01850f2f",
   "metadata": {},
   "outputs": [
    {
     "data": {
      "text/plain": [
       "array([[9.14285714, 5.71428571],\n",
       "       [5.71428571, 9.71428571]])"
      ]
     },
     "execution_count": 8,
     "metadata": {},
     "output_type": "execute_result"
    }
   ],
   "source": [
    "np.cov(a, bias=True)"
   ]
  },
  {
   "cell_type": "markdown",
   "id": "ac402748",
   "metadata": {},
   "source": [
    "    ddof=1 or ddof=None 分母為1/(n-1) : 求樣本共變異數\n",
    "    ddof=0 分母為1/n"
   ]
  },
  {
   "cell_type": "code",
   "execution_count": 9,
   "id": "79ffea47",
   "metadata": {},
   "outputs": [
    {
     "data": {
      "text/plain": [
       "array([[10.66666667,  6.66666667],\n",
       "       [ 6.66666667, 11.33333333]])"
      ]
     },
     "execution_count": 9,
     "metadata": {},
     "output_type": "execute_result"
    }
   ],
   "source": [
    "np.cov(a, ddof=None)"
   ]
  },
  {
   "cell_type": "code",
   "execution_count": 10,
   "id": "dde177f9",
   "metadata": {},
   "outputs": [
    {
     "data": {
      "text/plain": [
       "array([[10.66666667,  6.66666667],\n",
       "       [ 6.66666667, 11.33333333]])"
      ]
     },
     "execution_count": 10,
     "metadata": {},
     "output_type": "execute_result"
    }
   ],
   "source": [
    "np.cov(a, ddof=1)"
   ]
  },
  {
   "cell_type": "code",
   "execution_count": 11,
   "id": "44e1acec",
   "metadata": {
    "scrolled": true
   },
   "outputs": [
    {
     "data": {
      "text/plain": [
       "array([[9.14285714, 5.71428571],\n",
       "       [5.71428571, 9.71428571]])"
      ]
     },
     "execution_count": 11,
     "metadata": {},
     "output_type": "execute_result"
    }
   ],
   "source": [
    "np.cov(a, ddof=0)"
   ]
  },
  {
   "cell_type": "markdown",
   "id": "22febbef",
   "metadata": {},
   "source": [
    "    In pratice, (ddof=1) == (bias=False)\n",
    "    當ddof設定None, bias會被覆蓋\n",
    "    建議一律使用ddof就好"
   ]
  },
  {
   "cell_type": "code",
   "execution_count": 12,
   "id": "6ec69132",
   "metadata": {},
   "outputs": [
    {
     "data": {
      "text/plain": [
       "array([[10,  5,  2,  4,  9,  3,  2],\n",
       "       [10,  2,  8,  3,  7,  4,  1]])"
      ]
     },
     "execution_count": 12,
     "metadata": {},
     "output_type": "execute_result"
    }
   ],
   "source": [
    "#fweights = frequency weights\n",
    "#可以指定將重要的觀測值重複計算幾次\n",
    "a"
   ]
  },
  {
   "cell_type": "code",
   "execution_count": 13,
   "id": "b379fb81",
   "metadata": {},
   "outputs": [],
   "source": [
    "fweights = np.array([1, 2, 2, 1, 1, 1, 1])"
   ]
  },
  {
   "cell_type": "code",
   "execution_count": 14,
   "id": "c335cacd",
   "metadata": {
    "scrolled": true
   },
   "outputs": [
    {
     "data": {
      "text/plain": [
       "array([[ 9.   ,  3.875],\n",
       "       [ 3.875, 10.75 ]])"
      ]
     },
     "execution_count": 14,
     "metadata": {},
     "output_type": "execute_result"
    }
   ],
   "source": [
    "np.cov(a, fweights=fweights)"
   ]
  },
  {
   "cell_type": "markdown",
   "id": "5d3c7d2d",
   "metadata": {},
   "source": [
    "    以上可理解為\n",
    "    [[10, 5, 5, 2, 2, 4, 9, 3, 2]\n",
    "     [10, 2, 2, 8, 8, 3, 7, 4, 1]]"
   ]
  },
  {
   "cell_type": "code",
   "execution_count": 15,
   "id": "019af3e1",
   "metadata": {},
   "outputs": [],
   "source": [
    "#aweights = array of weights\n",
    "#aweights.sum() == 1\n",
    "aweights = np.array([0.1, 0.2, 0.2, 0.2, 0.1, 0.1, 0.1])"
   ]
  },
  {
   "cell_type": "code",
   "execution_count": 16,
   "id": "dd5055e6",
   "metadata": {},
   "outputs": [
    {
     "data": {
      "text/plain": [
       "array([[ 8.61904762,  3.83333333],\n",
       "       [ 3.83333333, 10.66666667]])"
      ]
     },
     "execution_count": 16,
     "metadata": {},
     "output_type": "execute_result"
    }
   ],
   "source": [
    "np.cov(a, aweights=aweights)"
   ]
  },
  {
   "cell_type": "markdown",
   "id": "4254b1e2",
   "metadata": {},
   "source": [
    "    np.cov()最經典是在ml做PCA(Principal components analysis)\n",
    "    面對一大推Feature就可簡化複雜度"
   ]
  }
 ],
 "metadata": {
  "kernelspec": {
   "display_name": "Python 3 (ipykernel)",
   "language": "python",
   "name": "python3"
  },
  "language_info": {
   "codemirror_mode": {
    "name": "ipython",
    "version": 3
   },
   "file_extension": ".py",
   "mimetype": "text/x-python",
   "name": "python",
   "nbconvert_exporter": "python",
   "pygments_lexer": "ipython3",
   "version": "3.8.8"
  }
 },
 "nbformat": 4,
 "nbformat_minor": 5
}
