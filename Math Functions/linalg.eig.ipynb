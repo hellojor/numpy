{
 "cells": [
  {
   "cell_type": "markdown",
   "id": "053a1f86",
   "metadata": {},
   "source": [
    "# 計算矩陣的｢特徵值｣與｢特徵向量｣ - linalg.eig()\n",
    "\n",
    "    eigenvalue:特徵值\n",
    "    eigenvector:特徵向量\n",
    "    \n",
    "    np.linalg.eig(a)"
   ]
  },
  {
   "cell_type": "code",
   "execution_count": 2,
   "id": "5e66d7e3",
   "metadata": {},
   "outputs": [],
   "source": [
    "import numpy as np\n",
    "import numpy.linalg as LA"
   ]
  },
  {
   "cell_type": "code",
   "execution_count": 4,
   "id": "0e02c52a",
   "metadata": {},
   "outputs": [
    {
     "data": {
      "text/plain": [
       "array([[1, 0],\n",
       "       [0, 2]])"
      ]
     },
     "execution_count": 4,
     "metadata": {},
     "output_type": "execute_result"
    }
   ],
   "source": [
    "a = np.array([[1, 0], [0, 2]])\n",
    "a"
   ]
  },
  {
   "cell_type": "code",
   "execution_count": 6,
   "id": "ca53af89",
   "metadata": {},
   "outputs": [
    {
     "data": {
      "text/plain": [
       "(array([1., 2.]),\n",
       " array([[1., 0.],\n",
       "        [0., 1.]]))"
      ]
     },
     "execution_count": 6,
     "metadata": {},
     "output_type": "execute_result"
    }
   ],
   "source": [
    "LA.eig(a) #eigenvalue, eigenvector"
   ]
  },
  {
   "cell_type": "code",
   "execution_count": 7,
   "id": "924b361b",
   "metadata": {},
   "outputs": [
    {
     "data": {
      "text/plain": [
       "array([[ 2,  5],\n",
       "       [ 3, -8]])"
      ]
     },
     "execution_count": 7,
     "metadata": {},
     "output_type": "execute_result"
    }
   ],
   "source": [
    "b = np.array([[2, 5], [3, -8]])\n",
    "b"
   ]
  },
  {
   "cell_type": "code",
   "execution_count": 8,
   "id": "9bb5378e",
   "metadata": {},
   "outputs": [
    {
     "data": {
      "text/plain": [
       "(array([ 3.32455532, -9.32455532]),\n",
       " array([[ 0.96665615, -0.40390206],\n",
       "        [ 0.25607791,  0.91480224]]))"
      ]
     },
     "execution_count": 8,
     "metadata": {},
     "output_type": "execute_result"
    }
   ],
   "source": [
    "LA.eig(b)"
   ]
  },
  {
   "cell_type": "code",
   "execution_count": 9,
   "id": "c486b310",
   "metadata": {},
   "outputs": [],
   "source": [
    "c = np.random.randint(-10, 10, size=(3, 3))"
   ]
  },
  {
   "cell_type": "code",
   "execution_count": 10,
   "id": "6d428bea",
   "metadata": {},
   "outputs": [],
   "source": [
    "w, v = LA.eig(c)"
   ]
  },
  {
   "cell_type": "code",
   "execution_count": 11,
   "id": "55a342a5",
   "metadata": {},
   "outputs": [
    {
     "data": {
      "text/plain": [
       "array([-4.16312894+7.46825292j, -4.16312894-7.46825292j,\n",
       "       -7.67374212+0.j        ])"
      ]
     },
     "execution_count": 11,
     "metadata": {},
     "output_type": "execute_result"
    }
   ],
   "source": [
    "w"
   ]
  },
  {
   "cell_type": "code",
   "execution_count": 12,
   "id": "dfde5cbc",
   "metadata": {},
   "outputs": [
    {
     "data": {
      "text/plain": [
       "array([[ 0.7138939 +0.j        ,  0.7138939 -0.j        ,\n",
       "         0.00387114+0.j        ],\n",
       "       [ 0.29105502-0.11316916j,  0.29105502+0.11316916j,\n",
       "        -0.78899729+0.j        ],\n",
       "       [-0.37207957-0.50437289j, -0.37207957+0.50437289j,\n",
       "         0.61438448+0.j        ]])"
      ]
     },
     "execution_count": 12,
     "metadata": {},
     "output_type": "execute_result"
    }
   ],
   "source": [
    "v"
   ]
  },
  {
   "cell_type": "code",
   "execution_count": 14,
   "id": "f553d420",
   "metadata": {},
   "outputs": [
    {
     "data": {
      "text/plain": [
       "array([[[  1,  -8,  -1],\n",
       "        [  7,   2,  -9],\n",
       "        [ -9,   8,  -1]],\n",
       "\n",
       "       [[ -5,   9, -10],\n",
       "        [ -6,   7,  -6],\n",
       "        [  9, -10,   9]],\n",
       "\n",
       "       [[  2,  -2,  -9],\n",
       "        [ -8,   1,  -3],\n",
       "        [  1,  -1,   8]]])"
      ]
     },
     "execution_count": 14,
     "metadata": {},
     "output_type": "execute_result"
    }
   ],
   "source": [
    "d = np.random.randint(-10, 10, size=(3, 3, 3))\n",
    "d"
   ]
  },
  {
   "cell_type": "code",
   "execution_count": 15,
   "id": "d025061c",
   "metadata": {},
   "outputs": [],
   "source": [
    "w, v = LA.eig(d)"
   ]
  },
  {
   "cell_type": "code",
   "execution_count": 16,
   "id": "ad989391",
   "metadata": {},
   "outputs": [
    {
     "data": {
      "text/plain": [
       "array([[-4.72652118 +0.j        ,  3.36326059+11.76781726j,\n",
       "         3.36326059-11.76781726j],\n",
       "       [ 5.38371333 +5.95914544j,  5.38371333 -5.95914544j,\n",
       "         0.23257334 +0.j        ],\n",
       "       [-3.00915891 +0.j        ,  7.00457946 +3.01523665j,\n",
       "         7.00457946 -3.01523665j]])"
      ]
     },
     "execution_count": 16,
     "metadata": {},
     "output_type": "execute_result"
    }
   ],
   "source": [
    "w"
   ]
  },
  {
   "cell_type": "code",
   "execution_count": 17,
   "id": "c9a53fb5",
   "metadata": {},
   "outputs": [
    {
     "data": {
      "text/plain": [
       "array([[[ 0.60176394+0.j        , -0.04300273+0.44771062j,\n",
       "         -0.04300273-0.44771062j],\n",
       "        [ 0.34044154+0.j        ,  0.68849229+0.j        ,\n",
       "          0.68849229-0.j        ],\n",
       "        [ 0.72248164+0.j        , -0.13773484-0.55200856j,\n",
       "         -0.13773484+0.55200856j]],\n",
       "\n",
       "       [[ 0.74410961+0.j        ,  0.74410961-0.j        ,\n",
       "          0.37206234+0.j        ],\n",
       "        [ 0.33119672+0.18154257j,  0.33119672-0.18154257j,\n",
       "          0.77829984+0.j        ],\n",
       "        [-0.47458504-0.28003743j, -0.47458504+0.28003743j,\n",
       "          0.50578551+0.j        ]],\n",
       "\n",
       "       [[-0.43494154+0.j        ,  0.49874276+0.39644043j,\n",
       "          0.49874276-0.39644043j],\n",
       "        [-0.89946955+0.j        , -0.66625231+0.j        ,\n",
       "         -0.66625231-0.j        ],\n",
       "        [-0.04219469+0.j        ,  0.00354095-0.38753834j,\n",
       "          0.00354095+0.38753834j]]])"
      ]
     },
     "execution_count": 17,
     "metadata": {},
     "output_type": "execute_result"
    }
   ],
   "source": [
    "v"
   ]
  }
 ],
 "metadata": {
  "kernelspec": {
   "display_name": "Python 3 (ipykernel)",
   "language": "python",
   "name": "python3"
  },
  "language_info": {
   "codemirror_mode": {
    "name": "ipython",
    "version": 3
   },
   "file_extension": ".py",
   "mimetype": "text/x-python",
   "name": "python",
   "nbconvert_exporter": "python",
   "pygments_lexer": "ipython3",
   "version": "3.8.8"
  }
 },
 "nbformat": 4,
 "nbformat_minor": 5
}
