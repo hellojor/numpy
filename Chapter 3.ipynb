{
 "cells": [
  {
   "cell_type": "markdown",
   "id": "f4ea94e7",
   "metadata": {},
   "source": [
    "# 陣列的儲存與讀取 - save() 與 load()"
   ]
  },
  {
   "cell_type": "markdown",
   "id": "dfd05cc5",
   "metadata": {},
   "source": [
    "np.save(file, arr, allow_pickle=True, fix_imports=True)\n",
    "\n",
    "np.load(file, mmap_mode=None, allow_pickle=True, fix_imports=True, encoding='ASCII)\n",
    "\n",
    "file type : .npy, binary"
   ]
  },
  {
   "cell_type": "code",
   "execution_count": 141,
   "id": "5172b351",
   "metadata": {},
   "outputs": [],
   "source": [
    "import numpy as np"
   ]
  },
  {
   "cell_type": "code",
   "execution_count": 142,
   "id": "f9bb01b6",
   "metadata": {},
   "outputs": [
    {
     "data": {
      "text/plain": [
       "array([[0.68564811, 0.59074925, 0.52409275, ..., 0.21237303, 0.13779091,\n",
       "        0.8702217 ],\n",
       "       [0.13718706, 0.9692734 , 0.57066862, ..., 0.39969501, 0.15393687,\n",
       "        0.4939711 ],\n",
       "       [0.93890797, 0.85526525, 0.17935707, ..., 0.29193435, 0.74422616,\n",
       "        0.89675888],\n",
       "       ...,\n",
       "       [0.82105537, 0.35343753, 0.15240969, ..., 0.8872634 , 0.58645936,\n",
       "        0.59859669],\n",
       "       [0.12249704, 0.34544702, 0.37673506, ..., 0.92308593, 0.98092524,\n",
       "        0.09030762],\n",
       "       [0.05224381, 0.4920884 , 0.42878644, ..., 0.04548954, 0.7770869 ,\n",
       "        0.17348117]])"
      ]
     },
     "execution_count": 142,
     "metadata": {},
     "output_type": "execute_result"
    }
   ],
   "source": [
    "a = np.random.rand(1200*1000).reshape(1200, -1)\n",
    "a"
   ]
  },
  {
   "cell_type": "code",
   "execution_count": 143,
   "id": "ff692833",
   "metadata": {},
   "outputs": [],
   "source": [
    "np.save('source/a', a)"
   ]
  },
  {
   "cell_type": "code",
   "execution_count": 144,
   "id": "1cc6c3b7",
   "metadata": {},
   "outputs": [
    {
     "data": {
      "text/plain": [
       "array([[0.68564811, 0.59074925, 0.52409275, ..., 0.21237303, 0.13779091,\n",
       "        0.8702217 ],\n",
       "       [0.13718706, 0.9692734 , 0.57066862, ..., 0.39969501, 0.15393687,\n",
       "        0.4939711 ],\n",
       "       [0.93890797, 0.85526525, 0.17935707, ..., 0.29193435, 0.74422616,\n",
       "        0.89675888],\n",
       "       ...,\n",
       "       [0.82105537, 0.35343753, 0.15240969, ..., 0.8872634 , 0.58645936,\n",
       "        0.59859669],\n",
       "       [0.12249704, 0.34544702, 0.37673506, ..., 0.92308593, 0.98092524,\n",
       "        0.09030762],\n",
       "       [0.05224381, 0.4920884 , 0.42878644, ..., 0.04548954, 0.7770869 ,\n",
       "        0.17348117]])"
      ]
     },
     "execution_count": 144,
     "metadata": {},
     "output_type": "execute_result"
    }
   ],
   "source": [
    "b = np.load('source/a.npy')\n",
    "b"
   ]
  },
  {
   "cell_type": "code",
   "execution_count": 145,
   "id": "eff3ea28",
   "metadata": {},
   "outputs": [
    {
     "data": {
      "text/plain": [
       "(1200, 1000)"
      ]
     },
     "execution_count": 145,
     "metadata": {},
     "output_type": "execute_result"
    }
   ],
   "source": [
    "b.shape"
   ]
  },
  {
   "cell_type": "markdown",
   "id": "f11421e9",
   "metadata": {},
   "source": [
    "以上缺點:無法兼容于python以外的程式語言或軟體工具"
   ]
  },
  {
   "cell_type": "markdown",
   "id": "0d72dfdf",
   "metadata": {},
   "source": [
    "# 以文字格式儲存與讀取陣列 - savetxt() 與 loadtxt()"
   ]
  },
  {
   "cell_type": "markdown",
   "id": "9e4d2a1d",
   "metadata": {},
   "source": [
    "缺點：最高只能儲存2D的陣列\n",
    "\n",
    "np.savetxt(fname, X, fmt, delimiter, newline, header, footer, comments, encoding)\n",
    "\n",
    "np.loadtxt(fname, dtype, comment, delimiter, converters, skiprows, usecols, unpack, ndim, encoding)"
   ]
  },
  {
   "cell_type": "code",
   "execution_count": 146,
   "id": "059155e7",
   "metadata": {},
   "outputs": [],
   "source": [
    "import numpy as np"
   ]
  },
  {
   "cell_type": "code",
   "execution_count": 147,
   "id": "972057ba",
   "metadata": {},
   "outputs": [
    {
     "data": {
      "text/plain": [
       "array([[0.38251563, 0.87639315, 0.29097544, 0.46843954],\n",
       "       [0.61090723, 0.25777427, 0.73009274, 0.01220844],\n",
       "       [0.66506052, 0.93097831, 0.63279316, 0.83611651]])"
      ]
     },
     "execution_count": 147,
     "metadata": {},
     "output_type": "execute_result"
    }
   ],
   "source": [
    "a = np.random.rand(3, 4)\n",
    "a"
   ]
  },
  {
   "cell_type": "code",
   "execution_count": 148,
   "id": "4ae3e24b",
   "metadata": {},
   "outputs": [],
   "source": [
    "np.savetxt('source/sample1.txt', a)"
   ]
  },
  {
   "cell_type": "code",
   "execution_count": 149,
   "id": "bb048576",
   "metadata": {},
   "outputs": [
    {
     "data": {
      "text/plain": [
       "array([[0.38251563, 0.87639315, 0.29097544, 0.46843954],\n",
       "       [0.61090723, 0.25777427, 0.73009274, 0.01220844],\n",
       "       [0.66506052, 0.93097831, 0.63279316, 0.83611651]])"
      ]
     },
     "execution_count": 149,
     "metadata": {},
     "output_type": "execute_result"
    }
   ],
   "source": [
    "b = np.loadtxt('source/sample1.txt')\n",
    "b"
   ]
  },
  {
   "cell_type": "code",
   "execution_count": 150,
   "id": "42ec040f",
   "metadata": {},
   "outputs": [],
   "source": [
    "np.savetxt('source/sample1.csv', a)"
   ]
  },
  {
   "cell_type": "code",
   "execution_count": 151,
   "id": "5f05a532",
   "metadata": {},
   "outputs": [
    {
     "data": {
      "text/plain": [
       "array([[0.38251563, 0.87639315, 0.29097544, 0.46843954],\n",
       "       [0.61090723, 0.25777427, 0.73009274, 0.01220844],\n",
       "       [0.66506052, 0.93097831, 0.63279316, 0.83611651]])"
      ]
     },
     "execution_count": 151,
     "metadata": {},
     "output_type": "execute_result"
    }
   ],
   "source": [
    "c = np.loadtxt('source/sample1.csv')\n",
    "c"
   ]
  },
  {
   "cell_type": "code",
   "execution_count": 152,
   "id": "62bfe7bf",
   "metadata": {},
   "outputs": [],
   "source": [
    "np.savetxt('source/sample2.txt', a, delimiter=',') #請查看sample2.txt"
   ]
  },
  {
   "cell_type": "code",
   "execution_count": 153,
   "id": "1e9f88ba",
   "metadata": {},
   "outputs": [],
   "source": [
    "#c = np.loadtxt('source/sample2.txt') #error"
   ]
  },
  {
   "cell_type": "code",
   "execution_count": 154,
   "id": "2be8c441",
   "metadata": {},
   "outputs": [
    {
     "data": {
      "text/plain": [
       "array([[0.38251563, 0.87639315, 0.29097544, 0.46843954],\n",
       "       [0.61090723, 0.25777427, 0.73009274, 0.01220844],\n",
       "       [0.66506052, 0.93097831, 0.63279316, 0.83611651]])"
      ]
     },
     "execution_count": 154,
     "metadata": {},
     "output_type": "execute_result"
    }
   ],
   "source": [
    "c = np.loadtxt('source/sample2.txt', delimiter=',')\n",
    "c"
   ]
  },
  {
   "cell_type": "code",
   "execution_count": 155,
   "id": "77a26e79",
   "metadata": {},
   "outputs": [],
   "source": [
    "np.savetxt('source/sample3.txt', a, fmt='%.2e') #請查看sample3.txt"
   ]
  },
  {
   "cell_type": "code",
   "execution_count": 156,
   "id": "f177f9c0",
   "metadata": {},
   "outputs": [],
   "source": [
    "np.savetxt('source/sample4.txt', a, fmt='%.2f') #請查看sample4.txt"
   ]
  },
  {
   "cell_type": "code",
   "execution_count": 157,
   "id": "e9389efe",
   "metadata": {},
   "outputs": [],
   "source": [
    "np.savetxt('source/sample5.txt', a, fmt='%.3e',\n",
    "          header='this is a header', footer='this is a footer') \n",
    "#請查看sample5.txt"
   ]
  },
  {
   "cell_type": "code",
   "execution_count": 158,
   "id": "1ff384e5",
   "metadata": {},
   "outputs": [],
   "source": [
    "np.savetxt('source/sample6.txt', a, fmt='%.3e',header='this is a header', \n",
    "           footer='this is a footer', comments='>>>') \n",
    "#請查看sample6.txt"
   ]
  },
  {
   "cell_type": "code",
   "execution_count": 159,
   "id": "1115da2e",
   "metadata": {},
   "outputs": [
    {
     "data": {
      "text/plain": [
       "array([[0.38, 0.88, 0.29, 0.47],\n",
       "       [0.61, 0.26, 0.73, 0.01],\n",
       "       [0.67, 0.93, 0.63, 0.84]])"
      ]
     },
     "execution_count": 159,
     "metadata": {},
     "output_type": "execute_result"
    }
   ],
   "source": [
    "np.loadtxt('source/sample4.txt')"
   ]
  },
  {
   "cell_type": "code",
   "execution_count": 160,
   "id": "d078ce25",
   "metadata": {},
   "outputs": [
    {
     "data": {
      "text/plain": [
       "array([[0.38, 0.29],\n",
       "       [0.61, 0.73],\n",
       "       [0.67, 0.63]])"
      ]
     },
     "execution_count": 160,
     "metadata": {},
     "output_type": "execute_result"
    }
   ],
   "source": [
    "np.loadtxt('source/sample4.txt', usecols=(0,2))"
   ]
  },
  {
   "cell_type": "code",
   "execution_count": 161,
   "id": "8b3d7595",
   "metadata": {},
   "outputs": [
    {
     "data": {
      "text/plain": [
       "array([[0.61, 0.26, 0.73, 0.01],\n",
       "       [0.67, 0.93, 0.63, 0.84]])"
      ]
     },
     "execution_count": 161,
     "metadata": {},
     "output_type": "execute_result"
    }
   ],
   "source": [
    "np.loadtxt('source/sample4.txt', skiprows=1) #skiprows=開頭前幾行"
   ]
  },
  {
   "cell_type": "code",
   "execution_count": 162,
   "id": "469c4690",
   "metadata": {
    "scrolled": false
   },
   "outputs": [
    {
     "data": {
      "text/plain": [
       "array([(18, b'female', 154.1, b'No'), (21, b'male', 172.3, b'Yes'),\n",
       "       (22, b'female', 160.8, b'Yes'), (23, b'male', 190.1, b'Yes'),\n",
       "       (25, b'female', 156. , b'No')],\n",
       "      dtype=[('col1', '<i8'), ('col2', 'S10'), ('col3', '<f8'), ('col4', 'S10')])"
      ]
     },
     "execution_count": 162,
     "metadata": {},
     "output_type": "execute_result"
    }
   ],
   "source": [
    "np.loadtxt('foo.csv', dtype=[('col1', 'i8'),\n",
    "                             ('col2', 'S10'),\n",
    "                             ('col3', 'f8'),\n",
    "                             ('col4', 'S10')\n",
    "                            ])"
   ]
  },
  {
   "cell_type": "code",
   "execution_count": 163,
   "id": "6df59446",
   "metadata": {
    "scrolled": true
   },
   "outputs": [
    {
     "data": {
      "text/plain": [
       "[array([18, 21, 22, 23, 25], dtype=int64),\n",
       " array([b'female', b'male', b'female', b'male', b'female'], dtype='|S10'),\n",
       " array([154.1, 172.3, 160.8, 190.1, 156. ]),\n",
       " array([b'No', b'Yes', b'Yes', b'Yes', b'No'], dtype='|S10')]"
      ]
     },
     "execution_count": 163,
     "metadata": {},
     "output_type": "execute_result"
    }
   ],
   "source": [
    "np.loadtxt('foo.csv', dtype=[('col1', 'i8'),\n",
    "                             ('col2', 'S10'),\n",
    "                             ('col3', 'f8'),\n",
    "                             ('col4', 'S10')\n",
    "                            ], unpack=True)"
   ]
  },
  {
   "cell_type": "code",
   "execution_count": 164,
   "id": "1d1ce4a1",
   "metadata": {},
   "outputs": [],
   "source": [
    "age,gender,tall,driver_license=np.loadtxt('foo.csv', dtype=[('col1', 'i8'),\n",
    "                                                                 ('col2', 'S10'),\n",
    "                                                                 ('col3', 'f8'),\n",
    "                                                                 ('col4', 'S10')\n",
    "                                                                ], unpack=True)"
   ]
  },
  {
   "cell_type": "code",
   "execution_count": 165,
   "id": "70aea576",
   "metadata": {},
   "outputs": [
    {
     "data": {
      "text/plain": [
       "array([18, 21, 22, 23, 25], dtype=int64)"
      ]
     },
     "execution_count": 165,
     "metadata": {},
     "output_type": "execute_result"
    }
   ],
   "source": [
    "age"
   ]
  },
  {
   "cell_type": "code",
   "execution_count": 166,
   "id": "3ed7e3b5",
   "metadata": {},
   "outputs": [
    {
     "data": {
      "text/plain": [
       "array([b'female', b'male', b'female', b'male', b'female'], dtype='|S10')"
      ]
     },
     "execution_count": 166,
     "metadata": {},
     "output_type": "execute_result"
    }
   ],
   "source": [
    "gender"
   ]
  },
  {
   "cell_type": "code",
   "execution_count": 167,
   "id": "546ef4c3",
   "metadata": {},
   "outputs": [
    {
     "data": {
      "text/plain": [
       "array([154.1, 172.3, 160.8, 190.1, 156. ])"
      ]
     },
     "execution_count": 167,
     "metadata": {},
     "output_type": "execute_result"
    }
   ],
   "source": [
    "tall"
   ]
  },
  {
   "cell_type": "code",
   "execution_count": 168,
   "id": "33b3432e",
   "metadata": {},
   "outputs": [
    {
     "data": {
      "text/plain": [
       "array([b'No', b'Yes', b'Yes', b'Yes', b'No'], dtype='|S10')"
      ]
     },
     "execution_count": 168,
     "metadata": {},
     "output_type": "execute_result"
    }
   ],
   "source": [
    "driver_license"
   ]
  },
  {
   "cell_type": "code",
   "execution_count": 169,
   "id": "c1ada254",
   "metadata": {},
   "outputs": [],
   "source": [
    "def driver_license(str):\n",
    "    if str == b'Yes':\n",
    "        return 1\n",
    "    else:\n",
    "        return -1"
   ]
  },
  {
   "cell_type": "code",
   "execution_count": 170,
   "id": "a9341e73",
   "metadata": {},
   "outputs": [],
   "source": [
    "def gender(str):\n",
    "    if str == b'male':\n",
    "        return 1\n",
    "    else:\n",
    "        return -1"
   ]
  },
  {
   "cell_type": "code",
   "execution_count": 171,
   "id": "f0c53a46",
   "metadata": {},
   "outputs": [
    {
     "data": {
      "text/plain": [
       "array([[ 18. ,  -1. , 154.1,  -1. ],\n",
       "       [ 21. ,   1. , 172.3,   1. ],\n",
       "       [ 22. ,  -1. , 160.8,   1. ],\n",
       "       [ 23. ,   1. , 190.1,   1. ],\n",
       "       [ 25. ,  -1. , 156. ,  -1. ]])"
      ]
     },
     "execution_count": 171,
     "metadata": {},
     "output_type": "execute_result"
    }
   ],
   "source": [
    "np.loadtxt('foo.csv', converters={1:gender, 3:driver_license})"
   ]
  },
  {
   "cell_type": "markdown",
   "id": "8e8b7c12",
   "metadata": {},
   "source": [
    "# 建立隨機亂數的陣列 - random()"
   ]
  },
  {
   "cell_type": "markdown",
   "id": "cfdaa0b5",
   "metadata": {},
   "source": [
    "np.random.rand(d0, d1, ...dn)\n",
    "\n",
    "np.random.randint(low, high, size, dtype)"
   ]
  },
  {
   "cell_type": "code",
   "execution_count": 172,
   "id": "223743d0",
   "metadata": {},
   "outputs": [],
   "source": [
    "import numpy as np"
   ]
  },
  {
   "cell_type": "code",
   "execution_count": 173,
   "id": "e4b8ced5",
   "metadata": {},
   "outputs": [
    {
     "data": {
      "text/plain": [
       "0.27534036869868517"
      ]
     },
     "execution_count": 173,
     "metadata": {},
     "output_type": "execute_result"
    }
   ],
   "source": [
    "np.random.rand()"
   ]
  },
  {
   "cell_type": "code",
   "execution_count": 174,
   "id": "09cd5231",
   "metadata": {},
   "outputs": [
    {
     "data": {
      "text/plain": [
       "2"
      ]
     },
     "execution_count": 174,
     "metadata": {},
     "output_type": "execute_result"
    }
   ],
   "source": [
    "np.random.randint(10)"
   ]
  },
  {
   "cell_type": "code",
   "execution_count": 175,
   "id": "b2c21c3b",
   "metadata": {},
   "outputs": [
    {
     "data": {
      "text/plain": [
       "array([[0.81681384, 0.26096324, 0.46271943],\n",
       "       [0.2940405 , 0.19868471, 0.85686904]])"
      ]
     },
     "execution_count": 175,
     "metadata": {},
     "output_type": "execute_result"
    }
   ],
   "source": [
    "np.random.rand(2, 3)"
   ]
  },
  {
   "cell_type": "code",
   "execution_count": 176,
   "id": "c180989c",
   "metadata": {},
   "outputs": [
    {
     "data": {
      "text/plain": [
       "array([[6, 9, 7],\n",
       "       [7, 5, 4]])"
      ]
     },
     "execution_count": 176,
     "metadata": {},
     "output_type": "execute_result"
    }
   ],
   "source": [
    "np.random.randint(10, size=(2, 3))"
   ]
  },
  {
   "cell_type": "code",
   "execution_count": 177,
   "id": "fb92fda0",
   "metadata": {},
   "outputs": [
    {
     "data": {
      "text/plain": [
       "array([6, 8, 5, 6, 8, 5, 7, 7, 8, 9])"
      ]
     },
     "execution_count": 177,
     "metadata": {},
     "output_type": "execute_result"
    }
   ],
   "source": [
    "np.random.randint(5, 10, size=10)"
   ]
  },
  {
   "cell_type": "code",
   "execution_count": 178,
   "id": "ddf927b4",
   "metadata": {},
   "outputs": [
    {
     "data": {
      "text/plain": [
       "array([9.09680191, 6.646596  , 9.58068133, 9.44748915, 9.82959767,\n",
       "       8.69775166, 6.92476023, 8.46621515, 5.94590758, 6.76523058])"
      ]
     },
     "execution_count": 178,
     "metadata": {},
     "output_type": "execute_result"
    }
   ],
   "source": [
    "#(stop - start) * np.random.rand() + start 回歸分析\n",
    "(10 - 5) * np.random.rand(10) + 5"
   ]
  },
  {
   "cell_type": "markdown",
   "id": "65c576b8",
   "metadata": {},
   "source": [
    "np.random.seed(seed)\n",
    "\n",
    "np.random模組的亂數產生器在初始化時，會使用一個整數來作爲seed\n",
    "\n",
    "seed不變 random出來的結果就不變"
   ]
  },
  {
   "cell_type": "code",
   "execution_count": 179,
   "id": "a2419bf5",
   "metadata": {},
   "outputs": [],
   "source": [
    "np.random.seed(20)"
   ]
  },
  {
   "cell_type": "code",
   "execution_count": 180,
   "id": "4ce342f2",
   "metadata": {},
   "outputs": [
    {
     "data": {
      "text/plain": [
       "0.5881308010772742"
      ]
     },
     "execution_count": 180,
     "metadata": {},
     "output_type": "execute_result"
    }
   ],
   "source": [
    "np.random.rand()"
   ]
  },
  {
   "cell_type": "code",
   "execution_count": 181,
   "id": "da69ff0c",
   "metadata": {},
   "outputs": [
    {
     "data": {
      "text/plain": [
       "0.5881308010772742"
      ]
     },
     "execution_count": 181,
     "metadata": {},
     "output_type": "execute_result"
    }
   ],
   "source": [
    "np.random.seed(20)\n",
    "np.random.rand()"
   ]
  },
  {
   "cell_type": "markdown",
   "id": "8c4dacac",
   "metadata": {},
   "source": [
    "np.random.choice(a, size, replace=True, p)\n",
    "\n",
    "np.random.choice不僅可以隨機取出元素， 還可用replace來控制是否取出重複的元素"
   ]
  },
  {
   "cell_type": "code",
   "execution_count": 182,
   "id": "8c740fda",
   "metadata": {
    "scrolled": true
   },
   "outputs": [],
   "source": [
    "a = ['Python', 'Ruby', 'Java', 'C++', 'PHP']"
   ]
  },
  {
   "cell_type": "code",
   "execution_count": 183,
   "id": "88d874b1",
   "metadata": {},
   "outputs": [
    {
     "data": {
      "text/plain": [
       "array(['Java', 'Python', 'Java'], dtype='<U6')"
      ]
     },
     "execution_count": 183,
     "metadata": {},
     "output_type": "execute_result"
    }
   ],
   "source": [
    "np.random.seed(4002)\n",
    "np.random.choice(a, 3)"
   ]
  },
  {
   "cell_type": "code",
   "execution_count": 184,
   "id": "8c50c567",
   "metadata": {},
   "outputs": [
    {
     "data": {
      "text/plain": [
       "array(['PHP', 'C++', 'Ruby'], dtype='<U6')"
      ]
     },
     "execution_count": 184,
     "metadata": {},
     "output_type": "execute_result"
    }
   ],
   "source": [
    "np.random.seed(4002)\n",
    "np.random.choice(a, 3, replace=False)"
   ]
  },
  {
   "cell_type": "code",
   "execution_count": 185,
   "id": "e673aa53",
   "metadata": {},
   "outputs": [
    {
     "data": {
      "text/plain": [
       "array(['Python', 'Java', 'C++', 'Python', 'Python', 'Python', 'Python',\n",
       "       'Python', 'Python', 'Python', 'Java', 'PHP', 'Python', 'Java',\n",
       "       'Python', 'Python', 'Python', 'Python', 'Python', 'Python'],\n",
       "      dtype='<U6')"
      ]
     },
     "execution_count": 185,
     "metadata": {},
     "output_type": "execute_result"
    }
   ],
   "source": [
    "np.random.seed(4002)\n",
    "np.random.choice(a, 20, p=[0.75, 0.05, 0.05, 0.05, 0.1]) #各個元素的權重\n",
    "# p的總和 = 1"
   ]
  },
  {
   "cell_type": "code",
   "execution_count": 186,
   "id": "1ce4983b",
   "metadata": {},
   "outputs": [
    {
     "data": {
      "text/plain": [
       "array([2, 0, 2, 3, 0, 1, 1, 2, 1, 3])"
      ]
     },
     "execution_count": 186,
     "metadata": {},
     "output_type": "execute_result"
    }
   ],
   "source": [
    "np.random.seed(4002)\n",
    "np.random.choice(5, 10)\n",
    "# 0 ~ 5"
   ]
  },
  {
   "cell_type": "markdown",
   "id": "dbb58b8b",
   "metadata": {},
   "source": [
    "np.random.shuffle(a)"
   ]
  },
  {
   "cell_type": "code",
   "execution_count": 187,
   "id": "0263fa66",
   "metadata": {},
   "outputs": [
    {
     "data": {
      "text/plain": [
       "array([0, 1, 2, 3, 4, 5, 6, 7, 8, 9])"
      ]
     },
     "execution_count": 187,
     "metadata": {},
     "output_type": "execute_result"
    }
   ],
   "source": [
    "a = np.arange(10)\n",
    "a"
   ]
  },
  {
   "cell_type": "code",
   "execution_count": 188,
   "id": "3ab478c7",
   "metadata": {},
   "outputs": [
    {
     "data": {
      "text/plain": [
       "array([9, 1, 4, 7, 2, 3, 0, 6, 5, 8])"
      ]
     },
     "execution_count": 188,
     "metadata": {},
     "output_type": "execute_result"
    }
   ],
   "source": [
    "np.random.shuffle(a)\n",
    "a"
   ]
  }
 ],
 "metadata": {
  "kernelspec": {
   "display_name": "Python 3 (ipykernel)",
   "language": "python",
   "name": "python3"
  },
  "language_info": {
   "codemirror_mode": {
    "name": "ipython",
    "version": 3
   },
   "file_extension": ".py",
   "mimetype": "text/x-python",
   "name": "python",
   "nbconvert_exporter": "python",
   "pygments_lexer": "ipython3",
   "version": "3.8.8"
  }
 },
 "nbformat": 4,
 "nbformat_minor": 5
}
