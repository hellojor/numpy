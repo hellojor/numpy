{
 "cells": [
  {
   "cell_type": "markdown",
   "id": "874594f8",
   "metadata": {},
   "source": [
    "# 計算相關係數 - corrcoef()\n",
    "\n",
    "    r:correlation coefficients\n",
    "    r = Sxy/(Sx*Sy), -1 <= r <= 1\n",
    "    \n",
    "    np.corrcoef(x, y=None, rowvar=True, bias=_NoValue, ddof=_NoValue)"
   ]
  },
  {
   "cell_type": "code",
   "execution_count": 1,
   "id": "e409dee9",
   "metadata": {},
   "outputs": [],
   "source": [
    "import numpy as np"
   ]
  },
  {
   "cell_type": "code",
   "execution_count": 2,
   "id": "ed00264d",
   "metadata": {},
   "outputs": [],
   "source": [
    "# 兩行的滿分都為 10\n",
    "x = np.array([\n",
    "    [1, 2, 1, 9, 10, 3, 2, 6, 7],\n",
    "    [2, 1, 8, 3, 7, 5, 10, 7, 2]\n",
    "])"
   ]
  },
  {
   "cell_type": "code",
   "execution_count": 3,
   "id": "27ac0502",
   "metadata": {},
   "outputs": [
    {
     "data": {
      "text/plain": [
       "array([[ 1.        , -0.05640533],\n",
       "       [-0.05640533,  1.        ]])"
      ]
     },
     "execution_count": 3,
     "metadata": {},
     "output_type": "execute_result"
    }
   ],
   "source": [
    "np.corrcoef(x)"
   ]
  },
  {
   "cell_type": "code",
   "execution_count": 4,
   "id": "b7e4369d",
   "metadata": {},
   "outputs": [],
   "source": [
    "y = np.array([2, 1, 1, 8, 9, 4, 3, 5, 7])"
   ]
  },
  {
   "cell_type": "code",
   "execution_count": 5,
   "id": "ab158ab9",
   "metadata": {},
   "outputs": [
    {
     "data": {
      "text/plain": [
       "array([[ 1.        , -0.05640533,  0.97094584],\n",
       "       [-0.05640533,  1.        , -0.01315587],\n",
       "       [ 0.97094584, -0.01315587,  1.        ]])"
      ]
     },
     "execution_count": 5,
     "metadata": {},
     "output_type": "execute_result"
    }
   ],
   "source": [
    "np.corrcoef(x, y)"
   ]
  },
  {
   "cell_type": "code",
   "execution_count": 6,
   "id": "b364dcdb",
   "metadata": {
    "scrolled": true
   },
   "outputs": [
    {
     "data": {
      "text/plain": [
       "array([[ 1., -1.,  1., -1., -1.,  1.,  1.,  1., -1.],\n",
       "       [-1.,  1., -1.,  1.,  1., -1., -1., -1.,  1.],\n",
       "       [ 1., -1.,  1., -1., -1.,  1.,  1.,  1., -1.],\n",
       "       [-1.,  1., -1.,  1.,  1., -1., -1., -1.,  1.],\n",
       "       [-1.,  1., -1.,  1.,  1., -1., -1., -1.,  1.],\n",
       "       [ 1., -1.,  1., -1., -1.,  1.,  1.,  1., -1.],\n",
       "       [ 1., -1.,  1., -1., -1.,  1.,  1.,  1., -1.],\n",
       "       [ 1., -1.,  1., -1., -1.,  1.,  1.,  1., -1.],\n",
       "       [-1.,  1., -1.,  1.,  1., -1., -1., -1.,  1.]])"
      ]
     },
     "execution_count": 6,
     "metadata": {},
     "output_type": "execute_result"
    }
   ],
   "source": [
    "np.corrcoef(x, rowvar=False)"
   ]
  },
  {
   "cell_type": "code",
   "execution_count": 7,
   "id": "a0c08804",
   "metadata": {},
   "outputs": [],
   "source": [
    "x_transpose = x.T"
   ]
  },
  {
   "cell_type": "code",
   "execution_count": 8,
   "id": "64152905",
   "metadata": {},
   "outputs": [
    {
     "data": {
      "text/plain": [
       "array([[ 1.        , -0.05640533],\n",
       "       [-0.05640533,  1.        ]])"
      ]
     },
     "execution_count": 8,
     "metadata": {},
     "output_type": "execute_result"
    }
   ],
   "source": [
    "np.corrcoef(x_transpose, rowvar=False)"
   ]
  },
  {
   "cell_type": "code",
   "execution_count": 9,
   "id": "9eab80f2",
   "metadata": {},
   "outputs": [
    {
     "data": {
      "text/plain": [
       "array([[ 1., -1.,  1., -1., -1.,  1.,  1.,  1., -1.],\n",
       "       [-1.,  1., -1.,  1.,  1., -1., -1., -1.,  1.],\n",
       "       [ 1., -1.,  1., -1., -1.,  1.,  1.,  1., -1.],\n",
       "       [-1.,  1., -1.,  1.,  1., -1., -1., -1.,  1.],\n",
       "       [-1.,  1., -1.,  1.,  1., -1., -1., -1.,  1.],\n",
       "       [ 1., -1.,  1., -1., -1.,  1.,  1.,  1., -1.],\n",
       "       [ 1., -1.,  1., -1., -1.,  1.,  1.,  1., -1.],\n",
       "       [ 1., -1.,  1., -1., -1.,  1.,  1.,  1., -1.],\n",
       "       [-1.,  1., -1.,  1.,  1., -1., -1., -1.,  1.]])"
      ]
     },
     "execution_count": 9,
     "metadata": {},
     "output_type": "execute_result"
    }
   ],
   "source": [
    "np.corrcoef(x_transpose, rowvar=True)"
   ]
  }
 ],
 "metadata": {
  "kernelspec": {
   "display_name": "Python 3 (ipykernel)",
   "language": "python",
   "name": "python3"
  },
  "language_info": {
   "codemirror_mode": {
    "name": "ipython",
    "version": 3
   },
   "file_extension": ".py",
   "mimetype": "text/x-python",
   "name": "python",
   "nbconvert_exporter": "python",
   "pygments_lexer": "ipython3",
   "version": "3.8.8"
  }
 },
 "nbformat": 4,
 "nbformat_minor": 5
}
