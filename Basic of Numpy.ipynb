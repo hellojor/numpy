{
 "cells": [
  {
   "cell_type": "markdown",
   "id": "7ff52267",
   "metadata": {},
   "source": [
    "## 認識numpy"
   ]
  },
  {
   "cell_type": "code",
   "execution_count": 1,
   "id": "b64fe215",
   "metadata": {},
   "outputs": [],
   "source": [
    "import numpy as np"
   ]
  },
  {
   "cell_type": "code",
   "execution_count": 51,
   "id": "2cc96c36",
   "metadata": {},
   "outputs": [
    {
     "data": {
      "text/plain": [
       "array([ 1,  2,  3,  4,  5,  6,  7,  8,  9, 10])"
      ]
     },
     "execution_count": 51,
     "metadata": {},
     "output_type": "execute_result"
    }
   ],
   "source": [
    "a = np.array([1, 2, 3, 4, 5, 6, 7, 8, 9, 10])\n",
    "a"
   ]
  },
  {
   "cell_type": "code",
   "execution_count": 2,
   "id": "58f7cdfe",
   "metadata": {},
   "outputs": [],
   "source": [
    "a = np.arange(1, 11, 1, dtype='float32') \n",
    "# just like for loop to build a few continous digital in a ndarrray \n",
    "# dtype can control its type which in this ndarray"
   ]
  },
  {
   "cell_type": "code",
   "execution_count": 3,
   "id": "ea2744e6",
   "metadata": {},
   "outputs": [
    {
     "data": {
      "text/plain": [
       "array([ 1.,  2.,  3.,  4.,  5.,  6.,  7.,  8.,  9., 10.], dtype=float32)"
      ]
     },
     "execution_count": 3,
     "metadata": {},
     "output_type": "execute_result"
    }
   ],
   "source": [
    "a"
   ]
  },
  {
   "cell_type": "code",
   "execution_count": 4,
   "id": "b5232b81",
   "metadata": {},
   "outputs": [
    {
     "data": {
      "text/plain": [
       "array([ 3.,  6.,  9., 12., 15., 18., 21., 24., 27., 30.], dtype=float32)"
      ]
     },
     "execution_count": 4,
     "metadata": {},
     "output_type": "execute_result"
    }
   ],
   "source": [
    "a * 3"
   ]
  },
  {
   "cell_type": "code",
   "execution_count": 5,
   "id": "edec83ad",
   "metadata": {
    "scrolled": true
   },
   "outputs": [
    {
     "data": {
      "text/plain": [
       "array([ 4.,  5.,  6.,  7.,  8.,  9., 10., 11., 12., 13.], dtype=float32)"
      ]
     },
     "execution_count": 5,
     "metadata": {},
     "output_type": "execute_result"
    }
   ],
   "source": [
    "a + 3"
   ]
  },
  {
   "cell_type": "code",
   "execution_count": 6,
   "id": "8eead01e",
   "metadata": {},
   "outputs": [
    {
     "data": {
      "text/plain": [
       "(10,)"
      ]
     },
     "execution_count": 6,
     "metadata": {},
     "output_type": "execute_result"
    }
   ],
   "source": [
    "a.shape"
   ]
  },
  {
   "cell_type": "code",
   "execution_count": 7,
   "id": "7d465925",
   "metadata": {},
   "outputs": [],
   "source": [
    "a = a.reshape(5, 2) # or a = a.reshape(5, -1)"
   ]
  },
  {
   "cell_type": "code",
   "execution_count": 8,
   "id": "cf4a6039",
   "metadata": {},
   "outputs": [
    {
     "data": {
      "text/plain": [
       "array([[ 1.,  2.],\n",
       "       [ 3.,  4.],\n",
       "       [ 5.,  6.],\n",
       "       [ 7.,  8.],\n",
       "       [ 9., 10.]], dtype=float32)"
      ]
     },
     "execution_count": 8,
     "metadata": {},
     "output_type": "execute_result"
    }
   ],
   "source": [
    "a"
   ]
  },
  {
   "cell_type": "code",
   "execution_count": 9,
   "id": "f49ca1e5",
   "metadata": {},
   "outputs": [
    {
     "data": {
      "text/plain": [
       "(5, 2)"
      ]
     },
     "execution_count": 9,
     "metadata": {},
     "output_type": "execute_result"
    }
   ],
   "source": [
    "a.shape"
   ]
  },
  {
   "cell_type": "markdown",
   "id": "a19ea3c1",
   "metadata": {},
   "source": [
    "## 真實例子來感受numpy對於運算速度的提升"
   ]
  },
  {
   "cell_type": "code",
   "execution_count": 10,
   "id": "f10aa5aa",
   "metadata": {},
   "outputs": [],
   "source": [
    "import time"
   ]
  },
  {
   "cell_type": "code",
   "execution_count": 11,
   "id": "939fec3b",
   "metadata": {},
   "outputs": [],
   "source": [
    "def run():\n",
    "    start_time = time.time()\n",
    "    np_buff = np.random.randn(10000)\n",
    "    list_buff = list(np_buff)\n",
    "    for _ in range(1000):\n",
    "        s = np.sum(np_buff)\n",
    "    print('Usage time of Numpy is %f second' % (time.time() - start_time))\n",
    "    start_time = time.time()\n",
    "    for _ in range(1000):\n",
    "        s = sum(list_buff)\n",
    "    print('Usage time of not with Numpy is %f second' % (time.time() - start_time))"
   ]
  },
  {
   "cell_type": "code",
   "execution_count": 12,
   "id": "048e8da1",
   "metadata": {},
   "outputs": [
    {
     "name": "stdout",
     "output_type": "stream",
     "text": [
      "Usage time of Numpy is 0.006982 second\n",
      "Usage time of not with Numpy is 0.307172 second\n"
     ]
    }
   ],
   "source": [
    "run()"
   ]
  },
  {
   "cell_type": "markdown",
   "id": "af19e28f",
   "metadata": {},
   "source": [
    "    上述例子證實使用numpy來運算可提高效率"
   ]
  },
  {
   "cell_type": "code",
   "execution_count": 13,
   "id": "51f2df6f",
   "metadata": {
    "scrolled": true
   },
   "outputs": [
    {
     "data": {
      "text/plain": [
       "2"
      ]
     },
     "execution_count": 13,
     "metadata": {},
     "output_type": "execute_result"
    }
   ],
   "source": [
    "a.ndim # shape = (5, 2) -> 2D"
   ]
  },
  {
   "cell_type": "code",
   "execution_count": 14,
   "id": "b12cfb4b",
   "metadata": {},
   "outputs": [
    {
     "data": {
      "text/plain": [
       "array([[ 1.,  3.,  5.,  7.,  9.],\n",
       "       [ 2.,  4.,  6.,  8., 10.]], dtype=float32)"
      ]
     },
     "execution_count": 14,
     "metadata": {},
     "output_type": "execute_result"
    }
   ],
   "source": [
    "a.T"
   ]
  },
  {
   "cell_type": "code",
   "execution_count": 15,
   "id": "686fc254",
   "metadata": {},
   "outputs": [
    {
     "data": {
      "text/plain": [
       "dtype('float32')"
      ]
     },
     "execution_count": 15,
     "metadata": {},
     "output_type": "execute_result"
    }
   ],
   "source": [
    "a.dtype"
   ]
  },
  {
   "cell_type": "code",
   "execution_count": 16,
   "id": "46495b8b",
   "metadata": {},
   "outputs": [
    {
     "data": {
      "text/plain": [
       "<memory at 0x0000015FBCA906C0>"
      ]
     },
     "execution_count": 16,
     "metadata": {},
     "output_type": "execute_result"
    }
   ],
   "source": [
    "a.data ##"
   ]
  },
  {
   "cell_type": "code",
   "execution_count": 17,
   "id": "accbc543",
   "metadata": {},
   "outputs": [
    {
     "data": {
      "text/plain": [
       "numpy.flatiter"
      ]
     },
     "execution_count": 17,
     "metadata": {},
     "output_type": "execute_result"
    }
   ],
   "source": [
    "buff = a.flat ##\n",
    "type(buff)"
   ]
  },
  {
   "cell_type": "code",
   "execution_count": 18,
   "id": "3c81a789",
   "metadata": {},
   "outputs": [
    {
     "name": "stdout",
     "output_type": "stream",
     "text": [
      "1.0\n",
      "2.0\n",
      "3.0\n",
      "4.0\n",
      "5.0\n",
      "6.0\n",
      "7.0\n",
      "8.0\n",
      "9.0\n",
      "10.0\n"
     ]
    }
   ],
   "source": [
    "for i in buff: ##\n",
    "    print(i)"
   ]
  },
  {
   "cell_type": "code",
   "execution_count": 19,
   "id": "a402e63a",
   "metadata": {},
   "outputs": [
    {
     "data": {
      "text/plain": [
       "10"
      ]
     },
     "execution_count": 19,
     "metadata": {},
     "output_type": "execute_result"
    }
   ],
   "source": [
    "a.size"
   ]
  },
  {
   "cell_type": "code",
   "execution_count": 20,
   "id": "91e31b0b",
   "metadata": {},
   "outputs": [
    {
     "data": {
      "text/plain": [
       "4"
      ]
     },
     "execution_count": 20,
     "metadata": {},
     "output_type": "execute_result"
    }
   ],
   "source": [
    "a.itemsize # 32 bits"
   ]
  },
  {
   "cell_type": "code",
   "execution_count": 21,
   "id": "d69dafa0",
   "metadata": {},
   "outputs": [
    {
     "data": {
      "text/plain": [
       "40"
      ]
     },
     "execution_count": 21,
     "metadata": {},
     "output_type": "execute_result"
    }
   ],
   "source": [
    "a.nbytes ##"
   ]
  },
  {
   "cell_type": "code",
   "execution_count": 22,
   "id": "20ba93b5",
   "metadata": {},
   "outputs": [
    {
     "data": {
      "text/plain": [
       "(8, 4)"
      ]
     },
     "execution_count": 22,
     "metadata": {},
     "output_type": "execute_result"
    }
   ],
   "source": [
    "a.strides ##"
   ]
  },
  {
   "cell_type": "code",
   "execution_count": 23,
   "id": "9f07b468",
   "metadata": {},
   "outputs": [
    {
     "data": {
      "text/plain": [
       "array([ 3.,  7., 11., 15., 19.], dtype=float32)"
      ]
     },
     "execution_count": 23,
     "metadata": {},
     "output_type": "execute_result"
    }
   ],
   "source": [
    "a.sum(axis=1)"
   ]
  },
  {
   "cell_type": "code",
   "execution_count": 24,
   "id": "07cca6e6",
   "metadata": {},
   "outputs": [
    {
     "data": {
      "text/plain": [
       "array([3.e+50, 4.e+46])"
      ]
     },
     "execution_count": 24,
     "metadata": {},
     "output_type": "execute_result"
    }
   ],
   "source": [
    "np.array([3e50, 4e46], dtype='float64')"
   ]
  },
  {
   "cell_type": "markdown",
   "id": "a32b0069",
   "metadata": {},
   "source": [
    "# ndarray(Slicing)切片操作\n",
    "    ndarray[start:stop:step]"
   ]
  },
  {
   "cell_type": "markdown",
   "id": "9dbe3f38",
   "metadata": {},
   "source": [
    "1D"
   ]
  },
  {
   "cell_type": "code",
   "execution_count": 25,
   "id": "ee41936b",
   "metadata": {},
   "outputs": [],
   "source": [
    "a = np.arange(10)"
   ]
  },
  {
   "cell_type": "code",
   "execution_count": 26,
   "id": "474283f0",
   "metadata": {},
   "outputs": [
    {
     "data": {
      "text/plain": [
       "(array([0, 1, 2, 3, 4, 5, 6, 7, 8, 9]), array([0, 1, 2, 3, 4, 5, 6, 7, 8, 9]))"
      ]
     },
     "execution_count": 26,
     "metadata": {},
     "output_type": "execute_result"
    }
   ],
   "source": [
    "a, a[:]"
   ]
  },
  {
   "cell_type": "code",
   "execution_count": 27,
   "id": "14cc5d0c",
   "metadata": {},
   "outputs": [
    {
     "data": {
      "text/plain": [
       "array([1, 2, 3, 4])"
      ]
     },
     "execution_count": 27,
     "metadata": {},
     "output_type": "execute_result"
    }
   ],
   "source": [
    "a[1:5]"
   ]
  },
  {
   "cell_type": "code",
   "execution_count": 28,
   "id": "dbcba44e",
   "metadata": {},
   "outputs": [
    {
     "data": {
      "text/plain": [
       "array([2, 4, 6])"
      ]
     },
     "execution_count": 28,
     "metadata": {},
     "output_type": "execute_result"
    }
   ],
   "source": [
    "a[2:8:2]"
   ]
  },
  {
   "cell_type": "code",
   "execution_count": 29,
   "id": "943de3d1",
   "metadata": {},
   "outputs": [
    {
     "data": {
      "text/plain": [
       "array([9, 8, 7, 6, 5, 4, 3, 2, 1, 0])"
      ]
     },
     "execution_count": 29,
     "metadata": {},
     "output_type": "execute_result"
    }
   ],
   "source": [
    "a[::-1]"
   ]
  },
  {
   "cell_type": "code",
   "execution_count": 30,
   "id": "52331fa0",
   "metadata": {},
   "outputs": [
    {
     "data": {
      "text/plain": [
       "(array([0, 1, 2, 3, 4]), array([5, 6, 7, 8, 9]))"
      ]
     },
     "execution_count": 30,
     "metadata": {},
     "output_type": "execute_result"
    }
   ],
   "source": [
    "a[:5],a[5:]"
   ]
  },
  {
   "cell_type": "markdown",
   "id": "4fe8c088",
   "metadata": {},
   "source": [
    "2D "
   ]
  },
  {
   "cell_type": "code",
   "execution_count": 31,
   "id": "1ec33b53",
   "metadata": {},
   "outputs": [],
   "source": [
    "a = np.arange(20).reshape(4, 5)"
   ]
  },
  {
   "cell_type": "code",
   "execution_count": 32,
   "id": "d5f1c400",
   "metadata": {},
   "outputs": [
    {
     "data": {
      "text/plain": [
       "array([[ 0,  1,  2,  3,  4],\n",
       "       [ 5,  6,  7,  8,  9],\n",
       "       [10, 11, 12, 13, 14],\n",
       "       [15, 16, 17, 18, 19]])"
      ]
     },
     "execution_count": 32,
     "metadata": {},
     "output_type": "execute_result"
    }
   ],
   "source": [
    "a"
   ]
  },
  {
   "cell_type": "code",
   "execution_count": 33,
   "id": "f698e974",
   "metadata": {},
   "outputs": [
    {
     "data": {
      "text/plain": [
       "(array([[ 5,  6,  7,  8,  9],\n",
       "        [10, 11, 12, 13, 14],\n",
       "        [15, 16, 17, 18, 19]]),\n",
       " array([[ 7,  8],\n",
       "        [12, 13],\n",
       "        [17, 18]]))"
      ]
     },
     "execution_count": 33,
     "metadata": {},
     "output_type": "execute_result"
    }
   ],
   "source": [
    "a[1:], a[1:,2:4]"
   ]
  },
  {
   "cell_type": "code",
   "execution_count": 34,
   "id": "0da079d0",
   "metadata": {},
   "outputs": [
    {
     "data": {
      "text/plain": [
       "array([[ 5,  7,  9],\n",
       "       [10, 12, 14],\n",
       "       [15, 17, 19]])"
      ]
     },
     "execution_count": 34,
     "metadata": {},
     "output_type": "execute_result"
    }
   ],
   "source": [
    "a[1:,::2]"
   ]
  },
  {
   "cell_type": "markdown",
   "id": "184134d3",
   "metadata": {},
   "source": [
    "## 陣列擴張(Broadcasting)\n",
    "    規則1：如果兩個陣列的軸數(ndim)不相同、軸數較少的陣列會加入新的軸，具體做法是在shape的【左邊】補1\n",
    "    規則2：如果兩個陣列的軸數(ndim)相同，則會【一一】比對各軸的維度，若另一軸的維度匹配。萬一任一軸的維度都不是1維，則無法進行擴張，會傳回錯誤信息。"
   ]
  },
  {
   "cell_type": "code",
   "execution_count": 35,
   "id": "0d476c4a",
   "metadata": {},
   "outputs": [],
   "source": [
    "a = np.array([[1, 2], [5, 6]])"
   ]
  },
  {
   "cell_type": "code",
   "execution_count": 36,
   "id": "70c776c1",
   "metadata": {},
   "outputs": [],
   "source": [
    "b = np.array([3, 4])"
   ]
  },
  {
   "cell_type": "code",
   "execution_count": 37,
   "id": "579d82b7",
   "metadata": {},
   "outputs": [
    {
     "data": {
      "text/plain": [
       "((2, 2), (2,))"
      ]
     },
     "execution_count": 37,
     "metadata": {},
     "output_type": "execute_result"
    }
   ],
   "source": [
    "a.shape, b.shape"
   ]
  },
  {
   "cell_type": "code",
   "execution_count": 38,
   "id": "13323226",
   "metadata": {},
   "outputs": [
    {
     "data": {
      "text/plain": [
       "array([[ 4,  6],\n",
       "       [ 8, 10]])"
      ]
     },
     "execution_count": 38,
     "metadata": {},
     "output_type": "execute_result"
    }
   ],
   "source": [
    "a + b"
   ]
  },
  {
   "cell_type": "code",
   "execution_count": 39,
   "id": "be7a11a2",
   "metadata": {},
   "outputs": [],
   "source": [
    "c = np.array([[1, 2, 3], [4, 5, 6]])"
   ]
  },
  {
   "cell_type": "code",
   "execution_count": 40,
   "id": "a065c901",
   "metadata": {},
   "outputs": [
    {
     "data": {
      "text/plain": [
       "((2, 2), (2, 3))"
      ]
     },
     "execution_count": 40,
     "metadata": {},
     "output_type": "execute_result"
    }
   ],
   "source": [
    "a.shape, c.shape"
   ]
  },
  {
   "cell_type": "code",
   "execution_count": 41,
   "id": "2b74bc18",
   "metadata": {},
   "outputs": [],
   "source": [
    "#a + c #error"
   ]
  },
  {
   "cell_type": "markdown",
   "id": "974e540c",
   "metadata": {},
   "source": [
    "    狀況一：(1, 4, 3) <-> (2, 4, 3)\n",
    "\n",
    "    狀況二：(2, 1, 3) <-> (2, 4, 3)\n",
    "\n",
    "    狀況三：(2, 4, 1) <-> (2, 4, 3)\n",
    "\n",
    "    狀況四：(2, 1, 1) <-> (2, 4, 3)\n",
    "\n",
    "    狀況五：(1, 1, 1) <-> (2, 4, 3)\n",
    "    \n",
    "    其他狀況(若任一軸的維度不同且兩者都不是1維)無法擴張運算"
   ]
  },
  {
   "cell_type": "code",
   "execution_count": 42,
   "id": "075882a9",
   "metadata": {},
   "outputs": [],
   "source": [
    "a = np.arange(24).reshape(2, 4, 3)\n",
    "b = np.arange(12).reshape(1, 4, 3)"
   ]
  },
  {
   "cell_type": "code",
   "execution_count": 43,
   "id": "3992880e",
   "metadata": {
    "scrolled": true
   },
   "outputs": [
    {
     "data": {
      "text/plain": [
       "array([[[ 0,  1,  2],\n",
       "        [ 3,  4,  5],\n",
       "        [ 6,  7,  8],\n",
       "        [ 9, 10, 11]],\n",
       "\n",
       "       [[12, 13, 14],\n",
       "        [15, 16, 17],\n",
       "        [18, 19, 20],\n",
       "        [21, 22, 23]]])"
      ]
     },
     "execution_count": 43,
     "metadata": {},
     "output_type": "execute_result"
    }
   ],
   "source": [
    "a"
   ]
  },
  {
   "cell_type": "code",
   "execution_count": 44,
   "id": "0e06cb4f",
   "metadata": {
    "scrolled": true
   },
   "outputs": [
    {
     "data": {
      "text/plain": [
       "array([[[ 0,  1,  2],\n",
       "        [ 3,  4,  5],\n",
       "        [ 6,  7,  8],\n",
       "        [ 9, 10, 11]]])"
      ]
     },
     "execution_count": 44,
     "metadata": {},
     "output_type": "execute_result"
    }
   ],
   "source": [
    "b"
   ]
  },
  {
   "cell_type": "code",
   "execution_count": 45,
   "id": "8135641f",
   "metadata": {},
   "outputs": [
    {
     "data": {
      "text/plain": [
       "(array([[[ 0,  2,  4],\n",
       "         [ 6,  8, 10],\n",
       "         [12, 14, 16],\n",
       "         [18, 20, 22]],\n",
       " \n",
       "        [[12, 14, 16],\n",
       "         [18, 20, 22],\n",
       "         [24, 26, 28],\n",
       "         [30, 32, 34]]]),\n",
       " (2, 4, 3))"
      ]
     },
     "execution_count": 45,
     "metadata": {},
     "output_type": "execute_result"
    }
   ],
   "source": [
    "a + b, (a+b).shape"
   ]
  },
  {
   "cell_type": "code",
   "execution_count": 48,
   "id": "b760d56a",
   "metadata": {
    "scrolled": false
   },
   "outputs": [
    {
     "data": {
      "text/plain": [
       "array([[[ 0,  1,  2],\n",
       "        [ 3,  4,  5],\n",
       "        [ 6,  7,  8],\n",
       "        [ 9, 10, 11]],\n",
       "\n",
       "       [[12, 13, 14],\n",
       "        [15, 16, 17],\n",
       "        [18, 19, 20],\n",
       "        [21, 22, 23]]])"
      ]
     },
     "execution_count": 48,
     "metadata": {},
     "output_type": "execute_result"
    }
   ],
   "source": [
    "b = np.arange(6).reshape(2, 1, 3)\n",
    "a"
   ]
  },
  {
   "cell_type": "code",
   "execution_count": 49,
   "id": "b87a8ad0",
   "metadata": {},
   "outputs": [
    {
     "data": {
      "text/plain": [
       "array([[[0, 1, 2]],\n",
       "\n",
       "       [[3, 4, 5]]])"
      ]
     },
     "execution_count": 49,
     "metadata": {},
     "output_type": "execute_result"
    }
   ],
   "source": [
    "b"
   ]
  },
  {
   "cell_type": "code",
   "execution_count": 47,
   "id": "4dab7c17",
   "metadata": {
    "scrolled": true
   },
   "outputs": [
    {
     "data": {
      "text/plain": [
       "array([[[ 0,  2,  4],\n",
       "        [ 3,  5,  7],\n",
       "        [ 6,  8, 10],\n",
       "        [ 9, 11, 13]],\n",
       "\n",
       "       [[15, 17, 19],\n",
       "        [18, 20, 22],\n",
       "        [21, 23, 25],\n",
       "        [24, 26, 28]]])"
      ]
     },
     "execution_count": 47,
     "metadata": {},
     "output_type": "execute_result"
    }
   ],
   "source": [
    "a + b"
   ]
  }
 ],
 "metadata": {
  "kernelspec": {
   "display_name": "Python 3 (ipykernel)",
   "language": "python",
   "name": "python3"
  },
  "language_info": {
   "codemirror_mode": {
    "name": "ipython",
    "version": 3
   },
   "file_extension": ".py",
   "mimetype": "text/x-python",
   "name": "python",
   "nbconvert_exporter": "python",
   "pygments_lexer": "ipython3",
   "version": "3.8.8"
  }
 },
 "nbformat": 4,
 "nbformat_minor": 5
}
