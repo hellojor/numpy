{
 "cells": [
  {
   "cell_type": "markdown",
   "id": "741d646c",
   "metadata": {},
   "source": [
    "# 陣列的儲存與讀取 - save() 與 load()\n",
    "\n",
    "    np.save(file, arr, allow_pickle=True, fix_imports=True)\n",
    "\n",
    "    np.load(file, mmap_mode=None, allow_pickle=True, fix_imports=True,\n",
    "    encoding='ASCII)\n",
    "\n",
    "    file type : .npy, binary\n",
    "    \n",
    "    缺點:無法兼容于python以外的程式語言或軟體工具"
   ]
  },
  {
   "cell_type": "code",
   "execution_count": 1,
   "id": "7145087c",
   "metadata": {},
   "outputs": [],
   "source": [
    "import numpy as np"
   ]
  },
  {
   "cell_type": "code",
   "execution_count": 2,
   "id": "aa8a0869",
   "metadata": {},
   "outputs": [
    {
     "data": {
      "text/plain": [
       "array([[0.58834794, 0.82876506, 0.99277868, ..., 0.87697399, 0.36199927,\n",
       "        0.98477784],\n",
       "       [0.07637616, 0.96949979, 0.30984029, ..., 0.72316072, 0.93222199,\n",
       "        0.34663967],\n",
       "       [0.34043155, 0.82723488, 0.58997219, ..., 0.01262461, 0.80428561,\n",
       "        0.82448523],\n",
       "       ...,\n",
       "       [0.7736336 , 0.41227625, 0.19257361, ..., 0.77011223, 0.92219852,\n",
       "        0.26765764],\n",
       "       [0.9462471 , 0.8763569 , 0.5722731 , ..., 0.41737282, 0.37367837,\n",
       "        0.29407442],\n",
       "       [0.57086679, 0.34573638, 0.83115788, ..., 0.53628882, 0.83041   ,\n",
       "        0.2441884 ]])"
      ]
     },
     "execution_count": 2,
     "metadata": {},
     "output_type": "execute_result"
    }
   ],
   "source": [
    "a = np.random.rand(1200*1000).reshape(1200, -1)\n",
    "a"
   ]
  },
  {
   "cell_type": "code",
   "execution_count": 3,
   "id": "8c85440d",
   "metadata": {},
   "outputs": [],
   "source": [
    "np.save('../output_file/a', a)"
   ]
  },
  {
   "cell_type": "code",
   "execution_count": 4,
   "id": "9382d4b9",
   "metadata": {},
   "outputs": [
    {
     "data": {
      "text/plain": [
       "array([[0.58834794, 0.82876506, 0.99277868, ..., 0.87697399, 0.36199927,\n",
       "        0.98477784],\n",
       "       [0.07637616, 0.96949979, 0.30984029, ..., 0.72316072, 0.93222199,\n",
       "        0.34663967],\n",
       "       [0.34043155, 0.82723488, 0.58997219, ..., 0.01262461, 0.80428561,\n",
       "        0.82448523],\n",
       "       ...,\n",
       "       [0.7736336 , 0.41227625, 0.19257361, ..., 0.77011223, 0.92219852,\n",
       "        0.26765764],\n",
       "       [0.9462471 , 0.8763569 , 0.5722731 , ..., 0.41737282, 0.37367837,\n",
       "        0.29407442],\n",
       "       [0.57086679, 0.34573638, 0.83115788, ..., 0.53628882, 0.83041   ,\n",
       "        0.2441884 ]])"
      ]
     },
     "execution_count": 4,
     "metadata": {},
     "output_type": "execute_result"
    }
   ],
   "source": [
    "b = np.load('../output_file/a.npy')\n",
    "b"
   ]
  },
  {
   "cell_type": "code",
   "execution_count": 5,
   "id": "e8bed52b",
   "metadata": {},
   "outputs": [
    {
     "data": {
      "text/plain": [
       "(1200, 1000)"
      ]
     },
     "execution_count": 5,
     "metadata": {},
     "output_type": "execute_result"
    }
   ],
   "source": [
    "b.shape"
   ]
  }
 ],
 "metadata": {
  "kernelspec": {
   "display_name": "Python 3 (ipykernel)",
   "language": "python",
   "name": "python3"
  },
  "language_info": {
   "codemirror_mode": {
    "name": "ipython",
    "version": 3
   },
   "file_extension": ".py",
   "mimetype": "text/x-python",
   "name": "python",
   "nbconvert_exporter": "python",
   "pygments_lexer": "ipython3",
   "version": "3.8.8"
  }
 },
 "nbformat": 4,
 "nbformat_minor": 5
}
