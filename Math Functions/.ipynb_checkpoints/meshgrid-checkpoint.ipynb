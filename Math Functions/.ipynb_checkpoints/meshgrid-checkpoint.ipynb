{
 "cells": [
  {
   "cell_type": "markdown",
   "id": "040f6f72",
   "metadata": {},
   "source": [
    "# 網格陣列 - meshgrid()\n",
    "\n",
    "    np.meshgrid(x1, x2, ..., indexing='xy', sparse=False, copy=True)"
   ]
  },
  {
   "cell_type": "code",
   "execution_count": 1,
   "id": "18ffd79b",
   "metadata": {},
   "outputs": [],
   "source": [
    "import numpy as np"
   ]
  },
  {
   "cell_type": "code",
   "execution_count": 2,
   "id": "be9a66df",
   "metadata": {},
   "outputs": [],
   "source": [
    "a = np.array([0, 1, 2])\n",
    "b = np.array([4, 0])"
   ]
  },
  {
   "cell_type": "code",
   "execution_count": 3,
   "id": "73e1ec1a",
   "metadata": {},
   "outputs": [],
   "source": [
    "aa, bb = np.meshgrid(a, b)"
   ]
  },
  {
   "cell_type": "code",
   "execution_count": 4,
   "id": "644777cb",
   "metadata": {},
   "outputs": [
    {
     "data": {
      "text/plain": [
       "array([[0, 1, 2],\n",
       "       [0, 1, 2]])"
      ]
     },
     "execution_count": 4,
     "metadata": {},
     "output_type": "execute_result"
    }
   ],
   "source": [
    "aa"
   ]
  },
  {
   "cell_type": "code",
   "execution_count": 5,
   "id": "9a55b7e6",
   "metadata": {},
   "outputs": [
    {
     "data": {
      "text/plain": [
       "array([[4, 4, 4],\n",
       "       [0, 0, 0]])"
      ]
     },
     "execution_count": 5,
     "metadata": {},
     "output_type": "execute_result"
    }
   ],
   "source": [
    "bb"
   ]
  },
  {
   "cell_type": "code",
   "execution_count": 6,
   "id": "e85c6394",
   "metadata": {},
   "outputs": [],
   "source": [
    "aa2, bb2 = np.meshgrid(a, b, indexing='xy')"
   ]
  },
  {
   "cell_type": "code",
   "execution_count": 7,
   "id": "afefc6da",
   "metadata": {},
   "outputs": [
    {
     "data": {
      "text/plain": [
       "array([[0, 1, 2],\n",
       "       [0, 1, 2]])"
      ]
     },
     "execution_count": 7,
     "metadata": {},
     "output_type": "execute_result"
    }
   ],
   "source": [
    "aa2"
   ]
  },
  {
   "cell_type": "code",
   "execution_count": 8,
   "id": "f6388081",
   "metadata": {},
   "outputs": [
    {
     "data": {
      "text/plain": [
       "array([[4, 4, 4],\n",
       "       [0, 0, 0]])"
      ]
     },
     "execution_count": 8,
     "metadata": {},
     "output_type": "execute_result"
    }
   ],
   "source": [
    "bb2"
   ]
  },
  {
   "cell_type": "code",
   "execution_count": 9,
   "id": "87d57d28",
   "metadata": {},
   "outputs": [],
   "source": [
    "aa3, bb3 = np.meshgrid(a, b, indexing='ij') # In pratice,'ij' == 'yx'"
   ]
  },
  {
   "cell_type": "code",
   "execution_count": 10,
   "id": "1adc1dbc",
   "metadata": {},
   "outputs": [
    {
     "data": {
      "text/plain": [
       "array([[0, 0],\n",
       "       [1, 1],\n",
       "       [2, 2]])"
      ]
     },
     "execution_count": 10,
     "metadata": {},
     "output_type": "execute_result"
    }
   ],
   "source": [
    "aa3"
   ]
  },
  {
   "cell_type": "code",
   "execution_count": 11,
   "id": "ed9b1003",
   "metadata": {},
   "outputs": [
    {
     "data": {
      "text/plain": [
       "array([[4, 0],\n",
       "       [4, 0],\n",
       "       [4, 0]])"
      ]
     },
     "execution_count": 11,
     "metadata": {},
     "output_type": "execute_result"
    }
   ],
   "source": [
    "bb3"
   ]
  },
  {
   "cell_type": "code",
   "execution_count": 12,
   "id": "4777e6af",
   "metadata": {},
   "outputs": [],
   "source": [
    "aa4, bb4 = np.meshgrid(a, b, sparse=True)"
   ]
  },
  {
   "cell_type": "code",
   "execution_count": 13,
   "id": "4311ff59",
   "metadata": {},
   "outputs": [
    {
     "data": {
      "text/plain": [
       "array([[0, 1, 2]])"
      ]
     },
     "execution_count": 13,
     "metadata": {},
     "output_type": "execute_result"
    }
   ],
   "source": [
    "aa4"
   ]
  },
  {
   "cell_type": "code",
   "execution_count": 14,
   "id": "d70a4b16",
   "metadata": {},
   "outputs": [
    {
     "data": {
      "text/plain": [
       "array([[4],\n",
       "       [0]])"
      ]
     },
     "execution_count": 14,
     "metadata": {},
     "output_type": "execute_result"
    }
   ],
   "source": [
    "bb4"
   ]
  }
 ],
 "metadata": {
  "kernelspec": {
   "display_name": "Python 3 (ipykernel)",
   "language": "python",
   "name": "python3"
  },
  "language_info": {
   "codemirror_mode": {
    "name": "ipython",
    "version": 3
   },
   "file_extension": ".py",
   "mimetype": "text/x-python",
   "name": "python",
   "nbconvert_exporter": "python",
   "pygments_lexer": "ipython3",
   "version": "3.8.8"
  }
 },
 "nbformat": 4,
 "nbformat_minor": 5
}
