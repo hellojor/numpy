{
 "cells": [
  {
   "cell_type": "markdown",
   "id": "57c0e087",
   "metadata": {},
   "source": [
    "# 陣列合并 - np.r_ 與 np.c_ 物件\n",
    "\n",
    "    np.r_ 與 np.c_ 同樣具有合并陣列的用途(like np.hstack(), np.vstack())\n",
    "    不過他們的功能不僅用於合并，還可像np.arange()一樣切片來建立陣列"
   ]
  },
  {
   "cell_type": "code",
   "execution_count": 1,
   "id": "8d5a7bf2",
   "metadata": {},
   "outputs": [],
   "source": [
    "import numpy as np"
   ]
  },
  {
   "cell_type": "markdown",
   "id": "a7176365",
   "metadata": {},
   "source": [
    "## 用法一：合并陣列(不設定控制字串)\n",
    "\n",
    "    np.r_[] 可以想象成 np.vstack(), axis = 0, row"
   ]
  },
  {
   "cell_type": "code",
   "execution_count": 2,
   "id": "b7962c97",
   "metadata": {},
   "outputs": [],
   "source": [
    "a = np.array([1, 2, 3])\n",
    "b = np.array([4, 5 ,6])"
   ]
  },
  {
   "cell_type": "code",
   "execution_count": 3,
   "id": "90efd101",
   "metadata": {},
   "outputs": [
    {
     "data": {
      "text/plain": [
       "array([1, 2, 3, 4, 5, 6])"
      ]
     },
     "execution_count": 3,
     "metadata": {},
     "output_type": "execute_result"
    }
   ],
   "source": [
    "np.r_[a, b]"
   ]
  },
  {
   "cell_type": "code",
   "execution_count": 4,
   "id": "4d52f49d",
   "metadata": {},
   "outputs": [
    {
     "data": {
      "text/plain": [
       "array([2. , 3. , 5. , 1. , 2. , 4.2])"
      ]
     },
     "execution_count": 4,
     "metadata": {},
     "output_type": "execute_result"
    }
   ],
   "source": [
    "np.r_[2, 3, 5, np.array([1, 2]), 4.2]"
   ]
  },
  {
   "cell_type": "code",
   "execution_count": 5,
   "id": "82778a94",
   "metadata": {},
   "outputs": [],
   "source": [
    "c = np.zeros((2, 3))\n",
    "d = np.ones((3, 3))"
   ]
  },
  {
   "cell_type": "code",
   "execution_count": 6,
   "id": "31b13937",
   "metadata": {},
   "outputs": [
    {
     "data": {
      "text/plain": [
       "array([[0., 0., 0.],\n",
       "       [0., 0., 0.],\n",
       "       [1., 1., 1.],\n",
       "       [1., 1., 1.],\n",
       "       [1., 1., 1.]])"
      ]
     },
     "execution_count": 6,
     "metadata": {},
     "output_type": "execute_result"
    }
   ],
   "source": [
    "np.r_[c, d]"
   ]
  },
  {
   "cell_type": "code",
   "execution_count": 7,
   "id": "3948bd0f",
   "metadata": {},
   "outputs": [],
   "source": [
    "d = np.ones((3, 4))"
   ]
  },
  {
   "cell_type": "code",
   "execution_count": 8,
   "id": "1917aa81",
   "metadata": {},
   "outputs": [],
   "source": [
    "#np.r_[c, d] #error"
   ]
  },
  {
   "cell_type": "markdown",
   "id": "ed00be06",
   "metadata": {},
   "source": [
    "## 用法二：合并陣列(設定控制字串)\n",
    "\n",
    "    np.r_['x, y, z',陣列或數值, ...]\n",
    "\n",
    "    x:設定合并哪一軸的元素\n",
    "    y:設定合并後的陣列至少為幾軸\n",
    "    z:依y的設定，原始陣列可能需要增加軸數，z則指定了增軸的方式"
   ]
  },
  {
   "cell_type": "code",
   "execution_count": 9,
   "id": "d2f3d59a",
   "metadata": {},
   "outputs": [],
   "source": [
    "a = np.ones((2, 2))\n",
    "b = np.zeros((2, 2))"
   ]
  },
  {
   "cell_type": "code",
   "execution_count": 10,
   "id": "966b9dee",
   "metadata": {},
   "outputs": [
    {
     "data": {
      "text/plain": [
       "(array([[1., 1.],\n",
       "        [1., 1.],\n",
       "        [0., 0.],\n",
       "        [0., 0.]]),\n",
       " (4, 2))"
      ]
     },
     "execution_count": 10,
     "metadata": {},
     "output_type": "execute_result"
    }
   ],
   "source": [
    "np.r_['0', a, b], np.r_['0', a, b].shape \n",
    "#same as np.r_[a, b], np.r_[a, b].shape"
   ]
  },
  {
   "cell_type": "code",
   "execution_count": 11,
   "id": "49ee3258",
   "metadata": {},
   "outputs": [
    {
     "data": {
      "text/plain": [
       "(array([[1., 1., 0., 0.],\n",
       "        [1., 1., 0., 0.]]),\n",
       " (2, 4))"
      ]
     },
     "execution_count": 11,
     "metadata": {},
     "output_type": "execute_result"
    }
   ],
   "source": [
    "np.r_['1', a, b], np.r_['1', a, b].shape"
   ]
  },
  {
   "cell_type": "code",
   "execution_count": 12,
   "id": "d3f218a3",
   "metadata": {},
   "outputs": [
    {
     "data": {
      "text/plain": [
       "array([[[1., 1.],\n",
       "        [1., 1.]],\n",
       "\n",
       "       [[1., 1.],\n",
       "        [1., 1.]]])"
      ]
     },
     "execution_count": 12,
     "metadata": {},
     "output_type": "execute_result"
    }
   ],
   "source": [
    "c = np.ones((2, 2, 2))\n",
    "c"
   ]
  },
  {
   "cell_type": "code",
   "execution_count": 13,
   "id": "4e5df373",
   "metadata": {},
   "outputs": [
    {
     "data": {
      "text/plain": [
       "array([[[0., 0.],\n",
       "        [0., 0.]],\n",
       "\n",
       "       [[0., 0.],\n",
       "        [0., 0.]]])"
      ]
     },
     "execution_count": 13,
     "metadata": {},
     "output_type": "execute_result"
    }
   ],
   "source": [
    "d = np.zeros((2, 2, 2))\n",
    "d"
   ]
  },
  {
   "cell_type": "code",
   "execution_count": 14,
   "id": "1ff8fdfa",
   "metadata": {},
   "outputs": [
    {
     "data": {
      "text/plain": [
       "(array([[[1., 1.],\n",
       "         [1., 1.]],\n",
       " \n",
       "        [[1., 1.],\n",
       "         [1., 1.]],\n",
       " \n",
       "        [[0., 0.],\n",
       "         [0., 0.]],\n",
       " \n",
       "        [[0., 0.],\n",
       "         [0., 0.]]]),\n",
       " (4, 2, 2))"
      ]
     },
     "execution_count": 14,
     "metadata": {},
     "output_type": "execute_result"
    }
   ],
   "source": [
    "np.r_['0', c, d], np.r_['0', c, d].shape"
   ]
  },
  {
   "cell_type": "code",
   "execution_count": 15,
   "id": "7b220c5b",
   "metadata": {},
   "outputs": [
    {
     "data": {
      "text/plain": [
       "(array([[[1., 1.],\n",
       "         [1., 1.],\n",
       "         [0., 0.],\n",
       "         [0., 0.]],\n",
       " \n",
       "        [[1., 1.],\n",
       "         [1., 1.],\n",
       "         [0., 0.],\n",
       "         [0., 0.]]]),\n",
       " (2, 4, 2))"
      ]
     },
     "execution_count": 15,
     "metadata": {},
     "output_type": "execute_result"
    }
   ],
   "source": [
    "np.r_['1', c, d], np.r_['1', c, d].shape"
   ]
  },
  {
   "cell_type": "code",
   "execution_count": 16,
   "id": "4e8b1de3",
   "metadata": {},
   "outputs": [
    {
     "data": {
      "text/plain": [
       "(array([[[1., 1., 0., 0.],\n",
       "         [1., 1., 0., 0.]],\n",
       " \n",
       "        [[1., 1., 0., 0.],\n",
       "         [1., 1., 0., 0.]]]),\n",
       " (2, 2, 4))"
      ]
     },
     "execution_count": 16,
     "metadata": {},
     "output_type": "execute_result"
    }
   ],
   "source": [
    "np.r_['2', c, d], np.r_['2', c, d].shape"
   ]
  },
  {
   "cell_type": "markdown",
   "id": "6da102a8",
   "metadata": {},
   "source": [
    "    假設x.shape=(3,), [x, y z] = ['0','2','1']\n",
    "    y = '2' -> 變2D ->x.shape = ( ,3)\n",
    "    z = '1' -> 把該軸設定爲z軸 -> x.shape = (1,3)\n",
    "    ps:z default 是 -1 也就是最後一個軸"
   ]
  },
  {
   "cell_type": "code",
   "execution_count": 17,
   "id": "a40691b5",
   "metadata": {},
   "outputs": [
    {
     "data": {
      "text/plain": [
       "array([[0, 1, 2],\n",
       "       [3, 3, 3]])"
      ]
     },
     "execution_count": 17,
     "metadata": {},
     "output_type": "execute_result"
    }
   ],
   "source": [
    "np.r_['0, 2', [0, 1, 2], [3, 3, 3]]"
   ]
  },
  {
   "cell_type": "code",
   "execution_count": 18,
   "id": "c17c49fd",
   "metadata": {},
   "outputs": [
    {
     "data": {
      "text/plain": [
       "(2, 3)"
      ]
     },
     "execution_count": 18,
     "metadata": {},
     "output_type": "execute_result"
    }
   ],
   "source": [
    "np.r_['0, 2', [0, 1, 2], [3, 3, 3]].shape"
   ]
  },
  {
   "cell_type": "code",
   "execution_count": 19,
   "id": "e8c3de86",
   "metadata": {},
   "outputs": [
    {
     "data": {
      "text/plain": [
       "array([[[0, 1, 2]],\n",
       "\n",
       "       [[3, 3, 3]]])"
      ]
     },
     "execution_count": 19,
     "metadata": {},
     "output_type": "execute_result"
    }
   ],
   "source": [
    "np.r_['0, 3', [0, 1, 2], [3, 3, 3]]"
   ]
  },
  {
   "cell_type": "code",
   "execution_count": 20,
   "id": "31b979f8",
   "metadata": {},
   "outputs": [
    {
     "data": {
      "text/plain": [
       "(2, 1, 3)"
      ]
     },
     "execution_count": 20,
     "metadata": {},
     "output_type": "execute_result"
    }
   ],
   "source": [
    "np.r_['0, 3', [0, 1, 2], [3, 3, 3]].shape"
   ]
  },
  {
   "cell_type": "code",
   "execution_count": 21,
   "id": "38454299",
   "metadata": {},
   "outputs": [
    {
     "data": {
      "text/plain": [
       "array([[[0, 1, 2]],\n",
       "\n",
       "       [[3, 3, 3]]])"
      ]
     },
     "execution_count": 21,
     "metadata": {},
     "output_type": "execute_result"
    }
   ],
   "source": [
    "np.r_['0, 3, -1', [0, 1, 2], [3, 3, 3]]"
   ]
  },
  {
   "cell_type": "code",
   "execution_count": 22,
   "id": "6684e5a6",
   "metadata": {},
   "outputs": [
    {
     "data": {
      "text/plain": [
       "array([[[0]],\n",
       "\n",
       "       [[1]],\n",
       "\n",
       "       [[2]],\n",
       "\n",
       "       [[3]],\n",
       "\n",
       "       [[3]],\n",
       "\n",
       "       [[3]]])"
      ]
     },
     "execution_count": 22,
     "metadata": {},
     "output_type": "execute_result"
    }
   ],
   "source": [
    "np.r_['0, 3, 0', [0, 1, 2], [3, 3, 3]]"
   ]
  },
  {
   "cell_type": "code",
   "execution_count": 23,
   "id": "ce39bc96",
   "metadata": {},
   "outputs": [
    {
     "data": {
      "text/plain": [
       "(6, 1, 1)"
      ]
     },
     "execution_count": 23,
     "metadata": {},
     "output_type": "execute_result"
    }
   ],
   "source": [
    "np.r_['0, 3, 0', [0, 1, 2], [3, 3, 3]].shape"
   ]
  },
  {
   "cell_type": "markdown",
   "id": "bdf9faf6",
   "metadata": {},
   "source": [
    "## 用法三：用切片語法建立陣列\n",
    "\n",
    "    np.r_[start:stop:step,1D陣列或數值, ...]"
   ]
  },
  {
   "cell_type": "code",
   "execution_count": 24,
   "id": "20dde921",
   "metadata": {},
   "outputs": [
    {
     "data": {
      "text/plain": [
       "array([0, 1, 2, 3, 4, 5, 6, 7, 8, 9])"
      ]
     },
     "execution_count": 24,
     "metadata": {},
     "output_type": "execute_result"
    }
   ],
   "source": [
    "np.r_[0:10]"
   ]
  },
  {
   "cell_type": "code",
   "execution_count": 25,
   "id": "c232f6ac",
   "metadata": {},
   "outputs": [
    {
     "data": {
      "text/plain": [
       "array([0, 1, 2, 3, 4, 5, 6, 7, 8, 9])"
      ]
     },
     "execution_count": 25,
     "metadata": {},
     "output_type": "execute_result"
    }
   ],
   "source": [
    "np.r_[:10]"
   ]
  },
  {
   "cell_type": "code",
   "execution_count": 26,
   "id": "49ef26cf",
   "metadata": {},
   "outputs": [
    {
     "data": {
      "text/plain": [
       "array([0, 2, 4, 6, 8])"
      ]
     },
     "execution_count": 26,
     "metadata": {},
     "output_type": "execute_result"
    }
   ],
   "source": [
    "np.r_[0:10:2]"
   ]
  },
  {
   "cell_type": "code",
   "execution_count": 27,
   "id": "5bf82d46",
   "metadata": {},
   "outputs": [
    {
     "data": {
      "text/plain": [
       "array([10,  9,  8,  7,  6,  5,  4,  3,  2,  1])"
      ]
     },
     "execution_count": 27,
     "metadata": {},
     "output_type": "execute_result"
    }
   ],
   "source": [
    "np.r_[10:0:-1]"
   ]
  },
  {
   "cell_type": "code",
   "execution_count": 28,
   "id": "d7f666b4",
   "metadata": {},
   "outputs": [
    {
     "data": {
      "text/plain": [
       "array([0, 1, 2, 3, 4, 5, 6, 7, 8, 9, 0, 4, 3, 3])"
      ]
     },
     "execution_count": 28,
     "metadata": {},
     "output_type": "execute_result"
    }
   ],
   "source": [
    "np.r_[0:10, 0, 4, np.array([3, 3])]"
   ]
  },
  {
   "cell_type": "markdown",
   "id": "512d3bca",
   "metadata": {},
   "source": [
    "## 用法四：傳入‘r’,‘c’字串建立矩陣物件\n",
    "\n",
    "    np.r_['r'or'c',陣列或數值, ...]"
   ]
  },
  {
   "cell_type": "code",
   "execution_count": 29,
   "id": "4f57f122",
   "metadata": {},
   "outputs": [],
   "source": [
    "a = np.array([1, 4, 6])\n",
    "b = np.array([2, 2, 2])"
   ]
  },
  {
   "cell_type": "code",
   "execution_count": 30,
   "id": "da73010b",
   "metadata": {},
   "outputs": [
    {
     "data": {
      "text/plain": [
       "matrix([[1, 4, 6, 2, 2, 2]])"
      ]
     },
     "execution_count": 30,
     "metadata": {},
     "output_type": "execute_result"
    }
   ],
   "source": [
    "np.r_['r',a, b]"
   ]
  },
  {
   "cell_type": "code",
   "execution_count": 31,
   "id": "77d5df04",
   "metadata": {},
   "outputs": [
    {
     "data": {
      "text/plain": [
       "matrix([[1],\n",
       "        [4],\n",
       "        [6],\n",
       "        [2],\n",
       "        [2],\n",
       "        [2]])"
      ]
     },
     "execution_count": 31,
     "metadata": {},
     "output_type": "execute_result"
    }
   ],
   "source": [
    "np.r_['c',a, b]"
   ]
  },
  {
   "cell_type": "code",
   "execution_count": 32,
   "id": "e281f873",
   "metadata": {},
   "outputs": [],
   "source": [
    "c = np.ones((4, 5))\n",
    "d = np.zeros((2, 5))"
   ]
  },
  {
   "cell_type": "code",
   "execution_count": 33,
   "id": "31eab0ff",
   "metadata": {},
   "outputs": [
    {
     "data": {
      "text/plain": [
       "matrix([[1., 1., 1., 1., 1.],\n",
       "        [1., 1., 1., 1., 1.],\n",
       "        [1., 1., 1., 1., 1.],\n",
       "        [1., 1., 1., 1., 1.],\n",
       "        [0., 0., 0., 0., 0.],\n",
       "        [0., 0., 0., 0., 0.]])"
      ]
     },
     "execution_count": 33,
     "metadata": {},
     "output_type": "execute_result"
    }
   ],
   "source": [
    "np.r_['r', c, d]"
   ]
  },
  {
   "cell_type": "code",
   "execution_count": 34,
   "id": "7887aaf4",
   "metadata": {},
   "outputs": [
    {
     "data": {
      "text/plain": [
       "matrix([[1., 1., 1., 1., 1.],\n",
       "        [1., 1., 1., 1., 1.],\n",
       "        [1., 1., 1., 1., 1.],\n",
       "        [1., 1., 1., 1., 1.],\n",
       "        [0., 0., 0., 0., 0.],\n",
       "        [0., 0., 0., 0., 0.]])"
      ]
     },
     "execution_count": 34,
     "metadata": {},
     "output_type": "execute_result"
    }
   ],
   "source": [
    "np.r_['c', c, d]"
   ]
  },
  {
   "cell_type": "markdown",
   "id": "ca486653",
   "metadata": {},
   "source": [
    "    由於np.r_預設合并第0軸 因此上面的都一樣\n",
    "    \n",
    "    其實np.r_熟練也是可以達到np.c_的效果\n",
    "    尤其合并np.c_ 使用兩種反而會搞混\n",
    "    np.c_[a, b] = np.r_['-1, 2, 0', a, b]"
   ]
  },
  {
   "cell_type": "code",
   "execution_count": 35,
   "id": "878aa084",
   "metadata": {},
   "outputs": [
    {
     "data": {
      "text/plain": [
       "array([[1., 1.],\n",
       "       [1., 1.],\n",
       "       [1., 1.]])"
      ]
     },
     "execution_count": 35,
     "metadata": {},
     "output_type": "execute_result"
    }
   ],
   "source": [
    "a = np.ones((3, 2))\n",
    "a"
   ]
  },
  {
   "cell_type": "code",
   "execution_count": 36,
   "id": "a1f87a21",
   "metadata": {},
   "outputs": [
    {
     "data": {
      "text/plain": [
       "array([[0., 0., 0.],\n",
       "       [0., 0., 0.],\n",
       "       [0., 0., 0.]])"
      ]
     },
     "execution_count": 36,
     "metadata": {},
     "output_type": "execute_result"
    }
   ],
   "source": [
    "b = np.zeros((3, 3))\n",
    "b"
   ]
  },
  {
   "cell_type": "code",
   "execution_count": 37,
   "id": "f7ad0eb7",
   "metadata": {},
   "outputs": [
    {
     "data": {
      "text/plain": [
       "array([[1., 1., 0., 0., 0.],\n",
       "       [1., 1., 0., 0., 0.],\n",
       "       [1., 1., 0., 0., 0.]])"
      ]
     },
     "execution_count": 37,
     "metadata": {},
     "output_type": "execute_result"
    }
   ],
   "source": [
    "np.c_[a, b]"
   ]
  },
  {
   "cell_type": "code",
   "execution_count": 38,
   "id": "4e7d944a",
   "metadata": {},
   "outputs": [
    {
     "data": {
      "text/plain": [
       "array([0., 0., 0.])"
      ]
     },
     "execution_count": 38,
     "metadata": {},
     "output_type": "execute_result"
    }
   ],
   "source": [
    "c = np.array([0., 0., 0.])\n",
    "c"
   ]
  },
  {
   "cell_type": "code",
   "execution_count": 39,
   "id": "446ee462",
   "metadata": {},
   "outputs": [
    {
     "data": {
      "text/plain": [
       "array([[1., 1., 0.],\n",
       "       [1., 1., 0.],\n",
       "       [1., 1., 0.]])"
      ]
     },
     "execution_count": 39,
     "metadata": {},
     "output_type": "execute_result"
    }
   ],
   "source": [
    "np.c_[a, c]"
   ]
  },
  {
   "cell_type": "code",
   "execution_count": 40,
   "id": "4195f2a3",
   "metadata": {},
   "outputs": [
    {
     "data": {
      "text/plain": [
       "(3, 3)"
      ]
     },
     "execution_count": 40,
     "metadata": {},
     "output_type": "execute_result"
    }
   ],
   "source": [
    "np.c_[a, c].shape"
   ]
  }
 ],
 "metadata": {
  "kernelspec": {
   "display_name": "Python 3 (ipykernel)",
   "language": "python",
   "name": "python3"
  },
  "language_info": {
   "codemirror_mode": {
    "name": "ipython",
    "version": 3
   },
   "file_extension": ".py",
   "mimetype": "text/x-python",
   "name": "python",
   "nbconvert_exporter": "python",
   "pygments_lexer": "ipython3",
   "version": "3.8.8"
  }
 },
 "nbformat": 4,
 "nbformat_minor": 5
}
