{
 "cells": [
  {
   "cell_type": "markdown",
   "id": "22396a1a",
   "metadata": {},
   "source": [
    "# 計算張量積 - outer()\n",
    "\n",
    "    張量積也稱爲外積(outer product)\n",
    "    \n",
    "    np.outer(a, b, out=None)"
   ]
  },
  {
   "cell_type": "code",
   "execution_count": 1,
   "id": "9d9ebe6d",
   "metadata": {},
   "outputs": [],
   "source": [
    "import numpy as np"
   ]
  },
  {
   "cell_type": "code",
   "execution_count": 2,
   "id": "522542f7",
   "metadata": {},
   "outputs": [],
   "source": [
    "a = np.array([1, 2, 3, 2, 1])\n",
    "b = np.array([0, 2, 4, 6, 8, 1])"
   ]
  },
  {
   "cell_type": "code",
   "execution_count": 3,
   "id": "cbcade40",
   "metadata": {},
   "outputs": [
    {
     "data": {
      "text/plain": [
       "((5,), (6,))"
      ]
     },
     "execution_count": 3,
     "metadata": {},
     "output_type": "execute_result"
    }
   ],
   "source": [
    "a.shape, b.shape"
   ]
  },
  {
   "cell_type": "code",
   "execution_count": 4,
   "id": "be1a4dd3",
   "metadata": {},
   "outputs": [
    {
     "data": {
      "text/plain": [
       "array([[ 0,  2,  4,  6,  8,  1],\n",
       "       [ 0,  4,  8, 12, 16,  2],\n",
       "       [ 0,  6, 12, 18, 24,  3],\n",
       "       [ 0,  4,  8, 12, 16,  2],\n",
       "       [ 0,  2,  4,  6,  8,  1]])"
      ]
     },
     "execution_count": 4,
     "metadata": {},
     "output_type": "execute_result"
    }
   ],
   "source": [
    "np.outer(a, b)"
   ]
  },
  {
   "cell_type": "code",
   "execution_count": 5,
   "id": "4d9149d5",
   "metadata": {},
   "outputs": [
    {
     "data": {
      "text/plain": [
       "array([[0, 2, 4],\n",
       "       [6, 8, 1]])"
      ]
     },
     "execution_count": 5,
     "metadata": {},
     "output_type": "execute_result"
    }
   ],
   "source": [
    "b = b.reshape(2, -1)\n",
    "b"
   ]
  },
  {
   "cell_type": "code",
   "execution_count": 6,
   "id": "0675fb40",
   "metadata": {},
   "outputs": [
    {
     "data": {
      "text/plain": [
       "array([[2, 4, 4, 4],\n",
       "       [4, 1, 1, 0]])"
      ]
     },
     "execution_count": 6,
     "metadata": {},
     "output_type": "execute_result"
    }
   ],
   "source": [
    "c = np.random.randint(0, 5, size=(2, 4))\n",
    "c"
   ]
  },
  {
   "cell_type": "code",
   "execution_count": 7,
   "id": "e4169605",
   "metadata": {},
   "outputs": [
    {
     "data": {
      "text/plain": [
       "array([[ 0,  0,  0,  0,  0,  0,  0,  0],\n",
       "       [ 4,  8,  8,  8,  8,  2,  2,  0],\n",
       "       [ 8, 16, 16, 16, 16,  4,  4,  0],\n",
       "       [12, 24, 24, 24, 24,  6,  6,  0],\n",
       "       [16, 32, 32, 32, 32,  8,  8,  0],\n",
       "       [ 2,  4,  4,  4,  4,  1,  1,  0]])"
      ]
     },
     "execution_count": 7,
     "metadata": {},
     "output_type": "execute_result"
    }
   ],
   "source": [
    "np.outer(b, c)"
   ]
  },
  {
   "cell_type": "markdown",
   "id": "b8f8e49b",
   "metadata": {},
   "source": [
    "會變成1D才進行運算"
   ]
  }
 ],
 "metadata": {
  "kernelspec": {
   "display_name": "Python 3 (ipykernel)",
   "language": "python",
   "name": "python3"
  },
  "language_info": {
   "codemirror_mode": {
    "name": "ipython",
    "version": 3
   },
   "file_extension": ".py",
   "mimetype": "text/x-python",
   "name": "python",
   "nbconvert_exporter": "python",
   "pygments_lexer": "ipython3",
   "version": "3.8.8"
  }
 },
 "nbformat": 4,
 "nbformat_minor": 5
}
