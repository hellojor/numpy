{
 "cells": [
  {
   "cell_type": "markdown",
   "id": "fa30a47a",
   "metadata": {},
   "source": [
    "# 計算標準差、變異數 - std()、var()"
   ]
  },
  {
   "cell_type": "markdown",
   "id": "75ea17b6",
   "metadata": {},
   "source": [
    "## 計算標準差 - std()\n",
    "\n",
    "    np.std(a, axis=None, dtype=None, out=None, ddof=0, keepdims=False)\n",
    "    ddof : can control the n of std\n",
    "    \n",
    "    \n",
    "    s : standard deviation\n",
    "    x': mean \n",
    "    s = np.sqrt((1/n) * np.sum((xi - x')^2))"
   ]
  },
  {
   "cell_type": "code",
   "execution_count": 1,
   "id": "ad7f1169",
   "metadata": {},
   "outputs": [],
   "source": [
    "import numpy as np"
   ]
  },
  {
   "cell_type": "code",
   "execution_count": 2,
   "id": "b7087b5c",
   "metadata": {},
   "outputs": [
    {
     "data": {
      "text/plain": [
       "array([0.77255122, 0.48848897, 0.96417211, 0.38314568, 0.98466659,\n",
       "       0.49351809, 0.27342223, 0.84658268, 0.02193054, 0.23657774])"
      ]
     },
     "execution_count": 2,
     "metadata": {},
     "output_type": "execute_result"
    }
   ],
   "source": [
    "a = np.random.rand(10)\n",
    "a"
   ]
  },
  {
   "cell_type": "code",
   "execution_count": 3,
   "id": "f4502874",
   "metadata": {},
   "outputs": [
    {
     "data": {
      "text/plain": [
       "0.3140449189261954"
      ]
     },
     "execution_count": 3,
     "metadata": {},
     "output_type": "execute_result"
    }
   ],
   "source": [
    "np.std(a)"
   ]
  },
  {
   "cell_type": "code",
   "execution_count": 4,
   "id": "bb5b212f",
   "metadata": {},
   "outputs": [
    {
     "data": {
      "text/plain": [
       "array([[[0.02137413, 0.67000693, 0.9241003 , 0.16537402],\n",
       "        [0.92663776, 0.05113922, 0.4384407 , 0.06281252],\n",
       "        [0.14727726, 0.27905977, 0.62053111, 0.0069834 ]],\n",
       "\n",
       "       [[0.63620653, 0.87324789, 0.68634265, 0.92791538],\n",
       "        [0.40984764, 0.98574801, 0.46989147, 0.7780029 ],\n",
       "        [0.71958995, 0.57928019, 0.73232145, 0.17948006]]])"
      ]
     },
     "execution_count": 4,
     "metadata": {},
     "output_type": "execute_result"
    }
   ],
   "source": [
    "b = np.random.rand(2, 3, 4)\n",
    "b"
   ]
  },
  {
   "cell_type": "code",
   "execution_count": 5,
   "id": "e78cf910",
   "metadata": {},
   "outputs": [
    {
     "data": {
      "text/plain": [
       "array([[0.3074162 , 0.10162048, 0.11887882, 0.38127068],\n",
       "       [0.25839506, 0.4673044 , 0.01572539, 0.35759519],\n",
       "       [0.28615635, 0.15011021, 0.05589517, 0.08624833]])"
      ]
     },
     "execution_count": 5,
     "metadata": {},
     "output_type": "execute_result"
    }
   ],
   "source": [
    "np.std(b, axis=0)"
   ]
  },
  {
   "cell_type": "code",
   "execution_count": 6,
   "id": "b4bcd12f",
   "metadata": {},
   "outputs": [
    {
     "data": {
      "text/plain": [
       "0.3204619190025707"
      ]
     },
     "execution_count": 6,
     "metadata": {},
     "output_type": "execute_result"
    }
   ],
   "source": [
    "np.std(b)"
   ]
  },
  {
   "cell_type": "code",
   "execution_count": 7,
   "id": "db76576a",
   "metadata": {},
   "outputs": [
    {
     "data": {
      "text/plain": [
       "0.3273543616925033"
      ]
     },
     "execution_count": 7,
     "metadata": {},
     "output_type": "execute_result"
    }
   ],
   "source": [
    "np.std(b, ddof=1) \n",
    "#1/n -> 1/(n-1)\n",
    "#貝索校正(Bessel's correction)"
   ]
  },
  {
   "cell_type": "markdown",
   "id": "cee0e581",
   "metadata": {},
   "source": [
    "## 計算變異數 - var()\n",
    "\n",
    "    np.var(a, axis=None, dtype=None, out=None, ddof=0, keepdims=False)\n",
    "    \n",
    "    var = np.sqrt(std)"
   ]
  },
  {
   "cell_type": "code",
   "execution_count": 8,
   "id": "5a3a791b",
   "metadata": {},
   "outputs": [],
   "source": [
    "x = np.array([10, 20, 12, 0, 3, 5])"
   ]
  },
  {
   "cell_type": "code",
   "execution_count": 9,
   "id": "4a8bbee0",
   "metadata": {},
   "outputs": [
    {
     "data": {
      "text/plain": [
       "0.09862421110336064"
      ]
     },
     "execution_count": 9,
     "metadata": {},
     "output_type": "execute_result"
    }
   ],
   "source": [
    "np.var(a)"
   ]
  },
  {
   "cell_type": "markdown",
   "id": "fd4623de",
   "metadata": {},
   "source": [
    "其餘用法與std()相同"
   ]
  }
 ],
 "metadata": {
  "kernelspec": {
   "display_name": "Python 3 (ipykernel)",
   "language": "python",
   "name": "python3"
  },
  "language_info": {
   "codemirror_mode": {
    "name": "ipython",
    "version": 3
   },
   "file_extension": ".py",
   "mimetype": "text/x-python",
   "name": "python",
   "nbconvert_exporter": "python",
   "pygments_lexer": "ipython3",
   "version": "3.8.8"
  }
 },
 "nbformat": 4,
 "nbformat_minor": 5
}
