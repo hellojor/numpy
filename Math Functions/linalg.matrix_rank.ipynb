{
 "cells": [
  {
   "cell_type": "markdown",
   "id": "b63e401a",
   "metadata": {},
   "source": [
    "# 計算矩陣的rank - linalg.matrix_rank()\n",
    "\n",
    "    np.linalg.matrix_rank(M, tol=None, hermitian=False)"
   ]
  },
  {
   "cell_type": "code",
   "execution_count": 1,
   "id": "46301f07",
   "metadata": {},
   "outputs": [],
   "source": [
    "import numpy as np"
   ]
  },
  {
   "cell_type": "code",
   "execution_count": 2,
   "id": "d06b2a10",
   "metadata": {},
   "outputs": [],
   "source": [
    "A = np.array([[1, 1, 4, 0, 1],\n",
    "             [0, 3, 1, 3, 2],\n",
    "             [1, 3, 0, 0, 1],\n",
    "             [2, 4, 3, 1, 1]])"
   ]
  },
  {
   "cell_type": "code",
   "execution_count": 3,
   "id": "51560722",
   "metadata": {},
   "outputs": [
    {
     "data": {
      "text/plain": [
       "4"
      ]
     },
     "execution_count": 3,
     "metadata": {},
     "output_type": "execute_result"
    }
   ],
   "source": [
    "np.linalg.matrix_rank(A)"
   ]
  },
  {
   "cell_type": "code",
   "execution_count": 4,
   "id": "deb981a4",
   "metadata": {},
   "outputs": [],
   "source": [
    "B = np.array([[1, 2, 3, 0],\n",
    "            [2, 4, 6, 0],\n",
    "            [1, 0, 1, 2],\n",
    "            [1, 0, 0, 3]])"
   ]
  },
  {
   "cell_type": "code",
   "execution_count": 5,
   "id": "08b7bcea",
   "metadata": {},
   "outputs": [
    {
     "data": {
      "text/plain": [
       "3"
      ]
     },
     "execution_count": 5,
     "metadata": {},
     "output_type": "execute_result"
    }
   ],
   "source": [
    "np.linalg.matrix_rank(B)"
   ]
  }
 ],
 "metadata": {
  "kernelspec": {
   "display_name": "Python 3 (ipykernel)",
   "language": "python",
   "name": "python3"
  },
  "language_info": {
   "codemirror_mode": {
    "name": "ipython",
    "version": 3
   },
   "file_extension": ".py",
   "mimetype": "text/x-python",
   "name": "python",
   "nbconvert_exporter": "python",
   "pygments_lexer": "ipython3",
   "version": "3.8.8"
  }
 },
 "nbformat": 4,
 "nbformat_minor": 5
}
