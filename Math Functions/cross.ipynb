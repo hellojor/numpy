{
 "cells": [
  {
   "cell_type": "markdown",
   "id": "8668f1b4",
   "metadata": {},
   "source": [
    "# 計算叉積 - cross()\n",
    "\n",
    "    叉積也稱外積(Exterior product),主要是求垂直的法向量\n",
    "    至少要3x3才能計算\n",
    "    \n",
    "    np.cross(a, b, axisa=-1, axisb=-1, axisc=-1, axis=None)"
   ]
  },
  {
   "cell_type": "code",
   "execution_count": 1,
   "id": "d0f65b3c",
   "metadata": {},
   "outputs": [],
   "source": [
    "import numpy as np"
   ]
  },
  {
   "cell_type": "code",
   "execution_count": 2,
   "id": "09c5baaa",
   "metadata": {},
   "outputs": [],
   "source": [
    "a = np.array([1, 2, 3])\n",
    "b = np.array([5, 4, 0])"
   ]
  },
  {
   "cell_type": "code",
   "execution_count": 3,
   "id": "e276e1cf",
   "metadata": {},
   "outputs": [
    {
     "data": {
      "text/plain": [
       "array([-12,  15,  -6])"
      ]
     },
     "execution_count": 3,
     "metadata": {},
     "output_type": "execute_result"
    }
   ],
   "source": [
    "np.cross(a, b)"
   ]
  },
  {
   "cell_type": "code",
   "execution_count": 4,
   "id": "dc7fccb2",
   "metadata": {},
   "outputs": [],
   "source": [
    "c = np.array([-1, 1, 3])\n",
    "d = np.array([2, 3, 3])"
   ]
  },
  {
   "cell_type": "code",
   "execution_count": 5,
   "id": "8e1213fa",
   "metadata": {},
   "outputs": [
    {
     "data": {
      "text/plain": [
       "array([-6,  9, -5])"
      ]
     },
     "execution_count": 5,
     "metadata": {},
     "output_type": "execute_result"
    }
   ],
   "source": [
    "np.cross(c, d)"
   ]
  },
  {
   "cell_type": "code",
   "execution_count": 6,
   "id": "a6d1cf53",
   "metadata": {},
   "outputs": [
    {
     "data": {
      "text/plain": [
       "array([-12,  15,  -6])"
      ]
     },
     "execution_count": 6,
     "metadata": {},
     "output_type": "execute_result"
    }
   ],
   "source": [
    "b_2 = np.array([5, 4]) #後面會主動補0\n",
    "np.cross(a, b_2) #結果與np.cross(a, b)一樣"
   ]
  },
  {
   "cell_type": "markdown",
   "id": "7b7f2a06",
   "metadata": {},
   "source": [
    "## 一次計算多組"
   ]
  },
  {
   "cell_type": "code",
   "execution_count": 7,
   "id": "70f97457",
   "metadata": {},
   "outputs": [
    {
     "data": {
      "text/plain": [
       "array([[ 1,  2,  3],\n",
       "       [-1,  1,  3]])"
      ]
     },
     "execution_count": 7,
     "metadata": {},
     "output_type": "execute_result"
    }
   ],
   "source": [
    "ac = np.vstack((a, c))\n",
    "ac"
   ]
  },
  {
   "cell_type": "code",
   "execution_count": 8,
   "id": "73e4760f",
   "metadata": {},
   "outputs": [
    {
     "data": {
      "text/plain": [
       "array([[5, 4, 0],\n",
       "       [2, 3, 3]])"
      ]
     },
     "execution_count": 8,
     "metadata": {},
     "output_type": "execute_result"
    }
   ],
   "source": [
    "bd = np.vstack((b, d))\n",
    "bd"
   ]
  },
  {
   "cell_type": "code",
   "execution_count": 9,
   "id": "6812ca84",
   "metadata": {},
   "outputs": [
    {
     "data": {
      "text/plain": [
       "array([[-12,  15,  -6],\n",
       "       [ -6,   9,  -5]])"
      ]
     },
     "execution_count": 9,
     "metadata": {},
     "output_type": "execute_result"
    }
   ],
   "source": [
    "np.cross(ac, bd)"
   ]
  },
  {
   "cell_type": "markdown",
   "id": "45401e08",
   "metadata": {},
   "source": [
    "## 設定 axisa、axisb、axisc 參數\n",
    "\n",
    "    axisa:控制a(左邊)\n",
    "    axisb:控制b(右邊)\n",
    "    axisc:可設定呈現出來的結果"
   ]
  },
  {
   "cell_type": "code",
   "execution_count": 10,
   "id": "50490aca",
   "metadata": {},
   "outputs": [
    {
     "data": {
      "text/plain": [
       "array([[ 1, -1],\n",
       "       [ 2,  1],\n",
       "       [ 3,  3]])"
      ]
     },
     "execution_count": 10,
     "metadata": {},
     "output_type": "execute_result"
    }
   ],
   "source": [
    "ac2 = ac.T\n",
    "ac2"
   ]
  },
  {
   "cell_type": "code",
   "execution_count": 11,
   "id": "148ff18c",
   "metadata": {},
   "outputs": [],
   "source": [
    "#np.cross(ac2, bd) #error"
   ]
  },
  {
   "cell_type": "code",
   "execution_count": 12,
   "id": "4d2b82e7",
   "metadata": {},
   "outputs": [
    {
     "data": {
      "text/plain": [
       "array([[-12,  15,  -6],\n",
       "       [ -6,   9,  -5]])"
      ]
     },
     "execution_count": 12,
     "metadata": {},
     "output_type": "execute_result"
    }
   ],
   "source": [
    "np.cross(ac2, bd, axisa=0)"
   ]
  },
  {
   "cell_type": "code",
   "execution_count": 13,
   "id": "d7346239",
   "metadata": {},
   "outputs": [],
   "source": [
    "#np.cross(ac2, bd, axisa=1) # error"
   ]
  },
  {
   "cell_type": "code",
   "execution_count": 14,
   "id": "caabb728",
   "metadata": {},
   "outputs": [
    {
     "data": {
      "text/plain": [
       "array([[5, 2],\n",
       "       [4, 3],\n",
       "       [0, 3]])"
      ]
     },
     "execution_count": 14,
     "metadata": {},
     "output_type": "execute_result"
    }
   ],
   "source": [
    "bd2 = bd.T\n",
    "bd2"
   ]
  },
  {
   "cell_type": "code",
   "execution_count": 15,
   "id": "cf51a3b8",
   "metadata": {},
   "outputs": [
    {
     "data": {
      "text/plain": [
       "array([[-12,  15,  -6],\n",
       "       [ -6,   9,  -5]])"
      ]
     },
     "execution_count": 15,
     "metadata": {},
     "output_type": "execute_result"
    }
   ],
   "source": [
    "np.cross(ac, bd2, axisb=0)"
   ]
  },
  {
   "cell_type": "code",
   "execution_count": 16,
   "id": "cdf0eed6",
   "metadata": {},
   "outputs": [
    {
     "data": {
      "text/plain": [
       "array([[-12,  -6],\n",
       "       [ 15,   9],\n",
       "       [ -6,  -5]])"
      ]
     },
     "execution_count": 16,
     "metadata": {},
     "output_type": "execute_result"
    }
   ],
   "source": [
    "np.cross(ac, bd, axisc=0)"
   ]
  },
  {
   "cell_type": "code",
   "execution_count": 17,
   "id": "feb96422",
   "metadata": {},
   "outputs": [
    {
     "data": {
      "text/plain": [
       "array([[-12,  15,  -6],\n",
       "       [ -6,   9,  -5]])"
      ]
     },
     "execution_count": 17,
     "metadata": {},
     "output_type": "execute_result"
    }
   ],
   "source": [
    "np.cross(ac, bd, axisc=1)"
   ]
  },
  {
   "cell_type": "markdown",
   "id": "cf0b7364",
   "metadata": {},
   "source": [
    "## 設定axis參數"
   ]
  },
  {
   "cell_type": "code",
   "execution_count": 18,
   "id": "ee0d5477",
   "metadata": {},
   "outputs": [
    {
     "data": {
      "text/plain": [
       "array([[-12,  -6],\n",
       "       [ 15,   9],\n",
       "       [ -6,  -5]])"
      ]
     },
     "execution_count": 18,
     "metadata": {},
     "output_type": "execute_result"
    }
   ],
   "source": [
    "np.cross(ac2, bd2, axis=0)"
   ]
  },
  {
   "cell_type": "markdown",
   "id": "1c507d1c",
   "metadata": {},
   "source": [
    "## 無法運算叉積的情況"
   ]
  },
  {
   "cell_type": "code",
   "execution_count": 19,
   "id": "0368e4ca",
   "metadata": {},
   "outputs": [],
   "source": [
    "#np.cross(np.array([1, 1, 1, 1]), np.array([1, 1, 1, 1])) #error"
   ]
  },
  {
   "cell_type": "code",
   "execution_count": 20,
   "id": "f0192d1a",
   "metadata": {},
   "outputs": [],
   "source": [
    "#np.cross(np.array([1]), np.array([1])) #error"
   ]
  },
  {
   "cell_type": "markdown",
   "id": "da9e4ad4",
   "metadata": {},
   "source": [
    "只能是2維或3維"
   ]
  }
 ],
 "metadata": {
  "kernelspec": {
   "display_name": "Python 3 (ipykernel)",
   "language": "python",
   "name": "python3"
  },
  "language_info": {
   "codemirror_mode": {
    "name": "ipython",
    "version": 3
   },
   "file_extension": ".py",
   "mimetype": "text/x-python",
   "name": "python",
   "nbconvert_exporter": "python",
   "pygments_lexer": "ipython3",
   "version": "3.8.8"
  }
 },
 "nbformat": 4,
 "nbformat_minor": 5
}
