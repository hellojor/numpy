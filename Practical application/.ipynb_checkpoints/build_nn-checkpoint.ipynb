{
 "cells": [
  {
   "cell_type": "code",
   "execution_count": 1,
   "id": "27e6697a",
   "metadata": {},
   "outputs": [],
   "source": [
    "# download data base at http://yann.lecun.com/exdb/mnist/\n",
    "import numpy as np\n",
    "import gzip\n",
    "\n",
    "key_file = {\n",
    "'x_train':'../source/train-images-idx3-ubyte.gz',\n",
    "'y_train':'../source/train-labels-idx1-ubyte.gz',\n",
    "'x_test':'../source/t10k-images-idx3-ubyte.gz',\n",
    "'y_test':'../source/t10k-labels-idx1-ubyte.gz'\n",
    "}\n",
    "\n",
    "def load_image(filename):\n",
    "    with gzip.open(filename, 'rb') as f:\n",
    "        imgs = np.frombuffer(f.read(), dtype=np.uint8, offset=16)\n",
    "    return imgs   \n",
    "\n",
    "def load_label(filename):\n",
    "    with gzip.open(filename, 'rb') as f:\n",
    "        labels = np.frombuffer(f.read(), dtype=np.uint8, offset=8)\n",
    "        \n",
    "        one_hot_labels = np.zeros((labels.shape[0], 10))\n",
    "        for i in range(labels.shape[0]):\n",
    "            one_hot_labels[i, labels[i]] = 1\n",
    "    return one_hot_labels\n",
    "\n",
    "def convert_into_numpy(key_file):\n",
    "    dataset = {}\n",
    "\n",
    "    dataset['x_train'] = load_image(key_file['x_train'])\n",
    "    dataset['y_train'] = load_label(key_file['y_train'])\n",
    "    dataset['x_test'] = load_image(key_file['x_test'])\n",
    "    dataset['y_test'] = load_label(key_file['y_test'])\n",
    "    \n",
    "    return dataset\n",
    "\n",
    "\n",
    "def load_mnist():\n",
    "\n",
    "    dataset = convert_into_numpy(key_file)\n",
    "\n",
    "    dataset['x_train'] = dataset['x_train'].astype(np.float32)\n",
    "    dataset['x_test'] = dataset['x_test'].astype(np.float32)\n",
    "    dataset['x_train'] /= 255.0\n",
    "    dataset['x_test'] /= 255.0\n",
    "\n",
    "    dataset['x_train'] = dataset['x_train'].reshape(-1, 28*28)\n",
    "    dataset['x_test'] = dataset['x_test'].reshape(-1, 28*28)\n",
    "    return dataset"
   ]
  },
  {
   "cell_type": "code",
   "execution_count": 2,
   "id": "5e54c0ee",
   "metadata": {},
   "outputs": [
    {
     "data": {
      "text/plain": [
       "{'x_train': array([[0., 0., 0., ..., 0., 0., 0.],\n",
       "        [0., 0., 0., ..., 0., 0., 0.],\n",
       "        [0., 0., 0., ..., 0., 0., 0.],\n",
       "        ...,\n",
       "        [0., 0., 0., ..., 0., 0., 0.],\n",
       "        [0., 0., 0., ..., 0., 0., 0.],\n",
       "        [0., 0., 0., ..., 0., 0., 0.]], dtype=float32),\n",
       " 'y_train': array([[0., 0., 0., ..., 0., 0., 0.],\n",
       "        [1., 0., 0., ..., 0., 0., 0.],\n",
       "        [0., 0., 0., ..., 0., 0., 0.],\n",
       "        ...,\n",
       "        [0., 0., 0., ..., 0., 0., 0.],\n",
       "        [0., 0., 0., ..., 0., 0., 0.],\n",
       "        [0., 0., 0., ..., 0., 1., 0.]]),\n",
       " 'x_test': array([[0., 0., 0., ..., 0., 0., 0.],\n",
       "        [0., 0., 0., ..., 0., 0., 0.],\n",
       "        [0., 0., 0., ..., 0., 0., 0.],\n",
       "        ...,\n",
       "        [0., 0., 0., ..., 0., 0., 0.],\n",
       "        [0., 0., 0., ..., 0., 0., 0.],\n",
       "        [0., 0., 0., ..., 0., 0., 0.]], dtype=float32),\n",
       " 'y_test': array([[0., 0., 0., ..., 1., 0., 0.],\n",
       "        [0., 0., 1., ..., 0., 0., 0.],\n",
       "        [0., 1., 0., ..., 0., 0., 0.],\n",
       "        ...,\n",
       "        [0., 0., 0., ..., 0., 0., 0.],\n",
       "        [0., 0., 0., ..., 0., 0., 0.],\n",
       "        [0., 0., 0., ..., 0., 0., 0.]])}"
      ]
     },
     "execution_count": 2,
     "metadata": {},
     "output_type": "execute_result"
    }
   ],
   "source": [
    "dataset = load_mnist()\n",
    "dataset"
   ]
  },
  {
   "cell_type": "code",
   "execution_count": 3,
   "id": "e89e9794",
   "metadata": {},
   "outputs": [
    {
     "data": {
      "text/plain": [
       "array([0, 0, 0, 0, 0, 0, 0, 0, 0, 0, 0, 0, 0, 0, 0, 0, 0, 0, 0, 0, 0, 0,\n",
       "       0, 0, 0, 0, 0, 0, 0, 0, 0, 0, 0, 0, 0, 0, 0, 0, 0, 0, 0, 0, 0, 0,\n",
       "       0, 0, 0, 0, 0, 0, 0, 0, 0, 0, 0, 0, 0, 0, 0, 0, 0, 0, 0, 0, 0, 0,\n",
       "       0, 0, 0, 0, 0, 0, 0, 0, 0, 0, 0, 0, 0, 0, 0, 0, 0, 0, 0, 0, 0, 0,\n",
       "       0, 0, 0, 0, 0, 0, 0, 0, 0, 0, 0, 0, 0, 0, 0, 0, 0, 0, 0, 0, 0, 0,\n",
       "       0, 0, 0, 0, 0, 0, 0, 0, 0, 0, 0, 0, 0, 0, 0, 0, 0, 0, 0, 0, 0, 0,\n",
       "       0, 0, 0, 0, 0, 0, 0, 0, 0, 0, 0, 0, 0, 0, 0, 0, 0, 0, 0, 0, 1, 1,\n",
       "       1, 1, 1, 1, 1, 1, 1, 1, 1, 1, 0, 0, 0, 0, 0, 0, 0, 0, 0, 0, 0, 0,\n",
       "       1, 1, 1, 1, 1, 1, 1, 1, 1, 1, 1, 1, 1, 1, 1, 1, 0, 0, 0, 0, 0, 0,\n",
       "       0, 0, 0, 0, 0, 1, 1, 1, 1, 1, 1, 1, 1, 1, 1, 1, 1, 1, 1, 1, 1, 0,\n",
       "       0, 0, 0, 0, 0, 0, 0, 0, 0, 0, 0, 1, 1, 1, 1, 1, 1, 1, 1, 1, 1, 1,\n",
       "       0, 0, 0, 0, 0, 0, 0, 0, 0, 0, 0, 0, 0, 0, 0, 0, 0, 0, 1, 1, 1, 1,\n",
       "       1, 1, 1, 0, 1, 1, 0, 0, 0, 0, 0, 0, 0, 0, 0, 0, 0, 0, 0, 0, 0, 0,\n",
       "       0, 0, 0, 1, 1, 1, 1, 1, 0, 0, 0, 0, 0, 0, 0, 0, 0, 0, 0, 0, 0, 0,\n",
       "       0, 0, 0, 0, 0, 0, 0, 0, 0, 0, 0, 1, 1, 1, 1, 0, 0, 0, 0, 0, 0, 0,\n",
       "       0, 0, 0, 0, 0, 0, 0, 0, 0, 0, 0, 0, 0, 0, 0, 0, 0, 1, 1, 1, 1, 0,\n",
       "       0, 0, 0, 0, 0, 0, 0, 0, 0, 0, 0, 0, 0, 0, 0, 0, 0, 0, 0, 0, 0, 0,\n",
       "       0, 0, 1, 1, 1, 1, 1, 1, 0, 0, 0, 0, 0, 0, 0, 0, 0, 0, 0, 0, 0, 0,\n",
       "       0, 0, 0, 0, 0, 0, 0, 0, 0, 1, 1, 1, 1, 1, 1, 0, 0, 0, 0, 0, 0, 0,\n",
       "       0, 0, 0, 0, 0, 0, 0, 0, 0, 0, 0, 0, 0, 0, 0, 0, 1, 1, 1, 1, 1, 1,\n",
       "       0, 0, 0, 0, 0, 0, 0, 0, 0, 0, 0, 0, 0, 0, 0, 0, 0, 0, 0, 0, 0, 0,\n",
       "       0, 1, 1, 1, 1, 1, 0, 0, 0, 0, 0, 0, 0, 0, 0, 0, 0, 0, 0, 0, 0, 0,\n",
       "       0, 0, 0, 0, 0, 0, 0, 0, 0, 1, 1, 1, 1, 0, 0, 0, 0, 0, 0, 0, 0, 0,\n",
       "       0, 0, 0, 0, 0, 0, 0, 0, 0, 0, 0, 0, 1, 1, 1, 1, 1, 1, 1, 0, 0, 0,\n",
       "       0, 0, 0, 0, 0, 0, 0, 0, 0, 0, 0, 0, 0, 0, 0, 0, 1, 1, 1, 1, 1, 1,\n",
       "       1, 1, 0, 0, 0, 0, 0, 0, 0, 0, 0, 0, 0, 0, 0, 0, 0, 0, 0, 0, 1, 1,\n",
       "       1, 1, 1, 1, 1, 1, 1, 0, 0, 0, 0, 0, 0, 0, 0, 0, 0, 0, 0, 0, 0, 0,\n",
       "       0, 0, 1, 1, 1, 1, 1, 1, 1, 1, 1, 1, 0, 0, 0, 0, 0, 0, 0, 0, 0, 0,\n",
       "       0, 0, 0, 0, 0, 0, 1, 1, 1, 1, 1, 1, 1, 1, 1, 1, 0, 0, 0, 0, 0, 0,\n",
       "       0, 0, 0, 0, 0, 0, 0, 0, 0, 0, 1, 1, 1, 1, 1, 1, 1, 1, 1, 1, 0, 0,\n",
       "       0, 0, 0, 0, 0, 0, 0, 0, 0, 0, 0, 0, 0, 0, 0, 0, 1, 1, 1, 1, 1, 1,\n",
       "       1, 1, 0, 0, 0, 0, 0, 0, 0, 0, 0, 0, 0, 0, 0, 0, 0, 0, 0, 0, 0, 0,\n",
       "       0, 0, 0, 0, 0, 0, 0, 0, 0, 0, 0, 0, 0, 0, 0, 0, 0, 0, 0, 0, 0, 0,\n",
       "       0, 0, 0, 0, 0, 0, 0, 0, 0, 0, 0, 0, 0, 0, 0, 0, 0, 0, 0, 0, 0, 0,\n",
       "       0, 0, 0, 0, 0, 0, 0, 0, 0, 0, 0, 0, 0, 0, 0, 0, 0, 0, 0, 0, 0, 0,\n",
       "       0, 0, 0, 0, 0, 0, 0, 0, 0, 0, 0, 0, 0, 0])"
      ]
     },
     "execution_count": 3,
     "metadata": {},
     "output_type": "execute_result"
    }
   ],
   "source": [
    "buff = dataset['x_train'][0]\n",
    "np.where(buff>0, 1, 0)"
   ]
  },
  {
   "cell_type": "code",
   "execution_count": 4,
   "id": "3dc3c429",
   "metadata": {},
   "outputs": [
    {
     "data": {
      "text/plain": [
       "array([0., 0., 0., 0., 0., 1., 0., 0., 0., 0.])"
      ]
     },
     "execution_count": 4,
     "metadata": {},
     "output_type": "execute_result"
    }
   ],
   "source": [
    "dataset['y_train'][0]"
   ]
  },
  {
   "cell_type": "code",
   "execution_count": 11,
   "id": "ba284973",
   "metadata": {},
   "outputs": [],
   "source": [
    "def make_param(shape_list):\n",
    "    w_list = []\n",
    "    b_list = []\n",
    "    \n",
    "    for i in range(len(shape_list) - 1):\n",
    "        w = np.random.randn(shape_list[i], shape_list[i + 1])\n",
    "        b = np.ones(shape_list[i + 1]) / 10\n",
    "        w_list.append(w)\n",
    "        b_list.append(b)\n",
    "    return w_list, b_list # w[0] = w', w[1] = w'', b[0] = b', b[1] = b''\n",
    "\n",
    "def sigmoid(x):\n",
    "    return 1 / (1 + np.exp(-x))\n",
    "\n",
    "def inner_product(x, w, b):\n",
    "    return np.dot(x, w) + b\n",
    "\n",
    "def activation_func(x, w, b):\n",
    "    return sigmoid(inner_product(x, w, b))"
   ]
  },
  {
   "cell_type": "code",
   "execution_count": 12,
   "id": "a832cd76",
   "metadata": {},
   "outputs": [],
   "source": [
    "def calculate(x, w_list, b_list):  \n",
    "    a1 = inner_product(x, w_list[0], b_list[0])\n",
    "    y1 = sigmoid(a1)\n",
    "    \n",
    "    a2 = inner_product(y1, w_list[1], b_list[1])\n",
    "    y2 = sigmoid(a2)\n",
    "    \n",
    "    y2 /= np.sum(y2, axis = 1, keepdims=True)\n",
    "    \n",
    "    return y1, y2"
   ]
  },
  {
   "cell_type": "code",
   "execution_count": 14,
   "id": "7cb494af",
   "metadata": {},
   "outputs": [],
   "source": [
    "def update(x_train, w_list, b_list, y_train, lr):\n",
    "    y1, y2 = calculate(x_train, w_list, b_list)\n",
    "    d12_d11 = 1.0\n",
    "    d11_d9 = 1/x_train.shape[0]*(y2 - y_train)\n",
    "    d9_d8 = y2*(1-y2)\n",
    "    d8_d7 = 1\n",
    "    d8_d6 = y1.T\n",
    "    d8_d5 = w_list[1].T\n",
    "    d5_d4 = y1*(1-y1)\n",
    "    d4_d3 = 1\n",
    "    d4_d2 = x_train.T\n",
    "    \n",
    "    d12_d8 = d12_d11 * d11_d9 * d9_d8\n",
    "    b_list[1] -= lr * np.sum(d12_d8 * d8_d7, axis = 0)\n",
    "    w_list[1] -= lr * np.dot(d8_d6, d12_d8)\n",
    "    \n",
    "    #d12_d8 = d12_d11 * d11_d9 * d9_d8\n",
    "    d12_d4 = d12_d8 * d8_d5 * d5_d4\n",
    "    b_list[0] -= lr * np.sum(d12_d4 * d4_d3, axis = 0)\n",
    "    w_list[0] -= lr * np.dot(d4_d2, d12_d4)\n",
    "    \n",
    "    return w_list, b_list"
   ]
  },
  {
   "cell_type": "code",
   "execution_count": null,
   "id": "61426512",
   "metadata": {},
   "outputs": [],
   "source": [
    "# goto source/NN 查看剩下的部分"
   ]
  }
 ],
 "metadata": {
  "kernelspec": {
   "display_name": "Python 3 (ipykernel)",
   "language": "python",
   "name": "python3"
  },
  "language_info": {
   "codemirror_mode": {
    "name": "ipython",
    "version": 3
   },
   "file_extension": ".py",
   "mimetype": "text/x-python",
   "name": "python",
   "nbconvert_exporter": "python",
   "pygments_lexer": "ipython3",
   "version": "3.8.8"
  }
 },
 "nbformat": 4,
 "nbformat_minor": 5
}
