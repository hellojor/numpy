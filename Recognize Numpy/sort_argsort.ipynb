{
 "cells": [
  {
   "cell_type": "markdown",
   "id": "fd2cec0b",
   "metadata": {},
   "source": [
    "# 陣列排列 - sort() 與 argsort()\n",
    "\n",
    "    np.sort() vs np.argsort()\n",
    "    np.sort(a, axis=-1, kind='quicksort', order=None)：回傳值\n",
    "    np.argsort(a, axis=-1, kind='quicksort', order=None)：回傳索引值\n",
    "    kind: quicksort, mergesort, heapsort"
   ]
  },
  {
   "cell_type": "code",
   "execution_count": 1,
   "id": "81a1cf01",
   "metadata": {},
   "outputs": [],
   "source": [
    "import numpy as np"
   ]
  },
  {
   "cell_type": "markdown",
   "id": "883b4f4a",
   "metadata": {},
   "source": [
    "## 1D"
   ]
  },
  {
   "cell_type": "code",
   "execution_count": 2,
   "id": "600140b1",
   "metadata": {},
   "outputs": [
    {
     "data": {
      "text/plain": [
       "array([12, 20,  0, 28, 29, 54, 73, 11,  6,  3, 77, 93,  9, 61, 76, 97,  4,\n",
       "       98, 66, 13])"
      ]
     },
     "execution_count": 2,
     "metadata": {},
     "output_type": "execute_result"
    }
   ],
   "source": [
    "a = np.random.randint(0, 100, size=20)\n",
    "a"
   ]
  },
  {
   "cell_type": "code",
   "execution_count": 3,
   "id": "8e7f91c2",
   "metadata": {},
   "outputs": [
    {
     "data": {
      "text/plain": [
       "array([ 0,  3,  4,  6,  9, 11, 12, 13, 20, 28, 29, 54, 61, 66, 73, 76, 77,\n",
       "       93, 97, 98])"
      ]
     },
     "execution_count": 3,
     "metadata": {},
     "output_type": "execute_result"
    }
   ],
   "source": [
    "np.sort(a)"
   ]
  },
  {
   "cell_type": "code",
   "execution_count": 4,
   "id": "3efaa07c",
   "metadata": {},
   "outputs": [
    {
     "data": {
      "text/plain": [
       "array([0, 2, 1], dtype=int64)"
      ]
     },
     "execution_count": 4,
     "metadata": {},
     "output_type": "execute_result"
    }
   ],
   "source": [
    "a = np.array([1, 3, 2])\n",
    "np.argsort(a)"
   ]
  },
  {
   "cell_type": "markdown",
   "id": "97e6ca25",
   "metadata": {},
   "source": [
    "## 2D"
   ]
  },
  {
   "cell_type": "code",
   "execution_count": 5,
   "id": "94c4927b",
   "metadata": {},
   "outputs": [
    {
     "data": {
      "text/plain": [
       "array([[39, 10, 43, 14,  5],\n",
       "       [48, 29, 89, 78, 14],\n",
       "       [41,  0, 65, 36, 84],\n",
       "       [82, 82, 54, 98, 27]])"
      ]
     },
     "execution_count": 5,
     "metadata": {},
     "output_type": "execute_result"
    }
   ],
   "source": [
    "b = np.random.randint(0, 100, size=20).reshape(4, 5)\n",
    "b"
   ]
  },
  {
   "cell_type": "code",
   "execution_count": 6,
   "id": "25374151",
   "metadata": {},
   "outputs": [
    {
     "data": {
      "text/plain": [
       "array([[ 5, 10, 14, 39, 43],\n",
       "       [14, 29, 48, 78, 89],\n",
       "       [ 0, 36, 41, 65, 84],\n",
       "       [27, 54, 82, 82, 98]])"
      ]
     },
     "execution_count": 6,
     "metadata": {},
     "output_type": "execute_result"
    }
   ],
   "source": [
    "np.sort(b)"
   ]
  },
  {
   "cell_type": "code",
   "execution_count": 7,
   "id": "dfe1884b",
   "metadata": {},
   "outputs": [
    {
     "data": {
      "text/plain": [
       "array([[4, 1, 3, 0, 2],\n",
       "       [4, 1, 0, 3, 2],\n",
       "       [1, 3, 0, 2, 4],\n",
       "       [4, 2, 0, 1, 3]], dtype=int64)"
      ]
     },
     "execution_count": 7,
     "metadata": {},
     "output_type": "execute_result"
    }
   ],
   "source": [
    "np.argsort(b)"
   ]
  },
  {
   "cell_type": "code",
   "execution_count": 8,
   "id": "453dbb51",
   "metadata": {},
   "outputs": [
    {
     "data": {
      "text/plain": [
       "array([[39,  0, 43, 14,  5],\n",
       "       [41, 10, 54, 36, 14],\n",
       "       [48, 29, 65, 78, 27],\n",
       "       [82, 82, 89, 98, 84]])"
      ]
     },
     "execution_count": 8,
     "metadata": {},
     "output_type": "execute_result"
    }
   ],
   "source": [
    "np.sort(b, axis=0)"
   ]
  },
  {
   "cell_type": "code",
   "execution_count": 9,
   "id": "8d91b095",
   "metadata": {},
   "outputs": [
    {
     "data": {
      "text/plain": [
       "array([[0, 2, 0, 0, 0],\n",
       "       [2, 0, 3, 2, 1],\n",
       "       [1, 1, 2, 1, 3],\n",
       "       [3, 3, 1, 3, 2]], dtype=int64)"
      ]
     },
     "execution_count": 9,
     "metadata": {},
     "output_type": "execute_result"
    }
   ],
   "source": [
    "np.argsort(b, axis=0)"
   ]
  },
  {
   "cell_type": "markdown",
   "id": "a47bd7e5",
   "metadata": {},
   "source": [
    "## 3D"
   ]
  },
  {
   "cell_type": "code",
   "execution_count": 10,
   "id": "b4f438e8",
   "metadata": {},
   "outputs": [
    {
     "data": {
      "text/plain": [
       "array([[[64, 56, 70, 70, 60],\n",
       "        [60, 94, 44, 40, 86],\n",
       "        [76, 66, 22, 65, 17],\n",
       "        [86, 81, 17, 40, 65]],\n",
       "\n",
       "       [[ 1, 60, 32, 19,  8],\n",
       "        [63, 79, 98, 81, 23],\n",
       "        [23, 96, 42, 30, 53],\n",
       "        [90, 47, 95, 13, 24]]])"
      ]
     },
     "execution_count": 10,
     "metadata": {},
     "output_type": "execute_result"
    }
   ],
   "source": [
    "c = np.random.randint(0, 100, size=40).reshape(2, 4, 5)\n",
    "c"
   ]
  },
  {
   "cell_type": "code",
   "execution_count": 11,
   "id": "040cc023",
   "metadata": {},
   "outputs": [
    {
     "data": {
      "text/plain": [
       "array([[[56, 60, 64, 70, 70],\n",
       "        [40, 44, 60, 86, 94],\n",
       "        [17, 22, 65, 66, 76],\n",
       "        [17, 40, 65, 81, 86]],\n",
       "\n",
       "       [[ 1,  8, 19, 32, 60],\n",
       "        [23, 63, 79, 81, 98],\n",
       "        [23, 30, 42, 53, 96],\n",
       "        [13, 24, 47, 90, 95]]])"
      ]
     },
     "execution_count": 11,
     "metadata": {},
     "output_type": "execute_result"
    }
   ],
   "source": [
    "np.sort(c)"
   ]
  },
  {
   "cell_type": "code",
   "execution_count": 12,
   "id": "ed49cff8",
   "metadata": {},
   "outputs": [
    {
     "data": {
      "text/plain": [
       "array([[[ 1, 56, 32, 19,  8],\n",
       "        [60, 79, 44, 40, 23],\n",
       "        [23, 66, 22, 30, 17],\n",
       "        [86, 47, 17, 13, 24]],\n",
       "\n",
       "       [[64, 60, 70, 70, 60],\n",
       "        [63, 94, 98, 81, 86],\n",
       "        [76, 96, 42, 65, 53],\n",
       "        [90, 81, 95, 40, 65]]])"
      ]
     },
     "execution_count": 12,
     "metadata": {},
     "output_type": "execute_result"
    }
   ],
   "source": [
    "np.sort(c, axis=0)"
   ]
  },
  {
   "cell_type": "code",
   "execution_count": 13,
   "id": "be139f7c",
   "metadata": {},
   "outputs": [
    {
     "data": {
      "text/plain": [
       "array([[[1, 0, 1, 1, 1],\n",
       "        [0, 1, 0, 0, 1],\n",
       "        [1, 0, 0, 1, 0],\n",
       "        [0, 1, 0, 1, 1]],\n",
       "\n",
       "       [[0, 1, 0, 0, 0],\n",
       "        [1, 0, 1, 1, 0],\n",
       "        [0, 1, 1, 0, 1],\n",
       "        [1, 0, 1, 0, 0]]], dtype=int64)"
      ]
     },
     "execution_count": 13,
     "metadata": {},
     "output_type": "execute_result"
    }
   ],
   "source": [
    "np.argsort(c, axis=0)"
   ]
  },
  {
   "cell_type": "markdown",
   "id": "9e73456d",
   "metadata": {},
   "source": [
    "## order用法"
   ]
  },
  {
   "cell_type": "code",
   "execution_count": 14,
   "id": "1646253d",
   "metadata": {},
   "outputs": [],
   "source": [
    "values = [('Catherine', 1, 8.6), ('Bob', 12, 7.6), ('Alice', 25, 9.6), \n",
    "          ('David', 10, 7.6)]\n",
    "dt = [('name', 'S10'), ('ID', int), ('score', float)]"
   ]
  },
  {
   "cell_type": "code",
   "execution_count": 15,
   "id": "11f7f88b",
   "metadata": {},
   "outputs": [],
   "source": [
    "a = np.array(values, dtype=dt)"
   ]
  },
  {
   "cell_type": "code",
   "execution_count": 16,
   "id": "907ffceb",
   "metadata": {},
   "outputs": [
    {
     "data": {
      "text/plain": [
       "array([(b'Alice', 25, 9.6), (b'Bob', 12, 7.6), (b'Catherine',  1, 8.6),\n",
       "       (b'David', 10, 7.6)],\n",
       "      dtype=[('name', 'S10'), ('ID', '<i4'), ('score', '<f8')])"
      ]
     },
     "execution_count": 16,
     "metadata": {},
     "output_type": "execute_result"
    }
   ],
   "source": [
    "np.sort(a, order='name')"
   ]
  },
  {
   "cell_type": "code",
   "execution_count": 17,
   "id": "af1f2487",
   "metadata": {},
   "outputs": [
    {
     "data": {
      "text/plain": [
       "array([(b'Catherine',  1, 8.6), (b'David', 10, 7.6), (b'Bob', 12, 7.6),\n",
       "       (b'Alice', 25, 9.6)],\n",
       "      dtype=[('name', 'S10'), ('ID', '<i4'), ('score', '<f8')])"
      ]
     },
     "execution_count": 17,
     "metadata": {},
     "output_type": "execute_result"
    }
   ],
   "source": [
    "np.sort(a, order='ID')"
   ]
  },
  {
   "cell_type": "code",
   "execution_count": 18,
   "id": "4e47360a",
   "metadata": {},
   "outputs": [
    {
     "data": {
      "text/plain": [
       "array([(b'Bob', 12, 7.6), (b'David', 10, 7.6), (b'Catherine',  1, 8.6),\n",
       "       (b'Alice', 25, 9.6)],\n",
       "      dtype=[('name', 'S10'), ('ID', '<i4'), ('score', '<f8')])"
      ]
     },
     "execution_count": 18,
     "metadata": {},
     "output_type": "execute_result"
    }
   ],
   "source": [
    "np.sort(a, order='score')"
   ]
  },
  {
   "cell_type": "code",
   "execution_count": 19,
   "id": "9769f1e8",
   "metadata": {},
   "outputs": [
    {
     "data": {
      "text/plain": [
       "array([1, 3, 0, 2], dtype=int64)"
      ]
     },
     "execution_count": 19,
     "metadata": {},
     "output_type": "execute_result"
    }
   ],
   "source": [
    "np.argsort(a, order='score')"
   ]
  },
  {
   "cell_type": "code",
   "execution_count": 20,
   "id": "d5dc9a2c",
   "metadata": {},
   "outputs": [
    {
     "data": {
      "text/plain": [
       "array([(b'David', 10, 7.6), (b'Bob', 12, 7.6), (b'Catherine',  1, 8.6),\n",
       "       (b'Alice', 25, 9.6)],\n",
       "      dtype=[('name', 'S10'), ('ID', '<i4'), ('score', '<f8')])"
      ]
     },
     "execution_count": 20,
     "metadata": {},
     "output_type": "execute_result"
    }
   ],
   "source": [
    "np.sort(a, order=['score', 'ID'])"
   ]
  },
  {
   "cell_type": "code",
   "execution_count": 21,
   "id": "ffabeef8",
   "metadata": {
    "scrolled": true
   },
   "outputs": [
    {
     "data": {
      "text/plain": [
       "array([(b'David', 10, 7.6), (b'Bob', 12, 7.6), (b'Catherine',  1, 8.6),\n",
       "       (b'Alice', 25, 9.6)],\n",
       "      dtype=[('name', 'S10'), ('ID', '<i4'), ('score', '<f8')])"
      ]
     },
     "execution_count": 21,
     "metadata": {},
     "output_type": "execute_result"
    }
   ],
   "source": [
    "np.sort(a, order=['score', 'ID'])"
   ]
  },
  {
   "cell_type": "code",
   "execution_count": 22,
   "id": "e5adc49a",
   "metadata": {},
   "outputs": [
    {
     "data": {
      "text/plain": [
       "array([89, 59, 83, 27, 97,  4, 92,  8, 16, 68])"
      ]
     },
     "execution_count": 22,
     "metadata": {},
     "output_type": "execute_result"
    }
   ],
   "source": [
    "d = np.random.randint(0, 100, size=10)\n",
    "d"
   ]
  },
  {
   "cell_type": "code",
   "execution_count": 23,
   "id": "7ec6964b",
   "metadata": {},
   "outputs": [
    {
     "data": {
      "text/plain": [
       "array([ 4,  8, 16, 27, 59, 68, 83, 89, 92, 97])"
      ]
     },
     "execution_count": 23,
     "metadata": {},
     "output_type": "execute_result"
    }
   ],
   "source": [
    "np.sort(d)"
   ]
  },
  {
   "cell_type": "markdown",
   "id": "6918f32c",
   "metadata": {},
   "source": [
    "d并沒有改變"
   ]
  },
  {
   "cell_type": "code",
   "execution_count": 24,
   "id": "4b781e3a",
   "metadata": {},
   "outputs": [
    {
     "data": {
      "text/plain": [
       "array([89, 59, 83, 27, 97,  4, 92,  8, 16, 68])"
      ]
     },
     "execution_count": 24,
     "metadata": {},
     "output_type": "execute_result"
    }
   ],
   "source": [
    "d"
   ]
  },
  {
   "cell_type": "code",
   "execution_count": 25,
   "id": "d0d8f8c9",
   "metadata": {},
   "outputs": [
    {
     "data": {
      "text/plain": [
       "array([ 4,  8, 16, 27, 59, 68, 83, 89, 92, 97])"
      ]
     },
     "execution_count": 25,
     "metadata": {},
     "output_type": "execute_result"
    }
   ],
   "source": [
    "d.sort()\n",
    "d"
   ]
  }
 ],
 "metadata": {
  "kernelspec": {
   "display_name": "Python 3 (ipykernel)",
   "language": "python",
   "name": "python3"
  },
  "language_info": {
   "codemirror_mode": {
    "name": "ipython",
    "version": 3
   },
   "file_extension": ".py",
   "mimetype": "text/x-python",
   "name": "python",
   "nbconvert_exporter": "python",
   "pygments_lexer": "ipython3",
   "version": "3.8.8"
  }
 },
 "nbformat": 4,
 "nbformat_minor": 5
}
