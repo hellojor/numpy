{
 "cells": [
  {
   "cell_type": "markdown",
   "id": "feb6498a",
   "metadata": {},
   "source": [
    "# 計算矩陣的 determinant - linalg.det()\n",
    "\n",
    "    linalg:Linear Algebra\n",
    "    determinant:det(A) or |A|\n",
    "    \n",
    "    np.linalg.det(a)\n",
    "    a.shape must be N x N"
   ]
  },
  {
   "cell_type": "code",
   "execution_count": 1,
   "id": "1dcf8054",
   "metadata": {},
   "outputs": [],
   "source": [
    "import numpy as np\n",
    "import numpy.linalg as LA"
   ]
  },
  {
   "cell_type": "code",
   "execution_count": 2,
   "id": "d6570a3f",
   "metadata": {},
   "outputs": [
    {
     "data": {
      "text/plain": [
       "array([[ 2,  3],\n",
       "       [ 4, -1]])"
      ]
     },
     "execution_count": 2,
     "metadata": {},
     "output_type": "execute_result"
    }
   ],
   "source": [
    "a = np.array([[2, 3], [4, -1]])\n",
    "a"
   ]
  },
  {
   "cell_type": "code",
   "execution_count": 3,
   "id": "ffa91f27",
   "metadata": {},
   "outputs": [
    {
     "data": {
      "text/plain": [
       "-14.000000000000004"
      ]
     },
     "execution_count": 3,
     "metadata": {},
     "output_type": "execute_result"
    }
   ],
   "source": [
    "LA.det(a)"
   ]
  },
  {
   "cell_type": "code",
   "execution_count": 4,
   "id": "a5378f4b",
   "metadata": {},
   "outputs": [
    {
     "data": {
      "text/plain": [
       "array([[[-5,  2,  1],\n",
       "        [ 0, -2, -2],\n",
       "        [-1, -1,  2]],\n",
       "\n",
       "       [[-4, -3, -2],\n",
       "        [-5, -3, -1],\n",
       "        [ 4,  2,  5]],\n",
       "\n",
       "       [[-2,  3,  3],\n",
       "        [-5, -2,  0],\n",
       "        [-5, -4,  5]]])"
      ]
     },
     "execution_count": 4,
     "metadata": {},
     "output_type": "execute_result"
    }
   ],
   "source": [
    "d = np.random.randint(-5, 6, size=(3, 3, 3))\n",
    "d"
   ]
  },
  {
   "cell_type": "code",
   "execution_count": 5,
   "id": "7151d03b",
   "metadata": {},
   "outputs": [
    {
     "data": {
      "text/plain": [
       "array([ 32., -15., 125.])"
      ]
     },
     "execution_count": 5,
     "metadata": {},
     "output_type": "execute_result"
    }
   ],
   "source": [
    "LA.det(d)"
   ]
  }
 ],
 "metadata": {
  "kernelspec": {
   "display_name": "Python 3 (ipykernel)",
   "language": "python",
   "name": "python3"
  },
  "language_info": {
   "codemirror_mode": {
    "name": "ipython",
    "version": 3
   },
   "file_extension": ".py",
   "mimetype": "text/x-python",
   "name": "python",
   "nbconvert_exporter": "python",
   "pygments_lexer": "ipython3",
   "version": "3.8.8"
  }
 },
 "nbformat": 4,
 "nbformat_minor": 5
}
