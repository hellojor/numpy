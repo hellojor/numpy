{
 "cells": [
  {
   "cell_type": "markdown",
   "id": "d6ccfc01",
   "metadata": {},
   "source": [
    "# 陣列合并 - hstack() 與 vstack()"
   ]
  },
  {
   "cell_type": "markdown",
   "id": "48d344a8",
   "metadata": {},
   "source": [
    "## np.hstack()\n",
    "\n",
    "    np.hstack(tup)\n",
    "    hstack的字意就是沿著水平(horizontal)方向做合并、推叠，axis = 1"
   ]
  },
  {
   "cell_type": "code",
   "execution_count": 1,
   "id": "3b44a925",
   "metadata": {},
   "outputs": [],
   "source": [
    "import numpy as np"
   ]
  },
  {
   "cell_type": "markdown",
   "id": "a9134abd",
   "metadata": {},
   "source": [
    "### 1D"
   ]
  },
  {
   "cell_type": "code",
   "execution_count": 2,
   "id": "b27600b2",
   "metadata": {},
   "outputs": [
    {
     "data": {
      "text/plain": [
       "array([ 0,  1,  2,  3,  4,  5,  6,  7,  8,  9, 10, 11])"
      ]
     },
     "execution_count": 2,
     "metadata": {},
     "output_type": "execute_result"
    }
   ],
   "source": [
    "a = np.arange(12)\n",
    "a"
   ]
  },
  {
   "cell_type": "code",
   "execution_count": 3,
   "id": "cf7ae33d",
   "metadata": {},
   "outputs": [],
   "source": [
    "b = np.array([1, 2])"
   ]
  },
  {
   "cell_type": "code",
   "execution_count": 4,
   "id": "574493d6",
   "metadata": {},
   "outputs": [
    {
     "data": {
      "text/plain": [
       "array([ 0,  1,  2,  3,  4,  5,  6,  7,  8,  9, 10, 11,  1,  2])"
      ]
     },
     "execution_count": 4,
     "metadata": {},
     "output_type": "execute_result"
    }
   ],
   "source": [
    "np.hstack((a, b))"
   ]
  },
  {
   "cell_type": "markdown",
   "id": "0ad51181",
   "metadata": {},
   "source": [
    "### 2D"
   ]
  },
  {
   "cell_type": "code",
   "execution_count": 5,
   "id": "abf2a45c",
   "metadata": {},
   "outputs": [
    {
     "data": {
      "text/plain": [
       "array([[0, 1],\n",
       "       [2, 3]])"
      ]
     },
     "execution_count": 5,
     "metadata": {},
     "output_type": "execute_result"
    }
   ],
   "source": [
    "c = np.arange(4).reshape(2, 2)\n",
    "c"
   ]
  },
  {
   "cell_type": "code",
   "execution_count": 6,
   "id": "99392db5",
   "metadata": {},
   "outputs": [],
   "source": [
    "#np.hstack((c, a)) #error"
   ]
  },
  {
   "cell_type": "code",
   "execution_count": 7,
   "id": "36582b6e",
   "metadata": {},
   "outputs": [
    {
     "data": {
      "text/plain": [
       "array([[0, 1, 2],\n",
       "       [3, 4, 5]])"
      ]
     },
     "execution_count": 7,
     "metadata": {},
     "output_type": "execute_result"
    }
   ],
   "source": [
    "d = np.arange(6).reshape(2, 3)\n",
    "d"
   ]
  },
  {
   "cell_type": "code",
   "execution_count": 8,
   "id": "62c291a5",
   "metadata": {},
   "outputs": [
    {
     "data": {
      "text/plain": [
       "array([[0, 1, 0, 1, 2],\n",
       "       [2, 3, 3, 4, 5]])"
      ]
     },
     "execution_count": 8,
     "metadata": {},
     "output_type": "execute_result"
    }
   ],
   "source": [
    "np.hstack((c, d))"
   ]
  },
  {
   "cell_type": "markdown",
   "id": "9dddca47",
   "metadata": {},
   "source": [
    "### 3D"
   ]
  },
  {
   "cell_type": "code",
   "execution_count": 9,
   "id": "de6b1fc2",
   "metadata": {},
   "outputs": [
    {
     "data": {
      "text/plain": [
       "(array([[[ 0,  1,  2],\n",
       "         [ 3,  4,  5]],\n",
       " \n",
       "        [[ 6,  7,  8],\n",
       "         [ 9, 10, 11]]]),\n",
       " (2, 2, 3))"
      ]
     },
     "execution_count": 9,
     "metadata": {},
     "output_type": "execute_result"
    }
   ],
   "source": [
    "e = np.arange(12).reshape(2, 2, 3)\n",
    "e, e.shape"
   ]
  },
  {
   "cell_type": "code",
   "execution_count": 10,
   "id": "fd3fa0ce",
   "metadata": {},
   "outputs": [
    {
     "data": {
      "text/plain": [
       "(array([[[0, 1, 2]],\n",
       " \n",
       "        [[3, 4, 5]]]),\n",
       " (2, 1, 3))"
      ]
     },
     "execution_count": 10,
     "metadata": {},
     "output_type": "execute_result"
    }
   ],
   "source": [
    "f = np.arange(6).reshape(2, 1, 3)\n",
    "f, f.shape"
   ]
  },
  {
   "cell_type": "code",
   "execution_count": 11,
   "id": "85b08348",
   "metadata": {},
   "outputs": [
    {
     "data": {
      "text/plain": [
       "(array([[[ 0,  1,  2],\n",
       "         [ 3,  4,  5],\n",
       "         [ 0,  1,  2]],\n",
       " \n",
       "        [[ 6,  7,  8],\n",
       "         [ 9, 10, 11],\n",
       "         [ 3,  4,  5]]]),\n",
       " (2, 3, 3))"
      ]
     },
     "execution_count": 11,
     "metadata": {},
     "output_type": "execute_result"
    }
   ],
   "source": [
    "np.hstack((e, f)), np.hstack((e, f)).shape"
   ]
  },
  {
   "cell_type": "markdown",
   "id": "0a900ec5",
   "metadata": {},
   "source": [
    "               可合并                             不可合并\n",
    "    \n",
    "          (2, 3) 與 (2, 4)                    (2, 3) 與 (4, 2)\n",
    "    \n",
    "          (2, 2) 與 (2, 2)                    (2, 2) 與 (3, 2)\n",
    "    \n",
    "       (1, 2, 3) 與 (1, 4, 3)              (1, 2, 3) 與 (2, 2, 3)\n",
    "    \n",
    "    (2, 5, 3, 2) 與 (2, 9, 3, 2)        (2, 5, 3, 2) 與 (2, 5, 9, 2)"
   ]
  },
  {
   "cell_type": "markdown",
   "id": "b5b582db",
   "metadata": {},
   "source": [
    "## np.vstack()\n",
    "\n",
    "    np.vstack(tup)\n",
    "    vstack的字意就是沿著垂直(vertical)方向做合并、推叠，axis = 0"
   ]
  },
  {
   "cell_type": "markdown",
   "id": "8d4cf462",
   "metadata": {},
   "source": [
    "### 1D"
   ]
  },
  {
   "cell_type": "code",
   "execution_count": 12,
   "id": "b2d58c19",
   "metadata": {},
   "outputs": [
    {
     "data": {
      "text/plain": [
       "array([[ 0],\n",
       "       [ 1],\n",
       "       [ 2],\n",
       "       [ 3],\n",
       "       [ 4],\n",
       "       [ 5],\n",
       "       [ 6],\n",
       "       [ 7],\n",
       "       [ 8],\n",
       "       [ 9],\n",
       "       [10],\n",
       "       [11]])"
      ]
     },
     "execution_count": 12,
     "metadata": {},
     "output_type": "execute_result"
    }
   ],
   "source": [
    "a = np.arange(12).reshape(-1, 1)\n",
    "a## 2D"
   ]
  },
  {
   "cell_type": "code",
   "execution_count": 13,
   "id": "2b3df6f8",
   "metadata": {},
   "outputs": [
    {
     "data": {
      "text/plain": [
       "array([[0],\n",
       "       [1]])"
      ]
     },
     "execution_count": 13,
     "metadata": {},
     "output_type": "execute_result"
    }
   ],
   "source": [
    "b = np.arange(2).reshape(-1, 1)\n",
    "b"
   ]
  },
  {
   "cell_type": "code",
   "execution_count": 14,
   "id": "021b97b3",
   "metadata": {},
   "outputs": [
    {
     "data": {
      "text/plain": [
       "array([[ 0],\n",
       "       [ 1],\n",
       "       [ 2],\n",
       "       [ 3],\n",
       "       [ 4],\n",
       "       [ 5],\n",
       "       [ 6],\n",
       "       [ 7],\n",
       "       [ 8],\n",
       "       [ 9],\n",
       "       [10],\n",
       "       [11],\n",
       "       [ 0],\n",
       "       [ 1]])"
      ]
     },
     "execution_count": 14,
     "metadata": {},
     "output_type": "execute_result"
    }
   ],
   "source": [
    "np.vstack((a, b))"
   ]
  },
  {
   "cell_type": "code",
   "execution_count": 15,
   "id": "a4dd5dcb",
   "metadata": {},
   "outputs": [
    {
     "data": {
      "text/plain": [
       "array([[0, 1]])"
      ]
     },
     "execution_count": 15,
     "metadata": {},
     "output_type": "execute_result"
    }
   ],
   "source": [
    "c = np.arange(2).reshape(1, 2)\n",
    "c"
   ]
  },
  {
   "cell_type": "code",
   "execution_count": 16,
   "id": "a9c377f9",
   "metadata": {},
   "outputs": [],
   "source": [
    "#np.vstack((a, c)) #error"
   ]
  },
  {
   "cell_type": "markdown",
   "id": "f77a7f2e",
   "metadata": {},
   "source": [
    "### 2D"
   ]
  },
  {
   "cell_type": "code",
   "execution_count": 17,
   "id": "a429ae98",
   "metadata": {},
   "outputs": [
    {
     "data": {
      "text/plain": [
       "array([[0, 1],\n",
       "       [2, 3]])"
      ]
     },
     "execution_count": 17,
     "metadata": {},
     "output_type": "execute_result"
    }
   ],
   "source": [
    "d = np.arange(4).reshape(2, 2)\n",
    "d## 2D"
   ]
  },
  {
   "cell_type": "code",
   "execution_count": 18,
   "id": "6655a2f9",
   "metadata": {},
   "outputs": [
    {
     "data": {
      "text/plain": [
       "array([[0, 1],\n",
       "       [0, 1],\n",
       "       [2, 3]])"
      ]
     },
     "execution_count": 18,
     "metadata": {},
     "output_type": "execute_result"
    }
   ],
   "source": [
    "np.vstack((c, d))   "
   ]
  },
  {
   "cell_type": "markdown",
   "id": "20f876ac",
   "metadata": {},
   "source": [
    "### 3D"
   ]
  },
  {
   "cell_type": "code",
   "execution_count": 19,
   "id": "75f3cd67",
   "metadata": {},
   "outputs": [
    {
     "data": {
      "text/plain": [
       "array([[[ 0,  1],\n",
       "        [ 2,  3],\n",
       "        [ 4,  5]],\n",
       "\n",
       "       [[ 6,  7],\n",
       "        [ 8,  9],\n",
       "        [10, 11]],\n",
       "\n",
       "       [[12, 13],\n",
       "        [14, 15],\n",
       "        [16, 17]],\n",
       "\n",
       "       [[18, 19],\n",
       "        [20, 21],\n",
       "        [22, 23]]])"
      ]
     },
     "execution_count": 19,
     "metadata": {},
     "output_type": "execute_result"
    }
   ],
   "source": [
    "e = np.arange(24).reshape(4, 3, 2)\n",
    "e"
   ]
  },
  {
   "cell_type": "code",
   "execution_count": 20,
   "id": "a027a050",
   "metadata": {},
   "outputs": [
    {
     "data": {
      "text/plain": [
       "array([[[0, 1],\n",
       "        [2, 3],\n",
       "        [4, 5]]])"
      ]
     },
     "execution_count": 20,
     "metadata": {},
     "output_type": "execute_result"
    }
   ],
   "source": [
    "f = np.arange(6).reshape(1, 3, 2)\n",
    "f"
   ]
  },
  {
   "cell_type": "code",
   "execution_count": 21,
   "id": "be2dcf90",
   "metadata": {},
   "outputs": [
    {
     "data": {
      "text/plain": [
       "(array([[[ 0,  1],\n",
       "         [ 2,  3],\n",
       "         [ 4,  5]],\n",
       " \n",
       "        [[ 6,  7],\n",
       "         [ 8,  9],\n",
       "         [10, 11]],\n",
       " \n",
       "        [[12, 13],\n",
       "         [14, 15],\n",
       "         [16, 17]],\n",
       " \n",
       "        [[18, 19],\n",
       "         [20, 21],\n",
       "         [22, 23]],\n",
       " \n",
       "        [[ 0,  1],\n",
       "         [ 2,  3],\n",
       "         [ 4,  5]]]),\n",
       " (5, 3, 2))"
      ]
     },
     "execution_count": 21,
     "metadata": {},
     "output_type": "execute_result"
    }
   ],
   "source": [
    "np.vstack((e, f)), np.vstack((e, f)).shape"
   ]
  },
  {
   "cell_type": "markdown",
   "id": "f44937c3",
   "metadata": {},
   "source": [
    "               可合并                             不可合并\n",
    "    \n",
    "          (2, 3) 與 (3, 3)                    (2, 3) 與 (2, 2)\n",
    "    \n",
    "          (2, 2) 與 (2, 2)                    (2, 2) 與 (2, 5)\n",
    "    \n",
    "       (1, 2, 3) 與 (4, 2, 3)              (1, 2, 3) 與 (1, 2, 2)\n",
    "    \n",
    "    (2, 5, 3, 2) 與 (9, 5, 3, 2)        (2, 5, 3, 2) 與 (2, 7, 3, 2)"
   ]
  }
 ],
 "metadata": {
  "kernelspec": {
   "display_name": "Python 3 (ipykernel)",
   "language": "python",
   "name": "python3"
  },
  "language_info": {
   "codemirror_mode": {
    "name": "ipython",
    "version": 3
   },
   "file_extension": ".py",
   "mimetype": "text/x-python",
   "name": "python",
   "nbconvert_exporter": "python",
   "pygments_lexer": "ipython3",
   "version": "3.8.8"
  }
 },
 "nbformat": 4,
 "nbformat_minor": 5
}
