{
 "cells": [
  {
   "cell_type": "markdown",
   "id": "86191b00",
   "metadata": {},
   "source": [
    "# 資料的正規化(Normalization)"
   ]
  },
  {
   "cell_type": "markdown",
   "id": "b4435625",
   "metadata": {},
   "source": [
    "    在機器學習的領域中，資料類型不同不能直接處理所以要做正規化"
   ]
  },
  {
   "cell_type": "markdown",
   "id": "e12410d6",
   "metadata": {},
   "source": [
    "## z 分數正規化(z-score normalization)\n",
    "\n",
    "    也稱z 分數標準化(Standardization)\n",
    "    如果資料中帶有離群值(Outlines, 與其他數差異很大的值)的話，就可以降低其影響"
   ]
  },
  {
   "cell_type": "markdown",
   "id": "29136a18",
   "metadata": {},
   "source": [
    "![title](../img/normalization1.jpg)"
   ]
  },
  {
   "cell_type": "code",
   "execution_count": 1,
   "id": "099ce8de",
   "metadata": {},
   "outputs": [],
   "source": [
    "import numpy as np"
   ]
  },
  {
   "cell_type": "code",
   "execution_count": 2,
   "id": "ad205bb2",
   "metadata": {},
   "outputs": [],
   "source": [
    "def zscore(x, axis=None, num=None):\n",
    "    xmean = x.mean(axis=axis, keepdims=True)\n",
    "    xstd = x.std(axis=axis, keepdims=True)\n",
    "    if num is None:\n",
    "        zscore = (x - xmean) / xstd\n",
    "    else:\n",
    "        zscore = (num - xmean) / xstd\n",
    "    return zscore"
   ]
  },
  {
   "cell_type": "code",
   "execution_count": 3,
   "id": "807cff51",
   "metadata": {},
   "outputs": [],
   "source": [
    "a = np.array([[6, 4, 6, 6, 0], [7, 0, 9, 2, 2]])"
   ]
  },
  {
   "cell_type": "code",
   "execution_count": 4,
   "id": "5f02dbb1",
   "metadata": {},
   "outputs": [
    {
     "data": {
      "text/plain": [
       "array([[ 0.61522733, -0.06835859,  0.61522733,  0.61522733, -1.43553045],\n",
       "       [ 0.9570203 , -1.43553045,  1.64060622, -0.75194452, -0.75194452]])"
      ]
     },
     "execution_count": 4,
     "metadata": {},
     "output_type": "execute_result"
    }
   ],
   "source": [
    "zscore(a)"
   ]
  },
  {
   "cell_type": "code",
   "execution_count": 5,
   "id": "572ad90d",
   "metadata": {},
   "outputs": [
    {
     "data": {
      "text/plain": [
       "array([[0.61522733]])"
      ]
     },
     "execution_count": 5,
     "metadata": {},
     "output_type": "execute_result"
    }
   ],
   "source": [
    "zscore(a, num=6)"
   ]
  },
  {
   "cell_type": "code",
   "execution_count": 6,
   "id": "ab45c036",
   "metadata": {
    "scrolled": true
   },
   "outputs": [
    {
     "data": {
      "text/plain": [
       "array([[ 0.68599434, -0.17149859,  0.68599434,  0.68599434, -1.88648444],\n",
       "       [ 0.88083033, -1.17444044,  1.46805055, -0.58722022, -0.58722022]])"
      ]
     },
     "execution_count": 6,
     "metadata": {},
     "output_type": "execute_result"
    }
   ],
   "source": [
    "zscore(a, axis=1)"
   ]
  },
  {
   "cell_type": "markdown",
   "id": "1a9d03aa",
   "metadata": {},
   "source": [
    "## 最小值 - 最大值正規化(Min-max Normalization)\n",
    "\n",
    "    把所有資料轉換成0 ~ 1 的數字"
   ]
  },
  {
   "cell_type": "markdown",
   "id": "098f752b",
   "metadata": {},
   "source": [
    "![title](../img/normalization2.jpg)"
   ]
  },
  {
   "cell_type": "code",
   "execution_count": 7,
   "id": "9e1921b2",
   "metadata": {},
   "outputs": [],
   "source": [
    "def min_max(x, axis=None, num=None):\n",
    "    xmin = x.min(axis=axis, keepdims=True)\n",
    "    xmax = x.max(axis=axis, keepdims=True)\n",
    "    if num is None:\n",
    "        result = (x-xmin)/(xmax-xmin)\n",
    "    else:\n",
    "        result = (num-xmin)/(xmax-xmin)\n",
    "    return result"
   ]
  },
  {
   "cell_type": "code",
   "execution_count": 8,
   "id": "1df84c9f",
   "metadata": {},
   "outputs": [],
   "source": [
    "b = np.array([[6, 4, 6, 6, 0], [7, 0, 9, 2, 2]])"
   ]
  },
  {
   "cell_type": "code",
   "execution_count": 9,
   "id": "b14f6d1b",
   "metadata": {},
   "outputs": [
    {
     "data": {
      "text/plain": [
       "array([[0.66666667, 0.44444444, 0.66666667, 0.66666667, 0.        ],\n",
       "       [0.77777778, 0.        , 1.        , 0.22222222, 0.22222222]])"
      ]
     },
     "execution_count": 9,
     "metadata": {},
     "output_type": "execute_result"
    }
   ],
   "source": [
    "min_max(b)"
   ]
  },
  {
   "cell_type": "code",
   "execution_count": 10,
   "id": "6d8e7684",
   "metadata": {},
   "outputs": [
    {
     "data": {
      "text/plain": [
       "array([[0.66666667]])"
      ]
     },
     "execution_count": 10,
     "metadata": {},
     "output_type": "execute_result"
    }
   ],
   "source": [
    "min_max(b, num=6)"
   ]
  },
  {
   "cell_type": "code",
   "execution_count": 11,
   "id": "d540aeb5",
   "metadata": {},
   "outputs": [
    {
     "data": {
      "text/plain": [
       "array([[1.        , 0.66666667, 1.        , 1.        , 0.        ],\n",
       "       [0.77777778, 0.        , 1.        , 0.22222222, 0.22222222]])"
      ]
     },
     "execution_count": 11,
     "metadata": {},
     "output_type": "execute_result"
    }
   ],
   "source": [
    "min_max(b, axis=1)"
   ]
  }
 ],
 "metadata": {
  "kernelspec": {
   "display_name": "Python 3 (ipykernel)",
   "language": "python",
   "name": "python3"
  },
  "language_info": {
   "codemirror_mode": {
    "name": "ipython",
    "version": 3
   },
   "file_extension": ".py",
   "mimetype": "text/x-python",
   "name": "python",
   "nbconvert_exporter": "python",
   "pygments_lexer": "ipython3",
   "version": "3.8.8"
  }
 },
 "nbformat": 4,
 "nbformat_minor": 5
}
