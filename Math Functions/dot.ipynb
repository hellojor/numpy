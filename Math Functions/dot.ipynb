{
 "cells": [
  {
   "cell_type": "markdown",
   "id": "b5e9f492",
   "metadata": {},
   "source": [
    "# 點積運算 - dot()\n",
    "\n",
    "    np.dot(a, b, out=None)"
   ]
  },
  {
   "cell_type": "code",
   "execution_count": 1,
   "id": "186bd35e",
   "metadata": {},
   "outputs": [],
   "source": [
    "import numpy as np"
   ]
  },
  {
   "cell_type": "code",
   "execution_count": 2,
   "id": "339f8e83",
   "metadata": {},
   "outputs": [],
   "source": [
    "a = np.array([1, 2])\n",
    "b = np.array([4, 3])"
   ]
  },
  {
   "cell_type": "code",
   "execution_count": 3,
   "id": "951261f6",
   "metadata": {},
   "outputs": [
    {
     "data": {
      "text/plain": [
       "10"
      ]
     },
     "execution_count": 3,
     "metadata": {},
     "output_type": "execute_result"
    }
   ],
   "source": [
    "np.dot(a, b) # 1*4 + 2*3"
   ]
  },
  {
   "cell_type": "code",
   "execution_count": 4,
   "id": "9f90e310",
   "metadata": {},
   "outputs": [
    {
     "data": {
      "text/plain": [
       "20"
      ]
     },
     "execution_count": 4,
     "metadata": {},
     "output_type": "execute_result"
    }
   ],
   "source": [
    "np.dot(4, 5) # same as 4*5"
   ]
  },
  {
   "cell_type": "code",
   "execution_count": 5,
   "id": "ad100f64",
   "metadata": {},
   "outputs": [],
   "source": [
    "e = np.matrix([1, 2])\n",
    "f1 = np.matrix([4, 3])"
   ]
  },
  {
   "cell_type": "code",
   "execution_count": 6,
   "id": "a41bab17",
   "metadata": {},
   "outputs": [],
   "source": [
    "#np.dot(e, f1) #error"
   ]
  },
  {
   "cell_type": "code",
   "execution_count": 7,
   "id": "f87ca9f2",
   "metadata": {},
   "outputs": [],
   "source": [
    "f2 = np.matrix([[4], [3]])"
   ]
  },
  {
   "cell_type": "code",
   "execution_count": 8,
   "id": "084fc835",
   "metadata": {},
   "outputs": [
    {
     "data": {
      "text/plain": [
       "matrix([[10]])"
      ]
     },
     "execution_count": 8,
     "metadata": {},
     "output_type": "execute_result"
    }
   ],
   "source": [
    "np.dot(e, f2)"
   ]
  },
  {
   "cell_type": "code",
   "execution_count": 9,
   "id": "6c4b4587",
   "metadata": {},
   "outputs": [],
   "source": [
    "a = np.array([[1, 2], [3, 4]])\n",
    "b = np.array([[4, 3], [2, 1]])"
   ]
  },
  {
   "cell_type": "code",
   "execution_count": 10,
   "id": "7a30d245",
   "metadata": {},
   "outputs": [
    {
     "data": {
      "text/plain": [
       "array([[ 8,  5],\n",
       "       [20, 13]])"
      ]
     },
     "execution_count": 10,
     "metadata": {},
     "output_type": "execute_result"
    }
   ],
   "source": [
    "np.dot(a, b)\n",
    "# 1*4+2*2 1*3+2*1 \n",
    "# 3*4+4*2 3*3+4*1"
   ]
  },
  {
   "cell_type": "code",
   "execution_count": 11,
   "id": "472ff976",
   "metadata": {},
   "outputs": [],
   "source": [
    "c = np.arange(9).reshape(3, 3)\n",
    "d = np.ones((3, 3))"
   ]
  },
  {
   "cell_type": "code",
   "execution_count": 12,
   "id": "3017ce94",
   "metadata": {},
   "outputs": [
    {
     "data": {
      "text/plain": [
       "array([[ 3.,  3.,  3.],\n",
       "       [12., 12., 12.],\n",
       "       [21., 21., 21.]])"
      ]
     },
     "execution_count": 12,
     "metadata": {},
     "output_type": "execute_result"
    }
   ],
   "source": [
    "np.dot(c, d)"
   ]
  },
  {
   "cell_type": "code",
   "execution_count": 13,
   "id": "697f1868",
   "metadata": {},
   "outputs": [],
   "source": [
    "a = np.arange(12).reshape(3, 4)\n",
    "b = np.arange(16).reshape(4, 4)"
   ]
  },
  {
   "cell_type": "code",
   "execution_count": 14,
   "id": "a9a13007",
   "metadata": {},
   "outputs": [],
   "source": [
    "#np.dot(a, b) #error"
   ]
  },
  {
   "cell_type": "markdown",
   "id": "025da004",
   "metadata": {},
   "source": [
    "matrix 回傳的不是 ndarray, 因此他們不同"
   ]
  }
 ],
 "metadata": {
  "kernelspec": {
   "display_name": "Python 3 (ipykernel)",
   "language": "python",
   "name": "python3"
  },
  "language_info": {
   "codemirror_mode": {
    "name": "ipython",
    "version": 3
   },
   "file_extension": ".py",
   "mimetype": "text/x-python",
   "name": "python",
   "nbconvert_exporter": "python",
   "pygments_lexer": "ipython3",
   "version": "3.8.8"
  }
 },
 "nbformat": 4,
 "nbformat_minor": 5
}
