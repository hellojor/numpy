{
 "cells": [
  {
   "cell_type": "markdown",
   "id": "612a5d0d",
   "metadata": {},
   "source": [
    "# 建立都是0的陣列 - zeros()"
   ]
  },
  {
   "cell_type": "markdown",
   "id": "73594142",
   "metadata": {},
   "source": [
    "np.zeros(shape, dtype=float, order='C')"
   ]
  },
  {
   "cell_type": "code",
   "execution_count": 1,
   "id": "5738ff06",
   "metadata": {},
   "outputs": [],
   "source": [
    "import numpy as np"
   ]
  },
  {
   "cell_type": "code",
   "execution_count": 2,
   "id": "7ad0f644",
   "metadata": {},
   "outputs": [
    {
     "data": {
      "text/plain": [
       "array([0., 0., 0., 0., 0., 0., 0., 0., 0., 0.])"
      ]
     },
     "execution_count": 2,
     "metadata": {},
     "output_type": "execute_result"
    }
   ],
   "source": [
    "np.zeros(10)"
   ]
  },
  {
   "cell_type": "code",
   "execution_count": 3,
   "id": "9dc1050d",
   "metadata": {},
   "outputs": [
    {
     "data": {
      "text/plain": [
       "array([0, 0, 0, 0, 0, 0, 0, 0, 0, 0])"
      ]
     },
     "execution_count": 3,
     "metadata": {},
     "output_type": "execute_result"
    }
   ],
   "source": [
    "np.zeros(10, dtype=int)"
   ]
  },
  {
   "cell_type": "code",
   "execution_count": 4,
   "id": "e9f30b85",
   "metadata": {},
   "outputs": [
    {
     "data": {
      "text/plain": [
       "(array([[0., 0., 0., 0.],\n",
       "        [0., 0., 0., 0.],\n",
       "        [0., 0., 0., 0.]]),\n",
       " (3, 4))"
      ]
     },
     "execution_count": 4,
     "metadata": {},
     "output_type": "execute_result"
    }
   ],
   "source": [
    "a = np.zeros((3, 4))\n",
    "a, a.shape"
   ]
  },
  {
   "cell_type": "code",
   "execution_count": 5,
   "id": "a6a64528",
   "metadata": {},
   "outputs": [
    {
     "data": {
      "text/plain": [
       "array([0, 0])"
      ]
     },
     "execution_count": 5,
     "metadata": {},
     "output_type": "execute_result"
    }
   ],
   "source": [
    "np.zeros_like(a.shape)"
   ]
  },
  {
   "cell_type": "code",
   "execution_count": 6,
   "id": "e6f1109c",
   "metadata": {},
   "outputs": [
    {
     "data": {
      "text/plain": [
       "array([[0., 0., 0., 0.],\n",
       "       [0., 0., 0., 0.],\n",
       "       [0., 0., 0., 0.]])"
      ]
     },
     "execution_count": 6,
     "metadata": {},
     "output_type": "execute_result"
    }
   ],
   "source": [
    "np.zeros_like(a)"
   ]
  },
  {
   "cell_type": "markdown",
   "id": "8458bea4",
   "metadata": {},
   "source": [
    "# 建立都是1的陣列 - ones()"
   ]
  },
  {
   "cell_type": "markdown",
   "id": "de4b8fea",
   "metadata": {},
   "source": [
    "np.ones(shape, dtype=float, order='C')"
   ]
  },
  {
   "cell_type": "code",
   "execution_count": 7,
   "id": "fcb00bd4",
   "metadata": {},
   "outputs": [],
   "source": [
    "import numpy as np"
   ]
  },
  {
   "cell_type": "code",
   "execution_count": 8,
   "id": "75b0e453",
   "metadata": {},
   "outputs": [
    {
     "data": {
      "text/plain": [
       "array([1., 1., 1.])"
      ]
     },
     "execution_count": 8,
     "metadata": {},
     "output_type": "execute_result"
    }
   ],
   "source": [
    "np.ones(3)"
   ]
  },
  {
   "cell_type": "code",
   "execution_count": 9,
   "id": "edb70052",
   "metadata": {},
   "outputs": [
    {
     "data": {
      "text/plain": [
       "array([[1., 1., 1.],\n",
       "       [1., 1., 1.]])"
      ]
     },
     "execution_count": 9,
     "metadata": {},
     "output_type": "execute_result"
    }
   ],
   "source": [
    "np.ones((2, 3))"
   ]
  },
  {
   "cell_type": "code",
   "execution_count": 10,
   "id": "729b6a17",
   "metadata": {},
   "outputs": [
    {
     "data": {
      "text/plain": [
       "array([1, 1, 1, 1], dtype=int8)"
      ]
     },
     "execution_count": 10,
     "metadata": {},
     "output_type": "execute_result"
    }
   ],
   "source": [
    "np.ones(4, dtype=np.int8)"
   ]
  },
  {
   "cell_type": "code",
   "execution_count": 11,
   "id": "9908d2b4",
   "metadata": {},
   "outputs": [
    {
     "data": {
      "text/plain": [
       "array([[1, 2, 3],\n",
       "       [4, 5, 6]])"
      ]
     },
     "execution_count": 11,
     "metadata": {},
     "output_type": "execute_result"
    }
   ],
   "source": [
    "a = np.array([[1, 2, 3], [4, 5, 6]])\n",
    "a"
   ]
  },
  {
   "cell_type": "code",
   "execution_count": 12,
   "id": "8299aba1",
   "metadata": {},
   "outputs": [
    {
     "data": {
      "text/plain": [
       "array([[1, 1, 1],\n",
       "       [1, 1, 1]])"
      ]
     },
     "execution_count": 12,
     "metadata": {},
     "output_type": "execute_result"
    }
   ],
   "source": [
    "np.ones_like(a)"
   ]
  },
  {
   "cell_type": "code",
   "execution_count": 13,
   "id": "454893bf",
   "metadata": {},
   "outputs": [
    {
     "data": {
      "text/plain": [
       "array([1, 2, 3], dtype=int8)"
      ]
     },
     "execution_count": 13,
     "metadata": {},
     "output_type": "execute_result"
    }
   ],
   "source": [
    "b = np.array([1, 2, 3], dtype=np.int8)\n",
    "b"
   ]
  },
  {
   "cell_type": "code",
   "execution_count": 14,
   "id": "28e5f6e5",
   "metadata": {},
   "outputs": [
    {
     "data": {
      "text/plain": [
       "array([1, 1, 1], dtype=int8)"
      ]
     },
     "execution_count": 14,
     "metadata": {},
     "output_type": "execute_result"
    }
   ],
   "source": [
    "np.ones_like(b)"
   ]
  },
  {
   "cell_type": "markdown",
   "id": "6c1213fe",
   "metadata": {},
   "source": [
    "# 建立「不限定元素值」的陣列 - empty()"
   ]
  },
  {
   "cell_type": "markdown",
   "id": "f8d15eb8",
   "metadata": {},
   "source": [
    "np.empty(shape, dtype=float, order='C')"
   ]
  },
  {
   "cell_type": "code",
   "execution_count": 15,
   "id": "eb913c4c",
   "metadata": {},
   "outputs": [],
   "source": [
    "import numpy as np"
   ]
  },
  {
   "cell_type": "code",
   "execution_count": 16,
   "id": "22248b08",
   "metadata": {},
   "outputs": [
    {
     "data": {
      "text/plain": [
       "array([0., 0., 0., 0., 0., 0., 0., 0., 0., 0.])"
      ]
     },
     "execution_count": 16,
     "metadata": {},
     "output_type": "execute_result"
    }
   ],
   "source": [
    "np.empty(10)"
   ]
  },
  {
   "cell_type": "code",
   "execution_count": 17,
   "id": "74d020f2",
   "metadata": {},
   "outputs": [
    {
     "data": {
      "text/plain": [
       "array([[0.00000000e+000, 0.00000000e+000, 0.00000000e+000],\n",
       "       [0.00000000e+000, 0.00000000e+000, 7.54932307e-321],\n",
       "       [6.23040373e-307, 2.22520627e-307, 6.23048861e-307]])"
      ]
     },
     "execution_count": 17,
     "metadata": {},
     "output_type": "execute_result"
    }
   ],
   "source": [
    "np.empty((3, 3))"
   ]
  },
  {
   "cell_type": "code",
   "execution_count": 18,
   "id": "9919c0de",
   "metadata": {},
   "outputs": [],
   "source": [
    "#%timeit np.zeros(10000)"
   ]
  },
  {
   "cell_type": "code",
   "execution_count": 19,
   "id": "e34d49f2",
   "metadata": {},
   "outputs": [],
   "source": [
    "#%timeit np.ones(10000)"
   ]
  },
  {
   "cell_type": "code",
   "execution_count": 20,
   "id": "38e70dbe",
   "metadata": {},
   "outputs": [],
   "source": [
    "#%timeit np.empty(10000)"
   ]
  },
  {
   "cell_type": "markdown",
   "id": "c1a57feb",
   "metadata": {},
   "source": [
    "以上可見 np.empty()在建立陣列的速度快很多"
   ]
  },
  {
   "cell_type": "markdown",
   "id": "d39c2b97",
   "metadata": {},
   "source": [
    "# 建立指定範圍的等差陣列 - arange()"
   ]
  },
  {
   "cell_type": "markdown",
   "id": "33de6f5d",
   "metadata": {},
   "source": [
    "np.arange(start, stop, step, dtype=None)"
   ]
  },
  {
   "cell_type": "code",
   "execution_count": 21,
   "id": "d239e996",
   "metadata": {},
   "outputs": [],
   "source": [
    "import numpy as np"
   ]
  },
  {
   "cell_type": "code",
   "execution_count": 22,
   "id": "0d4f14bf",
   "metadata": {},
   "outputs": [
    {
     "data": {
      "text/plain": [
       "array([0, 1, 2, 3, 4])"
      ]
     },
     "execution_count": 22,
     "metadata": {},
     "output_type": "execute_result"
    }
   ],
   "source": [
    "np.arange(5)"
   ]
  },
  {
   "cell_type": "code",
   "execution_count": 23,
   "id": "f5a83308",
   "metadata": {},
   "outputs": [
    {
     "data": {
      "text/plain": [
       "array([], dtype=int32)"
      ]
     },
     "execution_count": 23,
     "metadata": {},
     "output_type": "execute_result"
    }
   ],
   "source": [
    "np.arange(-10)"
   ]
  },
  {
   "cell_type": "code",
   "execution_count": 24,
   "id": "91929163",
   "metadata": {},
   "outputs": [
    {
     "data": {
      "text/plain": [
       "array([0., 1., 2., 3., 4.])"
      ]
     },
     "execution_count": 24,
     "metadata": {},
     "output_type": "execute_result"
    }
   ],
   "source": [
    "np.arange(4.5)"
   ]
  },
  {
   "cell_type": "code",
   "execution_count": 25,
   "id": "46956bef",
   "metadata": {},
   "outputs": [
    {
     "data": {
      "text/plain": [
       "array([1, 2, 3, 4, 5, 6, 7])"
      ]
     },
     "execution_count": 25,
     "metadata": {},
     "output_type": "execute_result"
    }
   ],
   "source": [
    "np.arange(1, 8)"
   ]
  },
  {
   "cell_type": "code",
   "execution_count": 26,
   "id": "0d4d1ec7",
   "metadata": {},
   "outputs": [
    {
     "data": {
      "text/plain": [
       "array([2, 3, 4, 5, 6, 7, 8, 9])"
      ]
     },
     "execution_count": 26,
     "metadata": {},
     "output_type": "execute_result"
    }
   ],
   "source": [
    "np.arange(2, 10)"
   ]
  },
  {
   "cell_type": "code",
   "execution_count": 27,
   "id": "970f21ce",
   "metadata": {},
   "outputs": [
    {
     "data": {
      "text/plain": [
       "array([0.5, 1.5, 2.5, 3.5, 4.5])"
      ]
     },
     "execution_count": 27,
     "metadata": {},
     "output_type": "execute_result"
    }
   ],
   "source": [
    "np.arange(0.5, 5.5)"
   ]
  },
  {
   "cell_type": "code",
   "execution_count": 28,
   "id": "cc331b3b",
   "metadata": {},
   "outputs": [
    {
     "data": {
      "text/plain": [
       "array([0.55, 1.55, 2.55, 3.55, 4.55])"
      ]
     },
     "execution_count": 28,
     "metadata": {},
     "output_type": "execute_result"
    }
   ],
   "source": [
    "np.arange(0.55, 5.55)"
   ]
  },
  {
   "cell_type": "code",
   "execution_count": 29,
   "id": "79f71292",
   "metadata": {},
   "outputs": [
    {
     "data": {
      "text/plain": [
       "array([ 2,  4,  6,  8, 10])"
      ]
     },
     "execution_count": 29,
     "metadata": {},
     "output_type": "execute_result"
    }
   ],
   "source": [
    "np.arange(2, 12, 2)"
   ]
  },
  {
   "cell_type": "code",
   "execution_count": 30,
   "id": "5a95ca14",
   "metadata": {},
   "outputs": [
    {
     "data": {
      "text/plain": [
       "array([2. , 2.2, 2.4, 2.6, 2.8, 3. , 3.2, 3.4, 3.6, 3.8, 4. , 4.2, 4.4,\n",
       "       4.6, 4.8])"
      ]
     },
     "execution_count": 30,
     "metadata": {},
     "output_type": "execute_result"
    }
   ],
   "source": [
    "np.arange(2, 5, 0.2)"
   ]
  },
  {
   "cell_type": "code",
   "execution_count": 31,
   "id": "9c860b2e",
   "metadata": {},
   "outputs": [
    {
     "data": {
      "text/plain": [
       "array([5, 4, 3])"
      ]
     },
     "execution_count": 31,
     "metadata": {},
     "output_type": "execute_result"
    }
   ],
   "source": [
    "np.arange(5, 2, -1)"
   ]
  },
  {
   "cell_type": "code",
   "execution_count": 32,
   "id": "fb85ded2",
   "metadata": {},
   "outputs": [],
   "source": [
    "#np.arange(stop=5, step=2) #error"
   ]
  },
  {
   "cell_type": "code",
   "execution_count": 33,
   "id": "1f4d26f9",
   "metadata": {},
   "outputs": [
    {
     "data": {
      "text/plain": [
       "array([0., 1., 2., 3., 4.])"
      ]
     },
     "execution_count": 33,
     "metadata": {},
     "output_type": "execute_result"
    }
   ],
   "source": [
    "np.arange(5, dtype=np.float64)"
   ]
  },
  {
   "cell_type": "code",
   "execution_count": 34,
   "id": "d89a9a9e",
   "metadata": {},
   "outputs": [
    {
     "data": {
      "text/plain": [
       "array([0, 1, 2, 3, 4])"
      ]
     },
     "execution_count": 34,
     "metadata": {},
     "output_type": "execute_result"
    }
   ],
   "source": [
    "np.arange(5.0, dtype=int)"
   ]
  },
  {
   "cell_type": "code",
   "execution_count": 35,
   "id": "6afa789b",
   "metadata": {},
   "outputs": [
    {
     "data": {
      "text/plain": [
       "array([0, 0, 0, 0, 0, 0, 0, 0, 0, 0])"
      ]
     },
     "execution_count": 35,
     "metadata": {},
     "output_type": "execute_result"
    }
   ],
   "source": [
    "np.arange(0, 5, 0.5, dtype=int)"
   ]
  },
  {
   "cell_type": "code",
   "execution_count": 36,
   "id": "6582c010",
   "metadata": {},
   "outputs": [
    {
     "data": {
      "text/plain": [
       "array([0, 1, 2, 3])"
      ]
     },
     "execution_count": 36,
     "metadata": {},
     "output_type": "execute_result"
    }
   ],
   "source": [
    "np.arange(0, 5, 1.5, dtype=int)"
   ]
  },
  {
   "cell_type": "markdown",
   "id": "b8c29044",
   "metadata": {},
   "source": [
    "# 建立指定範圍的等差陣列 - linspace()"
   ]
  },
  {
   "cell_type": "markdown",
   "id": "8e740b1c",
   "metadata": {},
   "source": [
    "np.linspace(start, stop, num=50, endpoint=True, retstep=False, dtype=float)\n",
    "\n",
    "num:切割後陣列裏的元素數量\n",
    "\n",
    "endpoint:建立的陣列是否包含stop\n",
    "\n",
    "retstep:是否顯示元素之間的遞增量\n",
    "\n",
    "遞增量 = (stop - start) / (num - 1)"
   ]
  },
  {
   "cell_type": "code",
   "execution_count": 37,
   "id": "427afefa",
   "metadata": {},
   "outputs": [],
   "source": [
    "import numpy as np"
   ]
  },
  {
   "cell_type": "code",
   "execution_count": 38,
   "id": "383e05eb",
   "metadata": {},
   "outputs": [
    {
     "data": {
      "text/plain": [
       "array([0.        , 0.02040816, 0.04081633, 0.06122449, 0.08163265,\n",
       "       0.10204082, 0.12244898, 0.14285714, 0.16326531, 0.18367347,\n",
       "       0.20408163, 0.2244898 , 0.24489796, 0.26530612, 0.28571429,\n",
       "       0.30612245, 0.32653061, 0.34693878, 0.36734694, 0.3877551 ,\n",
       "       0.40816327, 0.42857143, 0.44897959, 0.46938776, 0.48979592,\n",
       "       0.51020408, 0.53061224, 0.55102041, 0.57142857, 0.59183673,\n",
       "       0.6122449 , 0.63265306, 0.65306122, 0.67346939, 0.69387755,\n",
       "       0.71428571, 0.73469388, 0.75510204, 0.7755102 , 0.79591837,\n",
       "       0.81632653, 0.83673469, 0.85714286, 0.87755102, 0.89795918,\n",
       "       0.91836735, 0.93877551, 0.95918367, 0.97959184, 1.        ])"
      ]
     },
     "execution_count": 38,
     "metadata": {},
     "output_type": "execute_result"
    }
   ],
   "source": [
    "np.linspace(0 ,1)"
   ]
  },
  {
   "cell_type": "code",
   "execution_count": 39,
   "id": "344a81a7",
   "metadata": {},
   "outputs": [
    {
     "data": {
      "text/plain": [
       "50"
      ]
     },
     "execution_count": 39,
     "metadata": {},
     "output_type": "execute_result"
    }
   ],
   "source": [
    "np.linspace(0 ,1).size"
   ]
  },
  {
   "cell_type": "markdown",
   "id": "56da06fe",
   "metadata": {},
   "source": [
    "    遞增量 = (49 - 0) / (50 - 1) = 1"
   ]
  },
  {
   "cell_type": "code",
   "execution_count": 40,
   "id": "26f62cea",
   "metadata": {},
   "outputs": [
    {
     "data": {
      "text/plain": [
       "array([ 0.,  1.,  2.,  3.,  4.,  5.,  6.,  7.,  8.,  9., 10., 11., 12.,\n",
       "       13., 14., 15., 16., 17., 18., 19., 20., 21., 22., 23., 24., 25.,\n",
       "       26., 27., 28., 29., 30., 31., 32., 33., 34., 35., 36., 37., 38.,\n",
       "       39., 40., 41., 42., 43., 44., 45., 46., 47., 48., 49.])"
      ]
     },
     "execution_count": 40,
     "metadata": {},
     "output_type": "execute_result"
    }
   ],
   "source": [
    "np.linspace(0 ,49)"
   ]
  },
  {
   "cell_type": "code",
   "execution_count": 41,
   "id": "a3e4dcd2",
   "metadata": {},
   "outputs": [
    {
     "data": {
      "text/plain": [
       "(array([0., 1., 2.]), 1.0)"
      ]
     },
     "execution_count": 41,
     "metadata": {},
     "output_type": "execute_result"
    }
   ],
   "source": [
    "np.linspace(0 ,2, num=3, retstep=True)"
   ]
  },
  {
   "cell_type": "code",
   "execution_count": 42,
   "id": "bf805c86",
   "metadata": {},
   "outputs": [
    {
     "data": {
      "text/plain": [
       "array([0., 1., 2.])"
      ]
     },
     "execution_count": 42,
     "metadata": {},
     "output_type": "execute_result"
    }
   ],
   "source": [
    "np.linspace(0 ,2, num=3, retstep=False)"
   ]
  },
  {
   "cell_type": "markdown",
   "id": "31462cb9",
   "metadata": {},
   "source": [
    "# 建立單位矩陣 - eye() 與 identity()"
   ]
  },
  {
   "cell_type": "markdown",
   "id": "85c7053c",
   "metadata": {},
   "source": [
    "np.eye(N, M=None, k=0, dtype=float, order='C')"
   ]
  },
  {
   "cell_type": "code",
   "execution_count": 43,
   "id": "658cc604",
   "metadata": {},
   "outputs": [],
   "source": [
    "import numpy as np"
   ]
  },
  {
   "cell_type": "code",
   "execution_count": 44,
   "id": "f7d30a2e",
   "metadata": {},
   "outputs": [
    {
     "data": {
      "text/plain": [
       "array([[1., 0., 0.],\n",
       "       [0., 1., 0.],\n",
       "       [0., 0., 1.]])"
      ]
     },
     "execution_count": 44,
     "metadata": {},
     "output_type": "execute_result"
    }
   ],
   "source": [
    "np.eye(3)"
   ]
  },
  {
   "cell_type": "code",
   "execution_count": 45,
   "id": "cb3f8137",
   "metadata": {},
   "outputs": [
    {
     "data": {
      "text/plain": [
       "array([[1., 0., 0., 0., 0., 0., 0., 0., 0., 0.],\n",
       "       [0., 1., 0., 0., 0., 0., 0., 0., 0., 0.],\n",
       "       [0., 0., 1., 0., 0., 0., 0., 0., 0., 0.],\n",
       "       [0., 0., 0., 1., 0., 0., 0., 0., 0., 0.],\n",
       "       [0., 0., 0., 0., 1., 0., 0., 0., 0., 0.],\n",
       "       [0., 0., 0., 0., 0., 1., 0., 0., 0., 0.],\n",
       "       [0., 0., 0., 0., 0., 0., 1., 0., 0., 0.],\n",
       "       [0., 0., 0., 0., 0., 0., 0., 1., 0., 0.],\n",
       "       [0., 0., 0., 0., 0., 0., 0., 0., 1., 0.],\n",
       "       [0., 0., 0., 0., 0., 0., 0., 0., 0., 1.]])"
      ]
     },
     "execution_count": 45,
     "metadata": {},
     "output_type": "execute_result"
    }
   ],
   "source": [
    "np.eye(10)"
   ]
  },
  {
   "cell_type": "code",
   "execution_count": 46,
   "id": "7ae76f31",
   "metadata": {},
   "outputs": [
    {
     "data": {
      "text/plain": [
       "array([[1., 0., 0.],\n",
       "       [0., 1., 0.]])"
      ]
     },
     "execution_count": 46,
     "metadata": {},
     "output_type": "execute_result"
    }
   ],
   "source": [
    "np.eye(2, 3)"
   ]
  },
  {
   "cell_type": "code",
   "execution_count": 47,
   "id": "5afc4e54",
   "metadata": {},
   "outputs": [
    {
     "data": {
      "text/plain": [
       "array([[1., 0., 0., 0.],\n",
       "       [0., 1., 0., 0.],\n",
       "       [0., 0., 1., 0.],\n",
       "       [0., 0., 0., 1.],\n",
       "       [0., 0., 0., 0.]])"
      ]
     },
     "execution_count": 47,
     "metadata": {},
     "output_type": "execute_result"
    }
   ],
   "source": [
    "np.eye(5, 4)"
   ]
  },
  {
   "cell_type": "code",
   "execution_count": 48,
   "id": "804becc6",
   "metadata": {},
   "outputs": [
    {
     "data": {
      "text/plain": [
       "array([[1., 0., 0., 0., 0.],\n",
       "       [0., 1., 0., 0., 0.],\n",
       "       [0., 0., 1., 0., 0.],\n",
       "       [0., 0., 0., 1., 0.],\n",
       "       [0., 0., 0., 0., 1.]])"
      ]
     },
     "execution_count": 48,
     "metadata": {},
     "output_type": "execute_result"
    }
   ],
   "source": [
    "np.eye(5, k=0)"
   ]
  },
  {
   "cell_type": "code",
   "execution_count": 49,
   "id": "ebb1d77b",
   "metadata": {},
   "outputs": [
    {
     "data": {
      "text/plain": [
       "array([[0., 1., 0., 0., 0.],\n",
       "       [0., 0., 1., 0., 0.],\n",
       "       [0., 0., 0., 1., 0.],\n",
       "       [0., 0., 0., 0., 1.],\n",
       "       [0., 0., 0., 0., 0.]])"
      ]
     },
     "execution_count": 49,
     "metadata": {},
     "output_type": "execute_result"
    }
   ],
   "source": [
    "np.eye(5, k=1)"
   ]
  },
  {
   "cell_type": "code",
   "execution_count": 50,
   "id": "408a4e2b",
   "metadata": {},
   "outputs": [
    {
     "data": {
      "text/plain": [
       "array([[0., 0., 1., 0., 0.],\n",
       "       [0., 0., 0., 1., 0.],\n",
       "       [0., 0., 0., 0., 1.],\n",
       "       [0., 0., 0., 0., 0.],\n",
       "       [0., 0., 0., 0., 0.]])"
      ]
     },
     "execution_count": 50,
     "metadata": {},
     "output_type": "execute_result"
    }
   ],
   "source": [
    "np.eye(5, k=2)"
   ]
  },
  {
   "cell_type": "code",
   "execution_count": 51,
   "id": "4979104e",
   "metadata": {},
   "outputs": [
    {
     "data": {
      "text/plain": [
       "array([[0., 0., 0., 0., 0.],\n",
       "       [1., 0., 0., 0., 0.],\n",
       "       [0., 1., 0., 0., 0.],\n",
       "       [0., 0., 1., 0., 0.],\n",
       "       [0., 0., 0., 1., 0.]])"
      ]
     },
     "execution_count": 51,
     "metadata": {},
     "output_type": "execute_result"
    }
   ],
   "source": [
    "np.eye(5, k=-1)"
   ]
  },
  {
   "cell_type": "code",
   "execution_count": 52,
   "id": "fcbe634e",
   "metadata": {},
   "outputs": [
    {
     "data": {
      "text/plain": [
       "array([[0., 0., 0., 0., 0.],\n",
       "       [0., 0., 0., 0., 0.],\n",
       "       [1., 0., 0., 0., 0.],\n",
       "       [0., 1., 0., 0., 0.],\n",
       "       [0., 0., 1., 0., 0.]])"
      ]
     },
     "execution_count": 52,
     "metadata": {},
     "output_type": "execute_result"
    }
   ],
   "source": [
    "np.eye(5, k=-2)"
   ]
  },
  {
   "cell_type": "markdown",
   "id": "c41aee57",
   "metadata": {},
   "source": [
    "np.identity(N, dtype=float) #很少用#"
   ]
  },
  {
   "cell_type": "code",
   "execution_count": 53,
   "id": "db735281",
   "metadata": {},
   "outputs": [
    {
     "data": {
      "text/plain": [
       "array([[1., 0., 0.],\n",
       "       [0., 1., 0.],\n",
       "       [0., 0., 1.]])"
      ]
     },
     "execution_count": 53,
     "metadata": {},
     "output_type": "execute_result"
    }
   ],
   "source": [
    "np.identity(3)"
   ]
  },
  {
   "cell_type": "code",
   "execution_count": 54,
   "id": "7d6c2524",
   "metadata": {},
   "outputs": [],
   "source": [
    "#%timeit np.eye(10000)"
   ]
  },
  {
   "cell_type": "code",
   "execution_count": 55,
   "id": "e744051a",
   "metadata": {},
   "outputs": [],
   "source": [
    "#%timeit np.identity(10000)"
   ]
  },
  {
   "cell_type": "markdown",
   "id": "3add2cb0",
   "metadata": {},
   "source": [
    "以上顯示 時間差不多 可是np.eye()功能比np.identity() 所以通常只會用np.eye（）"
   ]
  },
  {
   "cell_type": "markdown",
   "id": "f1010d30",
   "metadata": {},
   "source": [
    "# 將矩陣展平為1D - flatten()"
   ]
  },
  {
   "cell_type": "markdown",
   "id": "84703277",
   "metadata": {},
   "source": [
    "ndarray.flatten(order='C')\n",
    "\n",
    "回傳copy的 比ravel()慢"
   ]
  },
  {
   "cell_type": "code",
   "execution_count": 56,
   "id": "9c4bd284",
   "metadata": {},
   "outputs": [],
   "source": [
    "import numpy as np"
   ]
  },
  {
   "cell_type": "code",
   "execution_count": 57,
   "id": "b2b99585",
   "metadata": {},
   "outputs": [
    {
     "data": {
      "text/plain": [
       "array([[0, 1, 2, 3, 4],\n",
       "       [5, 6, 7, 8, 9]])"
      ]
     },
     "execution_count": 57,
     "metadata": {},
     "output_type": "execute_result"
    }
   ],
   "source": [
    "a = np.arange(10).reshape(2, 5)\n",
    "a"
   ]
  },
  {
   "cell_type": "code",
   "execution_count": 58,
   "id": "ed48aff7",
   "metadata": {},
   "outputs": [
    {
     "data": {
      "text/plain": [
       "array([0, 1, 2, 3, 4, 5, 6, 7, 8, 9])"
      ]
     },
     "execution_count": 58,
     "metadata": {},
     "output_type": "execute_result"
    }
   ],
   "source": [
    "b = a.flatten()\n",
    "b"
   ]
  },
  {
   "cell_type": "code",
   "execution_count": 59,
   "id": "9feb8062",
   "metadata": {},
   "outputs": [
    {
     "data": {
      "text/plain": [
       "((2, 5), (10,))"
      ]
     },
     "execution_count": 59,
     "metadata": {},
     "output_type": "execute_result"
    }
   ],
   "source": [
    "a.shape, b.shape"
   ]
  },
  {
   "cell_type": "code",
   "execution_count": 60,
   "id": "989ed88c",
   "metadata": {},
   "outputs": [
    {
     "data": {
      "text/plain": [
       "array([[[ 0,  1,  2],\n",
       "        [ 3,  4,  5]],\n",
       "\n",
       "       [[ 6,  7,  8],\n",
       "        [ 9, 10, 11]]])"
      ]
     },
     "execution_count": 60,
     "metadata": {},
     "output_type": "execute_result"
    }
   ],
   "source": [
    "c = np.arange(12).reshape(2, 2, 3)\n",
    "c"
   ]
  },
  {
   "cell_type": "code",
   "execution_count": 61,
   "id": "8cd40229",
   "metadata": {},
   "outputs": [
    {
     "data": {
      "text/plain": [
       "array([ 0,  1,  2,  3,  4,  5,  6,  7,  8,  9, 10, 11])"
      ]
     },
     "execution_count": 61,
     "metadata": {},
     "output_type": "execute_result"
    }
   ],
   "source": [
    "d = c.flatten()\n",
    "d"
   ]
  },
  {
   "cell_type": "code",
   "execution_count": 62,
   "id": "311a7330",
   "metadata": {},
   "outputs": [
    {
     "data": {
      "text/plain": [
       "((2, 2, 3), (12,))"
      ]
     },
     "execution_count": 62,
     "metadata": {},
     "output_type": "execute_result"
    }
   ],
   "source": [
    "c.shape, d.shape"
   ]
  },
  {
   "cell_type": "markdown",
   "id": "29dd1498",
   "metadata": {},
   "source": [
    "# 將矩陣展平為1D - ravel()"
   ]
  },
  {
   "cell_type": "markdown",
   "id": "a16e1bd2",
   "metadata": {},
   "source": [
    "np.ravel(a, order='C')\n",
    "\n",
    "ndarray.ravel(order='C')\n",
    "\n",
    "回傳reference的 比flatten()快"
   ]
  },
  {
   "cell_type": "code",
   "execution_count": 63,
   "id": "346ac3b1",
   "metadata": {},
   "outputs": [],
   "source": [
    "import numpy as np"
   ]
  },
  {
   "cell_type": "code",
   "execution_count": 64,
   "id": "448e6837",
   "metadata": {},
   "outputs": [
    {
     "data": {
      "text/plain": [
       "array([[0, 1, 2, 3, 4],\n",
       "       [5, 6, 7, 8, 9]])"
      ]
     },
     "execution_count": 64,
     "metadata": {},
     "output_type": "execute_result"
    }
   ],
   "source": [
    "a = np.arange(10).reshape(2, 5)\n",
    "a"
   ]
  },
  {
   "cell_type": "code",
   "execution_count": 65,
   "id": "e71918db",
   "metadata": {},
   "outputs": [
    {
     "data": {
      "text/plain": [
       "array([0, 1, 2, 3, 4, 5, 6, 7, 8, 9])"
      ]
     },
     "execution_count": 65,
     "metadata": {},
     "output_type": "execute_result"
    }
   ],
   "source": [
    "a.ravel()"
   ]
  },
  {
   "cell_type": "code",
   "execution_count": 66,
   "id": "328a70d8",
   "metadata": {},
   "outputs": [
    {
     "data": {
      "text/plain": [
       "array([0, 1, 2, 3, 4, 5, 6, 7, 8, 9])"
      ]
     },
     "execution_count": 66,
     "metadata": {},
     "output_type": "execute_result"
    }
   ],
   "source": [
    "np.ravel(a)"
   ]
  },
  {
   "cell_type": "code",
   "execution_count": 67,
   "id": "8fa66b83",
   "metadata": {},
   "outputs": [
    {
     "data": {
      "text/plain": [
       "array([0, 1, 2, 3, 4, 5, 6, 7, 8, 9])"
      ]
     },
     "execution_count": 67,
     "metadata": {},
     "output_type": "execute_result"
    }
   ],
   "source": [
    "a.ravel(order='C')"
   ]
  },
  {
   "cell_type": "code",
   "execution_count": 68,
   "id": "2bddffe3",
   "metadata": {},
   "outputs": [
    {
     "data": {
      "text/plain": [
       "array([0, 5, 1, 6, 2, 7, 3, 8, 4, 9])"
      ]
     },
     "execution_count": 68,
     "metadata": {},
     "output_type": "execute_result"
    }
   ],
   "source": [
    "a.ravel(order='F')"
   ]
  },
  {
   "cell_type": "code",
   "execution_count": 69,
   "id": "66885229",
   "metadata": {},
   "outputs": [
    {
     "data": {
      "text/plain": [
       "array([0, 1, 2, 3, 4, 5, 6, 7, 8, 9])"
      ]
     },
     "execution_count": 69,
     "metadata": {},
     "output_type": "execute_result"
    }
   ],
   "source": [
    "b = a.ravel()\n",
    "b"
   ]
  },
  {
   "cell_type": "code",
   "execution_count": 70,
   "id": "ce9e9b7e",
   "metadata": {},
   "outputs": [
    {
     "data": {
      "text/plain": [
       "array([[ 1,  2,  3,  4,  5],\n",
       "       [ 6,  7,  8,  9, 10]])"
      ]
     },
     "execution_count": 70,
     "metadata": {},
     "output_type": "execute_result"
    }
   ],
   "source": [
    "b += 1\n",
    "a"
   ]
  },
  {
   "cell_type": "code",
   "execution_count": 71,
   "id": "40aacd0a",
   "metadata": {},
   "outputs": [
    {
     "data": {
      "text/plain": [
       "array([[0, 2, 4, 6, 8],\n",
       "       [1, 3, 5, 7, 9]])"
      ]
     },
     "execution_count": 71,
     "metadata": {},
     "output_type": "execute_result"
    }
   ],
   "source": [
    "c = np.arange(10).reshape(2, 5, order='F')\n",
    "c"
   ]
  },
  {
   "cell_type": "code",
   "execution_count": 72,
   "id": "efd2a78e",
   "metadata": {},
   "outputs": [
    {
     "data": {
      "text/plain": [
       "array([0, 1, 2, 3, 4, 5, 6, 7, 8, 9])"
      ]
     },
     "execution_count": 72,
     "metadata": {},
     "output_type": "execute_result"
    }
   ],
   "source": [
    "c.ravel(order='F')"
   ]
  },
  {
   "cell_type": "code",
   "execution_count": 73,
   "id": "178c85ff",
   "metadata": {},
   "outputs": [
    {
     "data": {
      "text/plain": [
       "array([0, 1, 2, 3, 4, 5, 6, 7, 8, 9])"
      ]
     },
     "execution_count": 73,
     "metadata": {},
     "output_type": "execute_result"
    }
   ],
   "source": [
    "c.ravel(order='A') # follow its style"
   ]
  },
  {
   "cell_type": "code",
   "execution_count": 74,
   "id": "f53d5328",
   "metadata": {},
   "outputs": [
    {
     "data": {
      "text/plain": [
       "array([0, 2, 4, 6, 8, 1, 3, 5, 7, 9])"
      ]
     },
     "execution_count": 74,
     "metadata": {},
     "output_type": "execute_result"
    }
   ],
   "source": [
    "c.ravel(order='C')"
   ]
  },
  {
   "cell_type": "markdown",
   "id": "fa642f6b",
   "metadata": {},
   "source": [
    "# 找出不是0的元素 - nonzero()"
   ]
  },
  {
   "cell_type": "markdown",
   "id": "0add01a8",
   "metadata": {},
   "source": [
    "np.nonzero(a)\n",
    "\n",
    "ndarray.nonzero()\n",
    "\n",
    "almost like np.where(a!=0)"
   ]
  },
  {
   "cell_type": "code",
   "execution_count": 75,
   "id": "2872e567",
   "metadata": {},
   "outputs": [],
   "source": [
    "import numpy as np"
   ]
  },
  {
   "cell_type": "code",
   "execution_count": 76,
   "id": "b185cc0c",
   "metadata": {},
   "outputs": [
    {
     "data": {
      "text/plain": [
       "array([7, 4, 3, 7, 0, 4, 6, 0, 7, 2, 3, 8, 1, 0, 0, 9, 2, 8, 1, 9])"
      ]
     },
     "execution_count": 76,
     "metadata": {},
     "output_type": "execute_result"
    }
   ],
   "source": [
    "np.random.seed(49999)\n",
    "a = np.random.randint(10, size=20)\n",
    "a"
   ]
  },
  {
   "cell_type": "code",
   "execution_count": 77,
   "id": "b67c6de3",
   "metadata": {},
   "outputs": [
    {
     "data": {
      "text/plain": [
       "(array([ 0,  1,  2,  3,  5,  6,  8,  9, 10, 11, 12, 15, 16, 17, 18, 19],\n",
       "       dtype=int64),)"
      ]
     },
     "execution_count": 77,
     "metadata": {},
     "output_type": "execute_result"
    }
   ],
   "source": [
    "a.nonzero()"
   ]
  },
  {
   "cell_type": "code",
   "execution_count": 78,
   "id": "2903cc00",
   "metadata": {},
   "outputs": [
    {
     "data": {
      "text/plain": [
       "(array([ 0,  1,  2,  3,  5,  6,  8,  9, 10, 11, 12, 15, 16, 17, 18, 19],\n",
       "       dtype=int64),)"
      ]
     },
     "execution_count": 78,
     "metadata": {},
     "output_type": "execute_result"
    }
   ],
   "source": [
    "np.nonzero(a)"
   ]
  },
  {
   "cell_type": "code",
   "execution_count": 79,
   "id": "a3641222",
   "metadata": {},
   "outputs": [
    {
     "data": {
      "text/plain": [
       "array([7, 4, 3, 7, 4, 6, 7, 2, 3, 8, 1, 9, 2, 8, 1, 9])"
      ]
     },
     "execution_count": 79,
     "metadata": {},
     "output_type": "execute_result"
    }
   ],
   "source": [
    "a[np.nonzero(a)]"
   ]
  },
  {
   "cell_type": "code",
   "execution_count": 80,
   "id": "5b163a71",
   "metadata": {},
   "outputs": [
    {
     "data": {
      "text/plain": [
       "array([[7, 4, 3, 7, 0],\n",
       "       [4, 6, 0, 7, 2],\n",
       "       [3, 8, 1, 0, 0],\n",
       "       [9, 2, 8, 1, 9]])"
      ]
     },
     "execution_count": 80,
     "metadata": {},
     "output_type": "execute_result"
    }
   ],
   "source": [
    "np.random.seed(49999)\n",
    "b = np.random.randint(0, 10, size=(4,5))\n",
    "b"
   ]
  },
  {
   "cell_type": "code",
   "execution_count": 81,
   "id": "fbcad72b",
   "metadata": {},
   "outputs": [
    {
     "data": {
      "text/plain": [
       "(array([0, 0, 0, 0, 1, 1, 1, 1, 2, 2, 2, 3, 3, 3, 3, 3], dtype=int64),\n",
       " array([0, 1, 2, 3, 0, 1, 3, 4, 0, 1, 2, 0, 1, 2, 3, 4], dtype=int64))"
      ]
     },
     "execution_count": 81,
     "metadata": {},
     "output_type": "execute_result"
    }
   ],
   "source": [
    "b.nonzero() #2d index"
   ]
  },
  {
   "cell_type": "code",
   "execution_count": 82,
   "id": "2b7f822c",
   "metadata": {},
   "outputs": [
    {
     "data": {
      "text/plain": [
       "array([7, 4, 3, 7, 4, 6, 7, 2, 3, 8, 1, 9, 2, 8, 1, 9])"
      ]
     },
     "execution_count": 82,
     "metadata": {},
     "output_type": "execute_result"
    }
   ],
   "source": [
    "b[b.nonzero()]"
   ]
  },
  {
   "cell_type": "markdown",
   "id": "cd600e88",
   "metadata": {},
   "source": [
    "# 複製陣列元素, 拼凑成新陣列 - tile()"
   ]
  },
  {
   "cell_type": "markdown",
   "id": "e891d3a1",
   "metadata": {},
   "source": [
    "np.tile(a, reps)"
   ]
  },
  {
   "cell_type": "code",
   "execution_count": 83,
   "id": "04746bbc",
   "metadata": {},
   "outputs": [],
   "source": [
    "import numpy as np"
   ]
  },
  {
   "cell_type": "code",
   "execution_count": 84,
   "id": "5f41df73",
   "metadata": {},
   "outputs": [],
   "source": [
    "a = np.array([0, 1, 2])"
   ]
  },
  {
   "cell_type": "code",
   "execution_count": 85,
   "id": "e859b2f1",
   "metadata": {},
   "outputs": [
    {
     "data": {
      "text/plain": [
       "array([0, 1, 2, 0, 1, 2])"
      ]
     },
     "execution_count": 85,
     "metadata": {},
     "output_type": "execute_result"
    }
   ],
   "source": [
    "np.tile(a, 2)"
   ]
  },
  {
   "cell_type": "code",
   "execution_count": 86,
   "id": "0fe5db8a",
   "metadata": {},
   "outputs": [
    {
     "data": {
      "text/plain": [
       "array([[0, 1, 2, 0, 1, 2],\n",
       "       [0, 1, 2, 0, 1, 2],\n",
       "       [0, 1, 2, 0, 1, 2]])"
      ]
     },
     "execution_count": 86,
     "metadata": {},
     "output_type": "execute_result"
    }
   ],
   "source": [
    "np.tile(a, (3, 2))"
   ]
  },
  {
   "cell_type": "code",
   "execution_count": 87,
   "id": "79b62c73",
   "metadata": {},
   "outputs": [
    {
     "data": {
      "text/plain": [
       "array([[[0, 1, 2, 0, 1, 2, 0, 1, 2, 0, 1, 2],\n",
       "        [0, 1, 2, 0, 1, 2, 0, 1, 2, 0, 1, 2],\n",
       "        [0, 1, 2, 0, 1, 2, 0, 1, 2, 0, 1, 2]],\n",
       "\n",
       "       [[0, 1, 2, 0, 1, 2, 0, 1, 2, 0, 1, 2],\n",
       "        [0, 1, 2, 0, 1, 2, 0, 1, 2, 0, 1, 2],\n",
       "        [0, 1, 2, 0, 1, 2, 0, 1, 2, 0, 1, 2]]])"
      ]
     },
     "execution_count": 87,
     "metadata": {},
     "output_type": "execute_result"
    }
   ],
   "source": [
    "np.tile(a, (2, 3, 4))"
   ]
  },
  {
   "cell_type": "markdown",
   "id": "5e715d02",
   "metadata": {},
   "source": [
    "# 增加陣列的軸數 - np.newaxis"
   ]
  },
  {
   "cell_type": "markdown",
   "id": "66064f8a",
   "metadata": {},
   "source": [
    "ndarray[:, np.newaxis] or ndarray[:,None]"
   ]
  },
  {
   "cell_type": "code",
   "execution_count": 88,
   "id": "79a3b704",
   "metadata": {},
   "outputs": [],
   "source": [
    "import numpy as np"
   ]
  },
  {
   "cell_type": "code",
   "execution_count": 89,
   "id": "6d67693a",
   "metadata": {},
   "outputs": [
    {
     "data": {
      "text/plain": [
       "True"
      ]
     },
     "execution_count": 89,
     "metadata": {},
     "output_type": "execute_result"
    }
   ],
   "source": [
    "np.newaxis is None"
   ]
  },
  {
   "cell_type": "code",
   "execution_count": 90,
   "id": "8c30db39",
   "metadata": {},
   "outputs": [
    {
     "data": {
      "text/plain": [
       "array([[ 0,  1,  2,  3,  4],\n",
       "       [ 5,  6,  7,  8,  9],\n",
       "       [10, 11, 12, 13, 14]])"
      ]
     },
     "execution_count": 90,
     "metadata": {},
     "output_type": "execute_result"
    }
   ],
   "source": [
    "x = np.arange(15).reshape(3, 5)\n",
    "x"
   ]
  },
  {
   "cell_type": "code",
   "execution_count": 91,
   "id": "392e4b1d",
   "metadata": {},
   "outputs": [
    {
     "data": {
      "text/plain": [
       "(array([[[ 0,  1,  2,  3,  4],\n",
       "         [ 5,  6,  7,  8,  9],\n",
       "         [10, 11, 12, 13, 14]]]),\n",
       " (1, 3, 5))"
      ]
     },
     "execution_count": 91,
     "metadata": {},
     "output_type": "execute_result"
    }
   ],
   "source": [
    "x[np.newaxis, :, :], x[np.newaxis, :].shape"
   ]
  },
  {
   "cell_type": "code",
   "execution_count": 92,
   "id": "89009e51",
   "metadata": {},
   "outputs": [
    {
     "data": {
      "text/plain": [
       "(array([[[ 0,  1,  2,  3,  4]],\n",
       " \n",
       "        [[ 5,  6,  7,  8,  9]],\n",
       " \n",
       "        [[10, 11, 12, 13, 14]]]),\n",
       " (3, 1, 5))"
      ]
     },
     "execution_count": 92,
     "metadata": {},
     "output_type": "execute_result"
    }
   ],
   "source": [
    "x[:, np.newaxis, :], x[:, np.newaxis, :].shape"
   ]
  },
  {
   "cell_type": "code",
   "execution_count": 93,
   "id": "3855b20f",
   "metadata": {},
   "outputs": [
    {
     "data": {
      "text/plain": [
       "(array([[[ 0,  1,  2,  3,  4]],\n",
       " \n",
       "        [[ 5,  6,  7,  8,  9]],\n",
       " \n",
       "        [[10, 11, 12, 13, 14]]]),\n",
       " (3, 1, 5))"
      ]
     },
     "execution_count": 93,
     "metadata": {},
     "output_type": "execute_result"
    }
   ],
   "source": [
    "x[:, None, :], x[:, None, :].shape"
   ]
  },
  {
   "cell_type": "code",
   "execution_count": 94,
   "id": "4a2bdec4",
   "metadata": {},
   "outputs": [
    {
     "data": {
      "text/plain": [
       "array([ 0,  1,  2,  3,  4,  5,  6,  7,  8,  9, 10, 11, 12, 13, 14])"
      ]
     },
     "execution_count": 94,
     "metadata": {},
     "output_type": "execute_result"
    }
   ],
   "source": [
    "x = x.flatten()\n",
    "x"
   ]
  },
  {
   "cell_type": "code",
   "execution_count": 95,
   "id": "232e8f68",
   "metadata": {},
   "outputs": [
    {
     "data": {
      "text/plain": [
       "array([[ 0],\n",
       "       [ 1],\n",
       "       [ 2],\n",
       "       [ 3],\n",
       "       [ 4],\n",
       "       [ 5],\n",
       "       [ 6],\n",
       "       [ 7],\n",
       "       [ 8],\n",
       "       [ 9],\n",
       "       [10],\n",
       "       [11],\n",
       "       [12],\n",
       "       [13],\n",
       "       [14]])"
      ]
     },
     "execution_count": 95,
     "metadata": {},
     "output_type": "execute_result"
    }
   ],
   "source": [
    "x[:, np.newaxis]"
   ]
  },
  {
   "cell_type": "code",
   "execution_count": 96,
   "id": "f2c8ee17",
   "metadata": {},
   "outputs": [
    {
     "data": {
      "text/plain": [
       "array([[ 0,  1,  2,  3,  4],\n",
       "       [ 5,  6,  7,  8,  9],\n",
       "       [10, 11, 12, 13, 14]])"
      ]
     },
     "execution_count": 96,
     "metadata": {},
     "output_type": "execute_result"
    }
   ],
   "source": [
    "x = np.arange(15).reshape(3, 5)\n",
    "x"
   ]
  },
  {
   "cell_type": "code",
   "execution_count": 97,
   "id": "d5959980",
   "metadata": {},
   "outputs": [
    {
     "data": {
      "text/plain": [
       "array([[[ 0,  1,  2,  3,  4],\n",
       "        [ 5,  6,  7,  8,  9],\n",
       "        [10, 11, 12, 13, 14]]])"
      ]
     },
     "execution_count": 97,
     "metadata": {},
     "output_type": "execute_result"
    }
   ],
   "source": [
    "np.reshape(x, (1, 3, 5)) #same as x[np.newaxis, :, :]"
   ]
  },
  {
   "cell_type": "code",
   "execution_count": 98,
   "id": "f17e32a8",
   "metadata": {},
   "outputs": [
    {
     "data": {
      "text/plain": [
       "array([[[ 0,  1,  2,  3,  4]],\n",
       "\n",
       "       [[ 5,  6,  7,  8,  9]],\n",
       "\n",
       "       [[10, 11, 12, 13, 14]]])"
      ]
     },
     "execution_count": 98,
     "metadata": {},
     "output_type": "execute_result"
    }
   ],
   "source": [
    "np.reshape(x, (3, 1, 5)) #same as x[:, np.newaxis, :]"
   ]
  },
  {
   "cell_type": "code",
   "execution_count": 99,
   "id": "29093f08",
   "metadata": {},
   "outputs": [
    {
     "data": {
      "text/plain": [
       "array([ 0,  1,  2,  3,  4,  5,  6,  7,  8,  9, 10, 11, 12, 13, 14])"
      ]
     },
     "execution_count": 99,
     "metadata": {},
     "output_type": "execute_result"
    }
   ],
   "source": [
    "x = x.flatten()\n",
    "x"
   ]
  },
  {
   "cell_type": "code",
   "execution_count": 100,
   "id": "c16ea2c0",
   "metadata": {},
   "outputs": [
    {
     "data": {
      "text/plain": [
       "array([[ 0],\n",
       "       [ 1],\n",
       "       [ 2],\n",
       "       [ 3],\n",
       "       [ 4],\n",
       "       [ 5],\n",
       "       [ 6],\n",
       "       [ 7],\n",
       "       [ 8],\n",
       "       [ 9],\n",
       "       [10],\n",
       "       [11],\n",
       "       [12],\n",
       "       [13],\n",
       "       [14]])"
      ]
     },
     "execution_count": 100,
     "metadata": {},
     "output_type": "execute_result"
    }
   ],
   "source": [
    "np.reshape(x, (-1, 1)) #same as x[:, np.newaxis]"
   ]
  },
  {
   "cell_type": "markdown",
   "id": "ab658506",
   "metadata": {},
   "source": [
    "reshape() 缺點：無法在不確定維度的情況下增加軸數"
   ]
  },
  {
   "cell_type": "markdown",
   "id": "6f4010ce",
   "metadata": {},
   "source": [
    "# 陣列合并 - np.r_ 與 np.c_ 物件"
   ]
  },
  {
   "cell_type": "markdown",
   "id": "6550916c",
   "metadata": {},
   "source": [
    "np.r_ 與 np.c_ 同樣具有合并陣列的用途(like np.hstack(), np.vstack())\n",
    "\n",
    "不過他們的功能不僅用於合并，還可像np.arange()一樣切片來建立陣列"
   ]
  },
  {
   "cell_type": "markdown",
   "id": "3c6a8b2a",
   "metadata": {},
   "source": [
    "用法一：合并陣列(不設定控制字串)\n",
    "\n",
    "np.r_[] 可以想象成 np.vstack(), axis = 0, row"
   ]
  },
  {
   "cell_type": "code",
   "execution_count": 101,
   "id": "66a1e8a9",
   "metadata": {},
   "outputs": [],
   "source": [
    "import numpy as np"
   ]
  },
  {
   "cell_type": "code",
   "execution_count": 102,
   "id": "0807b261",
   "metadata": {},
   "outputs": [],
   "source": [
    "a = np.array([1, 2, 3])\n",
    "b = np.array([4, 5 ,6])"
   ]
  },
  {
   "cell_type": "code",
   "execution_count": 103,
   "id": "15e2451a",
   "metadata": {},
   "outputs": [
    {
     "data": {
      "text/plain": [
       "array([1, 2, 3, 4, 5, 6])"
      ]
     },
     "execution_count": 103,
     "metadata": {},
     "output_type": "execute_result"
    }
   ],
   "source": [
    "np.r_[a, b]"
   ]
  },
  {
   "cell_type": "code",
   "execution_count": 104,
   "id": "116b2f80",
   "metadata": {},
   "outputs": [
    {
     "data": {
      "text/plain": [
       "array([2. , 3. , 5. , 1. , 2. , 4.2])"
      ]
     },
     "execution_count": 104,
     "metadata": {},
     "output_type": "execute_result"
    }
   ],
   "source": [
    "np.r_[2, 3, 5, np.array([1, 2]), 4.2]"
   ]
  },
  {
   "cell_type": "code",
   "execution_count": 105,
   "id": "437c3071",
   "metadata": {},
   "outputs": [],
   "source": [
    "c = np.zeros((2, 3))\n",
    "d = np.ones((3, 3))"
   ]
  },
  {
   "cell_type": "code",
   "execution_count": 106,
   "id": "460b983c",
   "metadata": {},
   "outputs": [
    {
     "data": {
      "text/plain": [
       "array([[0., 0., 0.],\n",
       "       [0., 0., 0.],\n",
       "       [1., 1., 1.],\n",
       "       [1., 1., 1.],\n",
       "       [1., 1., 1.]])"
      ]
     },
     "execution_count": 106,
     "metadata": {},
     "output_type": "execute_result"
    }
   ],
   "source": [
    "np.r_[c, d]"
   ]
  },
  {
   "cell_type": "code",
   "execution_count": 107,
   "id": "cbace4ab",
   "metadata": {},
   "outputs": [],
   "source": [
    "d = np.ones((3, 4))"
   ]
  },
  {
   "cell_type": "code",
   "execution_count": 108,
   "id": "da1597cd",
   "metadata": {},
   "outputs": [],
   "source": [
    "#np.r_[c, d] #error"
   ]
  },
  {
   "cell_type": "markdown",
   "id": "5ffc5cfc",
   "metadata": {},
   "source": [
    "用法二：合并陣列(設定控制字串)\n",
    "\n",
    "np.r_['x, y, z',陣列或數值, ...]\n",
    "\n",
    "x:設定合并哪一軸的元素\n",
    "\n",
    "y:設定合并後的陣列至少為幾軸\n",
    "\n",
    "z:依y的設定，原始陣列可能需要增加軸數，z則指定了增軸的方式"
   ]
  },
  {
   "cell_type": "code",
   "execution_count": 109,
   "id": "7fa5c953",
   "metadata": {},
   "outputs": [],
   "source": [
    "a = np.ones((2, 2))\n",
    "b = np.zeros((2, 2))"
   ]
  },
  {
   "cell_type": "code",
   "execution_count": 110,
   "id": "fbf546f8",
   "metadata": {},
   "outputs": [
    {
     "data": {
      "text/plain": [
       "(array([[1., 1.],\n",
       "        [1., 1.],\n",
       "        [0., 0.],\n",
       "        [0., 0.]]),\n",
       " (4, 2))"
      ]
     },
     "execution_count": 110,
     "metadata": {},
     "output_type": "execute_result"
    }
   ],
   "source": [
    "np.r_['0', a, b], np.r_['0', a, b].shape \n",
    "#same as np.r_[a, b], np.r_[a, b].shape"
   ]
  },
  {
   "cell_type": "code",
   "execution_count": 111,
   "id": "b8042522",
   "metadata": {},
   "outputs": [
    {
     "data": {
      "text/plain": [
       "(array([[1., 1., 0., 0.],\n",
       "        [1., 1., 0., 0.]]),\n",
       " (2, 4))"
      ]
     },
     "execution_count": 111,
     "metadata": {},
     "output_type": "execute_result"
    }
   ],
   "source": [
    "np.r_['1', a, b], np.r_['1', a, b].shape"
   ]
  },
  {
   "cell_type": "code",
   "execution_count": 112,
   "id": "b197dc1b",
   "metadata": {},
   "outputs": [
    {
     "data": {
      "text/plain": [
       "array([[[1., 1.],\n",
       "        [1., 1.]],\n",
       "\n",
       "       [[1., 1.],\n",
       "        [1., 1.]]])"
      ]
     },
     "execution_count": 112,
     "metadata": {},
     "output_type": "execute_result"
    }
   ],
   "source": [
    "c = np.ones((2, 2, 2))\n",
    "c"
   ]
  },
  {
   "cell_type": "code",
   "execution_count": 113,
   "id": "2f56cd3e",
   "metadata": {},
   "outputs": [
    {
     "data": {
      "text/plain": [
       "array([[[0., 0.],\n",
       "        [0., 0.]],\n",
       "\n",
       "       [[0., 0.],\n",
       "        [0., 0.]]])"
      ]
     },
     "execution_count": 113,
     "metadata": {},
     "output_type": "execute_result"
    }
   ],
   "source": [
    "d = np.zeros((2, 2, 2))\n",
    "d"
   ]
  },
  {
   "cell_type": "code",
   "execution_count": 114,
   "id": "1701ba69",
   "metadata": {},
   "outputs": [
    {
     "data": {
      "text/plain": [
       "(array([[[1., 1.],\n",
       "         [1., 1.]],\n",
       " \n",
       "        [[1., 1.],\n",
       "         [1., 1.]],\n",
       " \n",
       "        [[0., 0.],\n",
       "         [0., 0.]],\n",
       " \n",
       "        [[0., 0.],\n",
       "         [0., 0.]]]),\n",
       " (4, 2, 2))"
      ]
     },
     "execution_count": 114,
     "metadata": {},
     "output_type": "execute_result"
    }
   ],
   "source": [
    "np.r_['0', c, d], np.r_['0', c, d].shape"
   ]
  },
  {
   "cell_type": "code",
   "execution_count": 115,
   "id": "36a753d8",
   "metadata": {},
   "outputs": [
    {
     "data": {
      "text/plain": [
       "(array([[[1., 1.],\n",
       "         [1., 1.],\n",
       "         [0., 0.],\n",
       "         [0., 0.]],\n",
       " \n",
       "        [[1., 1.],\n",
       "         [1., 1.],\n",
       "         [0., 0.],\n",
       "         [0., 0.]]]),\n",
       " (2, 4, 2))"
      ]
     },
     "execution_count": 115,
     "metadata": {},
     "output_type": "execute_result"
    }
   ],
   "source": [
    "np.r_['1', c, d], np.r_['1', c, d].shape"
   ]
  },
  {
   "cell_type": "code",
   "execution_count": 116,
   "id": "475db878",
   "metadata": {
    "scrolled": true
   },
   "outputs": [
    {
     "data": {
      "text/plain": [
       "(array([[[1., 1., 0., 0.],\n",
       "         [1., 1., 0., 0.]],\n",
       " \n",
       "        [[1., 1., 0., 0.],\n",
       "         [1., 1., 0., 0.]]]),\n",
       " (2, 2, 4))"
      ]
     },
     "execution_count": 116,
     "metadata": {},
     "output_type": "execute_result"
    }
   ],
   "source": [
    "np.r_['2', c, d], np.r_['2', c, d].shape"
   ]
  },
  {
   "cell_type": "markdown",
   "id": "66688b6e",
   "metadata": {},
   "source": [
    "    假設x.shape=(3,), [x, y z] = ['0','2','1']\n",
    "    y = '2' -> 變2D ->x.shape = ( ,3)\n",
    "    z = '1' -> 把該軸設定爲z軸 -> x.shape = (1,3)\n",
    "    ps:z default 是 -1 也就是最後一個軸"
   ]
  },
  {
   "cell_type": "code",
   "execution_count": 117,
   "id": "73d323b6",
   "metadata": {},
   "outputs": [
    {
     "data": {
      "text/plain": [
       "array([[0, 1, 2],\n",
       "       [3, 3, 3]])"
      ]
     },
     "execution_count": 117,
     "metadata": {},
     "output_type": "execute_result"
    }
   ],
   "source": [
    "np.r_['0, 2', [0, 1, 2], [3, 3, 3]]"
   ]
  },
  {
   "cell_type": "code",
   "execution_count": 118,
   "id": "34df455b",
   "metadata": {},
   "outputs": [
    {
     "data": {
      "text/plain": [
       "(2, 3)"
      ]
     },
     "execution_count": 118,
     "metadata": {},
     "output_type": "execute_result"
    }
   ],
   "source": [
    "np.r_['0, 2', [0, 1, 2], [3, 3, 3]].shape"
   ]
  },
  {
   "cell_type": "code",
   "execution_count": 119,
   "id": "66c93e4e",
   "metadata": {},
   "outputs": [
    {
     "data": {
      "text/plain": [
       "array([[[0, 1, 2]],\n",
       "\n",
       "       [[3, 3, 3]]])"
      ]
     },
     "execution_count": 119,
     "metadata": {},
     "output_type": "execute_result"
    }
   ],
   "source": [
    "np.r_['0, 3', [0, 1, 2], [3, 3, 3]]"
   ]
  },
  {
   "cell_type": "code",
   "execution_count": 120,
   "id": "cb645a1e",
   "metadata": {},
   "outputs": [
    {
     "data": {
      "text/plain": [
       "(2, 1, 3)"
      ]
     },
     "execution_count": 120,
     "metadata": {},
     "output_type": "execute_result"
    }
   ],
   "source": [
    "np.r_['0, 3', [0, 1, 2], [3, 3, 3]].shape"
   ]
  },
  {
   "cell_type": "code",
   "execution_count": 121,
   "id": "4e54c333",
   "metadata": {},
   "outputs": [
    {
     "data": {
      "text/plain": [
       "array([[[0, 1, 2]],\n",
       "\n",
       "       [[3, 3, 3]]])"
      ]
     },
     "execution_count": 121,
     "metadata": {},
     "output_type": "execute_result"
    }
   ],
   "source": [
    "np.r_['0, 3, -1', [0, 1, 2], [3, 3, 3]]"
   ]
  },
  {
   "cell_type": "code",
   "execution_count": 122,
   "id": "6b883b7d",
   "metadata": {},
   "outputs": [
    {
     "data": {
      "text/plain": [
       "array([[[0]],\n",
       "\n",
       "       [[1]],\n",
       "\n",
       "       [[2]],\n",
       "\n",
       "       [[3]],\n",
       "\n",
       "       [[3]],\n",
       "\n",
       "       [[3]]])"
      ]
     },
     "execution_count": 122,
     "metadata": {},
     "output_type": "execute_result"
    }
   ],
   "source": [
    "np.r_['0, 3, 0', [0, 1, 2], [3, 3, 3]]"
   ]
  },
  {
   "cell_type": "code",
   "execution_count": 123,
   "id": "e37b67ec",
   "metadata": {},
   "outputs": [
    {
     "data": {
      "text/plain": [
       "(6, 1, 1)"
      ]
     },
     "execution_count": 123,
     "metadata": {},
     "output_type": "execute_result"
    }
   ],
   "source": [
    "np.r_['0, 3, 0', [0, 1, 2], [3, 3, 3]].shape"
   ]
  },
  {
   "cell_type": "markdown",
   "id": "b4b05742",
   "metadata": {},
   "source": [
    "用法三：用切片語法建立陣列\n",
    "\n",
    "np.r_[start:stop:step,1D陣列或數值, ...]"
   ]
  },
  {
   "cell_type": "code",
   "execution_count": 124,
   "id": "8aa3080d",
   "metadata": {},
   "outputs": [
    {
     "data": {
      "text/plain": [
       "array([0, 1, 2, 3, 4, 5, 6, 7, 8, 9])"
      ]
     },
     "execution_count": 124,
     "metadata": {},
     "output_type": "execute_result"
    }
   ],
   "source": [
    "np.r_[0:10]"
   ]
  },
  {
   "cell_type": "code",
   "execution_count": 125,
   "id": "4dd5e238",
   "metadata": {},
   "outputs": [
    {
     "data": {
      "text/plain": [
       "array([0, 1, 2, 3, 4, 5, 6, 7, 8, 9])"
      ]
     },
     "execution_count": 125,
     "metadata": {},
     "output_type": "execute_result"
    }
   ],
   "source": [
    "np.r_[:10]"
   ]
  },
  {
   "cell_type": "code",
   "execution_count": 126,
   "id": "2f8424cf",
   "metadata": {},
   "outputs": [
    {
     "data": {
      "text/plain": [
       "array([0, 2, 4, 6, 8])"
      ]
     },
     "execution_count": 126,
     "metadata": {},
     "output_type": "execute_result"
    }
   ],
   "source": [
    "np.r_[0:10:2]"
   ]
  },
  {
   "cell_type": "code",
   "execution_count": 127,
   "id": "3bcd8f15",
   "metadata": {},
   "outputs": [
    {
     "data": {
      "text/plain": [
       "array([10,  9,  8,  7,  6,  5,  4,  3,  2,  1])"
      ]
     },
     "execution_count": 127,
     "metadata": {},
     "output_type": "execute_result"
    }
   ],
   "source": [
    "np.r_[10:0:-1]"
   ]
  },
  {
   "cell_type": "code",
   "execution_count": 128,
   "id": "bbb938a1",
   "metadata": {},
   "outputs": [
    {
     "data": {
      "text/plain": [
       "array([0, 1, 2, 3, 4, 5, 6, 7, 8, 9, 0, 4, 3, 3])"
      ]
     },
     "execution_count": 128,
     "metadata": {},
     "output_type": "execute_result"
    }
   ],
   "source": [
    "np.r_[0:10, 0, 4, np.array([3, 3])]"
   ]
  },
  {
   "cell_type": "markdown",
   "id": "090e707b",
   "metadata": {},
   "source": [
    "用法四：傳入‘r’,‘c’字串建立矩陣物件\n",
    "\n",
    "np.r_['r'or'c',陣列或數值, ...]"
   ]
  },
  {
   "cell_type": "code",
   "execution_count": 129,
   "id": "81de5606",
   "metadata": {},
   "outputs": [],
   "source": [
    "a = np.array([1, 4, 6])\n",
    "b = np.array([2, 2, 2])"
   ]
  },
  {
   "cell_type": "code",
   "execution_count": 130,
   "id": "34f3a926",
   "metadata": {},
   "outputs": [
    {
     "data": {
      "text/plain": [
       "matrix([[1, 4, 6, 2, 2, 2]])"
      ]
     },
     "execution_count": 130,
     "metadata": {},
     "output_type": "execute_result"
    }
   ],
   "source": [
    "np.r_['r',a, b]"
   ]
  },
  {
   "cell_type": "code",
   "execution_count": 131,
   "id": "d831b1e8",
   "metadata": {},
   "outputs": [
    {
     "data": {
      "text/plain": [
       "matrix([[1],\n",
       "        [4],\n",
       "        [6],\n",
       "        [2],\n",
       "        [2],\n",
       "        [2]])"
      ]
     },
     "execution_count": 131,
     "metadata": {},
     "output_type": "execute_result"
    }
   ],
   "source": [
    "np.r_['c',a, b]"
   ]
  },
  {
   "cell_type": "code",
   "execution_count": 132,
   "id": "f3c30f47",
   "metadata": {},
   "outputs": [],
   "source": [
    "c = np.ones((4, 5))\n",
    "d = np.zeros((2, 5))"
   ]
  },
  {
   "cell_type": "code",
   "execution_count": 133,
   "id": "4f66f543",
   "metadata": {},
   "outputs": [
    {
     "data": {
      "text/plain": [
       "matrix([[1., 1., 1., 1., 1.],\n",
       "        [1., 1., 1., 1., 1.],\n",
       "        [1., 1., 1., 1., 1.],\n",
       "        [1., 1., 1., 1., 1.],\n",
       "        [0., 0., 0., 0., 0.],\n",
       "        [0., 0., 0., 0., 0.]])"
      ]
     },
     "execution_count": 133,
     "metadata": {},
     "output_type": "execute_result"
    }
   ],
   "source": [
    "np.r_['r', c, d]"
   ]
  },
  {
   "cell_type": "code",
   "execution_count": 134,
   "id": "8393980e",
   "metadata": {},
   "outputs": [
    {
     "data": {
      "text/plain": [
       "matrix([[1., 1., 1., 1., 1.],\n",
       "        [1., 1., 1., 1., 1.],\n",
       "        [1., 1., 1., 1., 1.],\n",
       "        [1., 1., 1., 1., 1.],\n",
       "        [0., 0., 0., 0., 0.],\n",
       "        [0., 0., 0., 0., 0.]])"
      ]
     },
     "execution_count": 134,
     "metadata": {},
     "output_type": "execute_result"
    }
   ],
   "source": [
    "np.r_['c', c, d]"
   ]
  },
  {
   "cell_type": "markdown",
   "id": "1f032b66",
   "metadata": {},
   "source": [
    "由於np.r_預設合并第0軸 因此上面的都一樣"
   ]
  },
  {
   "cell_type": "markdown",
   "id": "c397d37a",
   "metadata": {},
   "source": [
    "其實np.r_熟練也是可以達到np.c_的效果\n",
    "\n",
    "尤其合并np.c_ 使用兩種反而會搞混\n",
    "\n",
    "np.c_[a, b] = np.r_['-1, 2, 0', a, b]"
   ]
  },
  {
   "cell_type": "code",
   "execution_count": 135,
   "id": "4d15dcdc",
   "metadata": {},
   "outputs": [
    {
     "data": {
      "text/plain": [
       "array([[1., 1.],\n",
       "       [1., 1.],\n",
       "       [1., 1.]])"
      ]
     },
     "execution_count": 135,
     "metadata": {},
     "output_type": "execute_result"
    }
   ],
   "source": [
    "a = np.ones((3, 2))\n",
    "a"
   ]
  },
  {
   "cell_type": "code",
   "execution_count": 136,
   "id": "930f5816",
   "metadata": {},
   "outputs": [
    {
     "data": {
      "text/plain": [
       "array([[0., 0., 0.],\n",
       "       [0., 0., 0.],\n",
       "       [0., 0., 0.]])"
      ]
     },
     "execution_count": 136,
     "metadata": {},
     "output_type": "execute_result"
    }
   ],
   "source": [
    "b = np.zeros((3, 3))\n",
    "b"
   ]
  },
  {
   "cell_type": "code",
   "execution_count": 137,
   "id": "28d5eaf3",
   "metadata": {},
   "outputs": [
    {
     "data": {
      "text/plain": [
       "array([[1., 1., 0., 0., 0.],\n",
       "       [1., 1., 0., 0., 0.],\n",
       "       [1., 1., 0., 0., 0.]])"
      ]
     },
     "execution_count": 137,
     "metadata": {},
     "output_type": "execute_result"
    }
   ],
   "source": [
    "np.c_[a, b]"
   ]
  },
  {
   "cell_type": "code",
   "execution_count": 138,
   "id": "143ef15e",
   "metadata": {},
   "outputs": [
    {
     "data": {
      "text/plain": [
       "array([0., 0., 0.])"
      ]
     },
     "execution_count": 138,
     "metadata": {},
     "output_type": "execute_result"
    }
   ],
   "source": [
    "c = np.array([0., 0., 0.])\n",
    "c"
   ]
  },
  {
   "cell_type": "code",
   "execution_count": 139,
   "id": "222e7a67",
   "metadata": {},
   "outputs": [
    {
     "data": {
      "text/plain": [
       "array([[1., 1., 0.],\n",
       "       [1., 1., 0.],\n",
       "       [1., 1., 0.]])"
      ]
     },
     "execution_count": 139,
     "metadata": {},
     "output_type": "execute_result"
    }
   ],
   "source": [
    "np.c_[a, c]"
   ]
  },
  {
   "cell_type": "code",
   "execution_count": 140,
   "id": "a6c455f1",
   "metadata": {},
   "outputs": [
    {
     "data": {
      "text/plain": [
       "(3, 3)"
      ]
     },
     "execution_count": 140,
     "metadata": {},
     "output_type": "execute_result"
    }
   ],
   "source": [
    "np.c_[a, c].shape"
   ]
  },
  {
   "cell_type": "markdown",
   "id": "f4ea94e7",
   "metadata": {},
   "source": [
    "# 陣列的儲存與讀取 - save() 與 load()"
   ]
  },
  {
   "cell_type": "markdown",
   "id": "dfd05cc5",
   "metadata": {},
   "source": [
    "np.save(file, arr, allow_pickle=True, fix_imports=True)\n",
    "\n",
    "np.load(file, mmap_mode=None, allow_pickle=True, fix_imports=True, encoding='ASCII)\n",
    "\n",
    "file type : .npy, binary"
   ]
  },
  {
   "cell_type": "code",
   "execution_count": 141,
   "id": "5172b351",
   "metadata": {},
   "outputs": [],
   "source": [
    "import numpy as np"
   ]
  },
  {
   "cell_type": "code",
   "execution_count": 142,
   "id": "f9bb01b6",
   "metadata": {},
   "outputs": [
    {
     "data": {
      "text/plain": [
       "array([[0.68564811, 0.59074925, 0.52409275, ..., 0.21237303, 0.13779091,\n",
       "        0.8702217 ],\n",
       "       [0.13718706, 0.9692734 , 0.57066862, ..., 0.39969501, 0.15393687,\n",
       "        0.4939711 ],\n",
       "       [0.93890797, 0.85526525, 0.17935707, ..., 0.29193435, 0.74422616,\n",
       "        0.89675888],\n",
       "       ...,\n",
       "       [0.82105537, 0.35343753, 0.15240969, ..., 0.8872634 , 0.58645936,\n",
       "        0.59859669],\n",
       "       [0.12249704, 0.34544702, 0.37673506, ..., 0.92308593, 0.98092524,\n",
       "        0.09030762],\n",
       "       [0.05224381, 0.4920884 , 0.42878644, ..., 0.04548954, 0.7770869 ,\n",
       "        0.17348117]])"
      ]
     },
     "execution_count": 142,
     "metadata": {},
     "output_type": "execute_result"
    }
   ],
   "source": [
    "a = np.random.rand(1200*1000).reshape(1200, -1)\n",
    "a"
   ]
  },
  {
   "cell_type": "code",
   "execution_count": 143,
   "id": "ff692833",
   "metadata": {},
   "outputs": [],
   "source": [
    "np.save('source/a', a)"
   ]
  },
  {
   "cell_type": "code",
   "execution_count": 144,
   "id": "1cc6c3b7",
   "metadata": {},
   "outputs": [
    {
     "data": {
      "text/plain": [
       "array([[0.68564811, 0.59074925, 0.52409275, ..., 0.21237303, 0.13779091,\n",
       "        0.8702217 ],\n",
       "       [0.13718706, 0.9692734 , 0.57066862, ..., 0.39969501, 0.15393687,\n",
       "        0.4939711 ],\n",
       "       [0.93890797, 0.85526525, 0.17935707, ..., 0.29193435, 0.74422616,\n",
       "        0.89675888],\n",
       "       ...,\n",
       "       [0.82105537, 0.35343753, 0.15240969, ..., 0.8872634 , 0.58645936,\n",
       "        0.59859669],\n",
       "       [0.12249704, 0.34544702, 0.37673506, ..., 0.92308593, 0.98092524,\n",
       "        0.09030762],\n",
       "       [0.05224381, 0.4920884 , 0.42878644, ..., 0.04548954, 0.7770869 ,\n",
       "        0.17348117]])"
      ]
     },
     "execution_count": 144,
     "metadata": {},
     "output_type": "execute_result"
    }
   ],
   "source": [
    "b = np.load('source/a.npy')\n",
    "b"
   ]
  },
  {
   "cell_type": "code",
   "execution_count": 145,
   "id": "eff3ea28",
   "metadata": {},
   "outputs": [
    {
     "data": {
      "text/plain": [
       "(1200, 1000)"
      ]
     },
     "execution_count": 145,
     "metadata": {},
     "output_type": "execute_result"
    }
   ],
   "source": [
    "b.shape"
   ]
  },
  {
   "cell_type": "markdown",
   "id": "f11421e9",
   "metadata": {},
   "source": [
    "以上缺點:無法兼容于python以外的程式語言或軟體工具"
   ]
  },
  {
   "cell_type": "markdown",
   "id": "0d72dfdf",
   "metadata": {},
   "source": [
    "# 以文字格式儲存與讀取陣列 - savetxt() 與 loadtxt()"
   ]
  },
  {
   "cell_type": "markdown",
   "id": "9e4d2a1d",
   "metadata": {},
   "source": [
    "缺點：最高只能儲存2D的陣列\n",
    "\n",
    "np.savetxt(fname, X, fmt, delimiter, newline, header, footer, comments, encoding)\n",
    "\n",
    "np.loadtxt(fname, dtype, comment, delimiter, converters, skiprows, usecols, unpack, ndim, encoding)"
   ]
  },
  {
   "cell_type": "code",
   "execution_count": 146,
   "id": "059155e7",
   "metadata": {},
   "outputs": [],
   "source": [
    "import numpy as np"
   ]
  },
  {
   "cell_type": "code",
   "execution_count": 147,
   "id": "972057ba",
   "metadata": {},
   "outputs": [
    {
     "data": {
      "text/plain": [
       "array([[0.38251563, 0.87639315, 0.29097544, 0.46843954],\n",
       "       [0.61090723, 0.25777427, 0.73009274, 0.01220844],\n",
       "       [0.66506052, 0.93097831, 0.63279316, 0.83611651]])"
      ]
     },
     "execution_count": 147,
     "metadata": {},
     "output_type": "execute_result"
    }
   ],
   "source": [
    "a = np.random.rand(3, 4)\n",
    "a"
   ]
  },
  {
   "cell_type": "code",
   "execution_count": 148,
   "id": "4ae3e24b",
   "metadata": {},
   "outputs": [],
   "source": [
    "np.savetxt('source/sample1.txt', a)"
   ]
  },
  {
   "cell_type": "code",
   "execution_count": 149,
   "id": "bb048576",
   "metadata": {},
   "outputs": [
    {
     "data": {
      "text/plain": [
       "array([[0.38251563, 0.87639315, 0.29097544, 0.46843954],\n",
       "       [0.61090723, 0.25777427, 0.73009274, 0.01220844],\n",
       "       [0.66506052, 0.93097831, 0.63279316, 0.83611651]])"
      ]
     },
     "execution_count": 149,
     "metadata": {},
     "output_type": "execute_result"
    }
   ],
   "source": [
    "b = np.loadtxt('source/sample1.txt')\n",
    "b"
   ]
  },
  {
   "cell_type": "code",
   "execution_count": 150,
   "id": "42ec040f",
   "metadata": {},
   "outputs": [],
   "source": [
    "np.savetxt('source/sample1.csv', a)"
   ]
  },
  {
   "cell_type": "code",
   "execution_count": 151,
   "id": "5f05a532",
   "metadata": {},
   "outputs": [
    {
     "data": {
      "text/plain": [
       "array([[0.38251563, 0.87639315, 0.29097544, 0.46843954],\n",
       "       [0.61090723, 0.25777427, 0.73009274, 0.01220844],\n",
       "       [0.66506052, 0.93097831, 0.63279316, 0.83611651]])"
      ]
     },
     "execution_count": 151,
     "metadata": {},
     "output_type": "execute_result"
    }
   ],
   "source": [
    "c = np.loadtxt('source/sample1.csv')\n",
    "c"
   ]
  },
  {
   "cell_type": "code",
   "execution_count": 152,
   "id": "62bfe7bf",
   "metadata": {},
   "outputs": [],
   "source": [
    "np.savetxt('source/sample2.txt', a, delimiter=',') #請查看sample2.txt"
   ]
  },
  {
   "cell_type": "code",
   "execution_count": 153,
   "id": "1e9f88ba",
   "metadata": {},
   "outputs": [],
   "source": [
    "#c = np.loadtxt('source/sample2.txt') #error"
   ]
  },
  {
   "cell_type": "code",
   "execution_count": 154,
   "id": "2be8c441",
   "metadata": {},
   "outputs": [
    {
     "data": {
      "text/plain": [
       "array([[0.38251563, 0.87639315, 0.29097544, 0.46843954],\n",
       "       [0.61090723, 0.25777427, 0.73009274, 0.01220844],\n",
       "       [0.66506052, 0.93097831, 0.63279316, 0.83611651]])"
      ]
     },
     "execution_count": 154,
     "metadata": {},
     "output_type": "execute_result"
    }
   ],
   "source": [
    "c = np.loadtxt('source/sample2.txt', delimiter=',')\n",
    "c"
   ]
  },
  {
   "cell_type": "code",
   "execution_count": 155,
   "id": "77a26e79",
   "metadata": {},
   "outputs": [],
   "source": [
    "np.savetxt('source/sample3.txt', a, fmt='%.2e') #請查看sample3.txt"
   ]
  },
  {
   "cell_type": "code",
   "execution_count": 156,
   "id": "f177f9c0",
   "metadata": {},
   "outputs": [],
   "source": [
    "np.savetxt('source/sample4.txt', a, fmt='%.2f') #請查看sample4.txt"
   ]
  },
  {
   "cell_type": "code",
   "execution_count": 157,
   "id": "e9389efe",
   "metadata": {},
   "outputs": [],
   "source": [
    "np.savetxt('source/sample5.txt', a, fmt='%.3e',\n",
    "          header='this is a header', footer='this is a footer') \n",
    "#請查看sample5.txt"
   ]
  },
  {
   "cell_type": "code",
   "execution_count": 158,
   "id": "1ff384e5",
   "metadata": {},
   "outputs": [],
   "source": [
    "np.savetxt('source/sample6.txt', a, fmt='%.3e',header='this is a header', \n",
    "           footer='this is a footer', comments='>>>') \n",
    "#請查看sample6.txt"
   ]
  },
  {
   "cell_type": "code",
   "execution_count": 159,
   "id": "1115da2e",
   "metadata": {},
   "outputs": [
    {
     "data": {
      "text/plain": [
       "array([[0.38, 0.88, 0.29, 0.47],\n",
       "       [0.61, 0.26, 0.73, 0.01],\n",
       "       [0.67, 0.93, 0.63, 0.84]])"
      ]
     },
     "execution_count": 159,
     "metadata": {},
     "output_type": "execute_result"
    }
   ],
   "source": [
    "np.loadtxt('source/sample4.txt')"
   ]
  },
  {
   "cell_type": "code",
   "execution_count": 160,
   "id": "d078ce25",
   "metadata": {},
   "outputs": [
    {
     "data": {
      "text/plain": [
       "array([[0.38, 0.29],\n",
       "       [0.61, 0.73],\n",
       "       [0.67, 0.63]])"
      ]
     },
     "execution_count": 160,
     "metadata": {},
     "output_type": "execute_result"
    }
   ],
   "source": [
    "np.loadtxt('source/sample4.txt', usecols=(0,2))"
   ]
  },
  {
   "cell_type": "code",
   "execution_count": 161,
   "id": "8b3d7595",
   "metadata": {},
   "outputs": [
    {
     "data": {
      "text/plain": [
       "array([[0.61, 0.26, 0.73, 0.01],\n",
       "       [0.67, 0.93, 0.63, 0.84]])"
      ]
     },
     "execution_count": 161,
     "metadata": {},
     "output_type": "execute_result"
    }
   ],
   "source": [
    "np.loadtxt('source/sample4.txt', skiprows=1) #skiprows=開頭前幾行"
   ]
  },
  {
   "cell_type": "code",
   "execution_count": 162,
   "id": "469c4690",
   "metadata": {
    "scrolled": false
   },
   "outputs": [
    {
     "data": {
      "text/plain": [
       "array([(18, b'female', 154.1, b'No'), (21, b'male', 172.3, b'Yes'),\n",
       "       (22, b'female', 160.8, b'Yes'), (23, b'male', 190.1, b'Yes'),\n",
       "       (25, b'female', 156. , b'No')],\n",
       "      dtype=[('col1', '<i8'), ('col2', 'S10'), ('col3', '<f8'), ('col4', 'S10')])"
      ]
     },
     "execution_count": 162,
     "metadata": {},
     "output_type": "execute_result"
    }
   ],
   "source": [
    "np.loadtxt('foo.csv', dtype=[('col1', 'i8'),\n",
    "                             ('col2', 'S10'),\n",
    "                             ('col3', 'f8'),\n",
    "                             ('col4', 'S10')\n",
    "                            ])"
   ]
  },
  {
   "cell_type": "code",
   "execution_count": 163,
   "id": "6df59446",
   "metadata": {
    "scrolled": true
   },
   "outputs": [
    {
     "data": {
      "text/plain": [
       "[array([18, 21, 22, 23, 25], dtype=int64),\n",
       " array([b'female', b'male', b'female', b'male', b'female'], dtype='|S10'),\n",
       " array([154.1, 172.3, 160.8, 190.1, 156. ]),\n",
       " array([b'No', b'Yes', b'Yes', b'Yes', b'No'], dtype='|S10')]"
      ]
     },
     "execution_count": 163,
     "metadata": {},
     "output_type": "execute_result"
    }
   ],
   "source": [
    "np.loadtxt('foo.csv', dtype=[('col1', 'i8'),\n",
    "                             ('col2', 'S10'),\n",
    "                             ('col3', 'f8'),\n",
    "                             ('col4', 'S10')\n",
    "                            ], unpack=True)"
   ]
  },
  {
   "cell_type": "code",
   "execution_count": 164,
   "id": "1d1ce4a1",
   "metadata": {},
   "outputs": [],
   "source": [
    "age,gender,tall,driver_license=np.loadtxt('foo.csv', dtype=[('col1', 'i8'),\n",
    "                                                                 ('col2', 'S10'),\n",
    "                                                                 ('col3', 'f8'),\n",
    "                                                                 ('col4', 'S10')\n",
    "                                                                ], unpack=True)"
   ]
  },
  {
   "cell_type": "code",
   "execution_count": 165,
   "id": "70aea576",
   "metadata": {},
   "outputs": [
    {
     "data": {
      "text/plain": [
       "array([18, 21, 22, 23, 25], dtype=int64)"
      ]
     },
     "execution_count": 165,
     "metadata": {},
     "output_type": "execute_result"
    }
   ],
   "source": [
    "age"
   ]
  },
  {
   "cell_type": "code",
   "execution_count": 166,
   "id": "3ed7e3b5",
   "metadata": {},
   "outputs": [
    {
     "data": {
      "text/plain": [
       "array([b'female', b'male', b'female', b'male', b'female'], dtype='|S10')"
      ]
     },
     "execution_count": 166,
     "metadata": {},
     "output_type": "execute_result"
    }
   ],
   "source": [
    "gender"
   ]
  },
  {
   "cell_type": "code",
   "execution_count": 167,
   "id": "546ef4c3",
   "metadata": {},
   "outputs": [
    {
     "data": {
      "text/plain": [
       "array([154.1, 172.3, 160.8, 190.1, 156. ])"
      ]
     },
     "execution_count": 167,
     "metadata": {},
     "output_type": "execute_result"
    }
   ],
   "source": [
    "tall"
   ]
  },
  {
   "cell_type": "code",
   "execution_count": 168,
   "id": "33b3432e",
   "metadata": {},
   "outputs": [
    {
     "data": {
      "text/plain": [
       "array([b'No', b'Yes', b'Yes', b'Yes', b'No'], dtype='|S10')"
      ]
     },
     "execution_count": 168,
     "metadata": {},
     "output_type": "execute_result"
    }
   ],
   "source": [
    "driver_license"
   ]
  },
  {
   "cell_type": "code",
   "execution_count": 169,
   "id": "c1ada254",
   "metadata": {},
   "outputs": [],
   "source": [
    "def driver_license(str):\n",
    "    if str == b'Yes':\n",
    "        return 1\n",
    "    else:\n",
    "        return -1"
   ]
  },
  {
   "cell_type": "code",
   "execution_count": 170,
   "id": "a9341e73",
   "metadata": {},
   "outputs": [],
   "source": [
    "def gender(str):\n",
    "    if str == b'male':\n",
    "        return 1\n",
    "    else:\n",
    "        return -1"
   ]
  },
  {
   "cell_type": "code",
   "execution_count": 171,
   "id": "f0c53a46",
   "metadata": {},
   "outputs": [
    {
     "data": {
      "text/plain": [
       "array([[ 18. ,  -1. , 154.1,  -1. ],\n",
       "       [ 21. ,   1. , 172.3,   1. ],\n",
       "       [ 22. ,  -1. , 160.8,   1. ],\n",
       "       [ 23. ,   1. , 190.1,   1. ],\n",
       "       [ 25. ,  -1. , 156. ,  -1. ]])"
      ]
     },
     "execution_count": 171,
     "metadata": {},
     "output_type": "execute_result"
    }
   ],
   "source": [
    "np.loadtxt('foo.csv', converters={1:gender, 3:driver_license})"
   ]
  },
  {
   "cell_type": "markdown",
   "id": "8e8b7c12",
   "metadata": {},
   "source": [
    "# 建立隨機亂數的陣列 - random()"
   ]
  },
  {
   "cell_type": "markdown",
   "id": "cfdaa0b5",
   "metadata": {},
   "source": [
    "np.random.rand(d0, d1, ...dn)\n",
    "\n",
    "np.random.randint(low, high, size, dtype)"
   ]
  },
  {
   "cell_type": "code",
   "execution_count": 172,
   "id": "223743d0",
   "metadata": {},
   "outputs": [],
   "source": [
    "import numpy as np"
   ]
  },
  {
   "cell_type": "code",
   "execution_count": 173,
   "id": "e4b8ced5",
   "metadata": {},
   "outputs": [
    {
     "data": {
      "text/plain": [
       "0.27534036869868517"
      ]
     },
     "execution_count": 173,
     "metadata": {},
     "output_type": "execute_result"
    }
   ],
   "source": [
    "np.random.rand()"
   ]
  },
  {
   "cell_type": "code",
   "execution_count": 174,
   "id": "09cd5231",
   "metadata": {},
   "outputs": [
    {
     "data": {
      "text/plain": [
       "2"
      ]
     },
     "execution_count": 174,
     "metadata": {},
     "output_type": "execute_result"
    }
   ],
   "source": [
    "np.random.randint(10)"
   ]
  },
  {
   "cell_type": "code",
   "execution_count": 175,
   "id": "b2c21c3b",
   "metadata": {},
   "outputs": [
    {
     "data": {
      "text/plain": [
       "array([[0.81681384, 0.26096324, 0.46271943],\n",
       "       [0.2940405 , 0.19868471, 0.85686904]])"
      ]
     },
     "execution_count": 175,
     "metadata": {},
     "output_type": "execute_result"
    }
   ],
   "source": [
    "np.random.rand(2, 3)"
   ]
  },
  {
   "cell_type": "code",
   "execution_count": 176,
   "id": "c180989c",
   "metadata": {},
   "outputs": [
    {
     "data": {
      "text/plain": [
       "array([[6, 9, 7],\n",
       "       [7, 5, 4]])"
      ]
     },
     "execution_count": 176,
     "metadata": {},
     "output_type": "execute_result"
    }
   ],
   "source": [
    "np.random.randint(10, size=(2, 3))"
   ]
  },
  {
   "cell_type": "code",
   "execution_count": 177,
   "id": "fb92fda0",
   "metadata": {},
   "outputs": [
    {
     "data": {
      "text/plain": [
       "array([6, 8, 5, 6, 8, 5, 7, 7, 8, 9])"
      ]
     },
     "execution_count": 177,
     "metadata": {},
     "output_type": "execute_result"
    }
   ],
   "source": [
    "np.random.randint(5, 10, size=10)"
   ]
  },
  {
   "cell_type": "code",
   "execution_count": 178,
   "id": "ddf927b4",
   "metadata": {},
   "outputs": [
    {
     "data": {
      "text/plain": [
       "array([9.09680191, 6.646596  , 9.58068133, 9.44748915, 9.82959767,\n",
       "       8.69775166, 6.92476023, 8.46621515, 5.94590758, 6.76523058])"
      ]
     },
     "execution_count": 178,
     "metadata": {},
     "output_type": "execute_result"
    }
   ],
   "source": [
    "#(stop - start) * np.random.rand() + start 回歸分析\n",
    "(10 - 5) * np.random.rand(10) + 5"
   ]
  },
  {
   "cell_type": "markdown",
   "id": "65c576b8",
   "metadata": {},
   "source": [
    "np.random.seed(seed)\n",
    "\n",
    "np.random模組的亂數產生器在初始化時，會使用一個整數來作爲seed\n",
    "\n",
    "seed不變 random出來的結果就不變"
   ]
  },
  {
   "cell_type": "code",
   "execution_count": 179,
   "id": "a2419bf5",
   "metadata": {},
   "outputs": [],
   "source": [
    "np.random.seed(20)"
   ]
  },
  {
   "cell_type": "code",
   "execution_count": 180,
   "id": "4ce342f2",
   "metadata": {},
   "outputs": [
    {
     "data": {
      "text/plain": [
       "0.5881308010772742"
      ]
     },
     "execution_count": 180,
     "metadata": {},
     "output_type": "execute_result"
    }
   ],
   "source": [
    "np.random.rand()"
   ]
  },
  {
   "cell_type": "code",
   "execution_count": 181,
   "id": "da69ff0c",
   "metadata": {},
   "outputs": [
    {
     "data": {
      "text/plain": [
       "0.5881308010772742"
      ]
     },
     "execution_count": 181,
     "metadata": {},
     "output_type": "execute_result"
    }
   ],
   "source": [
    "np.random.seed(20)\n",
    "np.random.rand()"
   ]
  },
  {
   "cell_type": "markdown",
   "id": "8c4dacac",
   "metadata": {},
   "source": [
    "np.random.choice(a, size, replace=True, p)\n",
    "\n",
    "np.random.choice不僅可以隨機取出元素， 還可用replace來控制是否取出重複的元素"
   ]
  },
  {
   "cell_type": "code",
   "execution_count": 182,
   "id": "8c740fda",
   "metadata": {
    "scrolled": true
   },
   "outputs": [],
   "source": [
    "a = ['Python', 'Ruby', 'Java', 'C++', 'PHP']"
   ]
  },
  {
   "cell_type": "code",
   "execution_count": 183,
   "id": "88d874b1",
   "metadata": {},
   "outputs": [
    {
     "data": {
      "text/plain": [
       "array(['Java', 'Python', 'Java'], dtype='<U6')"
      ]
     },
     "execution_count": 183,
     "metadata": {},
     "output_type": "execute_result"
    }
   ],
   "source": [
    "np.random.seed(4002)\n",
    "np.random.choice(a, 3)"
   ]
  },
  {
   "cell_type": "code",
   "execution_count": 184,
   "id": "8c50c567",
   "metadata": {},
   "outputs": [
    {
     "data": {
      "text/plain": [
       "array(['PHP', 'C++', 'Ruby'], dtype='<U6')"
      ]
     },
     "execution_count": 184,
     "metadata": {},
     "output_type": "execute_result"
    }
   ],
   "source": [
    "np.random.seed(4002)\n",
    "np.random.choice(a, 3, replace=False)"
   ]
  },
  {
   "cell_type": "code",
   "execution_count": 185,
   "id": "e673aa53",
   "metadata": {},
   "outputs": [
    {
     "data": {
      "text/plain": [
       "array(['Python', 'Java', 'C++', 'Python', 'Python', 'Python', 'Python',\n",
       "       'Python', 'Python', 'Python', 'Java', 'PHP', 'Python', 'Java',\n",
       "       'Python', 'Python', 'Python', 'Python', 'Python', 'Python'],\n",
       "      dtype='<U6')"
      ]
     },
     "execution_count": 185,
     "metadata": {},
     "output_type": "execute_result"
    }
   ],
   "source": [
    "np.random.seed(4002)\n",
    "np.random.choice(a, 20, p=[0.75, 0.05, 0.05, 0.05, 0.1]) #各個元素的權重\n",
    "# p的總和 = 1"
   ]
  },
  {
   "cell_type": "code",
   "execution_count": 186,
   "id": "1ce4983b",
   "metadata": {},
   "outputs": [
    {
     "data": {
      "text/plain": [
       "array([2, 0, 2, 3, 0, 1, 1, 2, 1, 3])"
      ]
     },
     "execution_count": 186,
     "metadata": {},
     "output_type": "execute_result"
    }
   ],
   "source": [
    "np.random.seed(4002)\n",
    "np.random.choice(5, 10)\n",
    "# 0 ~ 5"
   ]
  },
  {
   "cell_type": "markdown",
   "id": "dbb58b8b",
   "metadata": {},
   "source": [
    "np.random.shuffle(a)"
   ]
  },
  {
   "cell_type": "code",
   "execution_count": 187,
   "id": "0263fa66",
   "metadata": {},
   "outputs": [
    {
     "data": {
      "text/plain": [
       "array([0, 1, 2, 3, 4, 5, 6, 7, 8, 9])"
      ]
     },
     "execution_count": 187,
     "metadata": {},
     "output_type": "execute_result"
    }
   ],
   "source": [
    "a = np.arange(10)\n",
    "a"
   ]
  },
  {
   "cell_type": "code",
   "execution_count": 188,
   "id": "3ab478c7",
   "metadata": {},
   "outputs": [
    {
     "data": {
      "text/plain": [
       "array([9, 1, 4, 7, 2, 3, 0, 6, 5, 8])"
      ]
     },
     "execution_count": 188,
     "metadata": {},
     "output_type": "execute_result"
    }
   ],
   "source": [
    "np.random.shuffle(a)\n",
    "a"
   ]
  }
 ],
 "metadata": {
  "kernelspec": {
   "display_name": "Python 3 (ipykernel)",
   "language": "python",
   "name": "python3"
  },
  "language_info": {
   "codemirror_mode": {
    "name": "ipython",
    "version": 3
   },
   "file_extension": ".py",
   "mimetype": "text/x-python",
   "name": "python",
   "nbconvert_exporter": "python",
   "pygments_lexer": "ipython3",
   "version": "3.8.8"
  }
 },
 "nbformat": 4,
 "nbformat_minor": 5
}
