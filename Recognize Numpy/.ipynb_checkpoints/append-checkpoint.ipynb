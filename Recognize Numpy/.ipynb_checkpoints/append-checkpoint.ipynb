{
 "cells": [
  {
   "cell_type": "markdown",
   "id": "2919dcc5",
   "metadata": {},
   "source": [
    "## 在陣列最後面加入元素 - append()\n",
    "\n",
    "    np.array(arr, values, axis=None)"
   ]
  },
  {
   "cell_type": "code",
   "execution_count": 1,
   "id": "e6170ac9",
   "metadata": {},
   "outputs": [],
   "source": [
    "import numpy as np"
   ]
  },
  {
   "cell_type": "code",
   "execution_count": 2,
   "id": "6bf09bf2",
   "metadata": {},
   "outputs": [],
   "source": [
    "a = np.arange(12)"
   ]
  },
  {
   "cell_type": "code",
   "execution_count": 3,
   "id": "c29a8e91",
   "metadata": {},
   "outputs": [
    {
     "data": {
      "text/plain": [
       "array([ 0,  1,  2,  3,  4,  5,  6,  7,  8,  9, 10, 11,  6,  4,  2])"
      ]
     },
     "execution_count": 3,
     "metadata": {},
     "output_type": "execute_result"
    }
   ],
   "source": [
    "np.append(a, [6, 4, 2])"
   ]
  },
  {
   "cell_type": "code",
   "execution_count": 4,
   "id": "38baabd7",
   "metadata": {},
   "outputs": [
    {
     "data": {
      "text/plain": [
       "array([[ 0,  1,  2,  3],\n",
       "       [ 4,  5,  6,  7],\n",
       "       [ 8,  9, 10, 11]])"
      ]
     },
     "execution_count": 4,
     "metadata": {},
     "output_type": "execute_result"
    }
   ],
   "source": [
    "b = np.reshape(a, (3, 4))\n",
    "b"
   ]
  },
  {
   "cell_type": "code",
   "execution_count": 11,
   "id": "7ece9ab4",
   "metadata": {},
   "outputs": [
    {
     "data": {
      "text/plain": [
       "array([ 0,  1,  2,  3,  4,  5,  6,  7,  8,  9, 10, 11,  1,  2,  3,  4])"
      ]
     },
     "execution_count": 11,
     "metadata": {},
     "output_type": "execute_result"
    }
   ],
   "source": [
    "np.append(b, [1, 2, 3, 4]) # 如沒有指定axis 會變成1D然後進行append"
   ]
  },
  {
   "cell_type": "code",
   "execution_count": 6,
   "id": "0e8c93a7",
   "metadata": {},
   "outputs": [
    {
     "data": {
      "text/plain": [
       "array([[ 0,  1,  2,  3],\n",
       "       [ 4,  5,  6,  7],\n",
       "       [ 8,  9, 10, 11],\n",
       "       [ 1,  2,  3,  4]])"
      ]
     },
     "execution_count": 6,
     "metadata": {},
     "output_type": "execute_result"
    }
   ],
   "source": [
    "np.append(b, [[1, 2, 3, 4]], axis=0)"
   ]
  },
  {
   "cell_type": "code",
   "execution_count": 7,
   "id": "ffe6455d",
   "metadata": {},
   "outputs": [],
   "source": [
    "#np.append(b, [1, 2, 3, 4], axis=0) #error"
   ]
  },
  {
   "cell_type": "code",
   "execution_count": 8,
   "id": "d83fd136",
   "metadata": {},
   "outputs": [
    {
     "data": {
      "text/plain": [
       "array([[ 0.        ,  2.36363636,  4.72727273,  7.09090909],\n",
       "       [ 9.45454545, 11.81818182, 14.18181818, 16.54545455],\n",
       "       [18.90909091, 21.27272727, 23.63636364, 26.        ]])"
      ]
     },
     "execution_count": 8,
     "metadata": {},
     "output_type": "execute_result"
    }
   ],
   "source": [
    "c = np.linspace(0, 26, 12).reshape(3, 4)\n",
    "c"
   ]
  },
  {
   "cell_type": "code",
   "execution_count": 9,
   "id": "589de741",
   "metadata": {},
   "outputs": [
    {
     "data": {
      "text/plain": [
       "(array([[ 0.        ,  1.        ,  2.        ,  3.        ],\n",
       "        [ 4.        ,  5.        ,  6.        ,  7.        ],\n",
       "        [ 8.        ,  9.        , 10.        , 11.        ],\n",
       "        [ 0.        ,  2.36363636,  4.72727273,  7.09090909],\n",
       "        [ 9.45454545, 11.81818182, 14.18181818, 16.54545455],\n",
       "        [18.90909091, 21.27272727, 23.63636364, 26.        ]]),\n",
       " (6, 4))"
      ]
     },
     "execution_count": 9,
     "metadata": {},
     "output_type": "execute_result"
    }
   ],
   "source": [
    "d = np.append(b, c, axis=0)\n",
    "d, d.shape"
   ]
  },
  {
   "cell_type": "code",
   "execution_count": 10,
   "id": "5752cf06",
   "metadata": {},
   "outputs": [
    {
     "data": {
      "text/plain": [
       "(array([[ 0.        ,  1.        ,  2.        ,  3.        ,  0.        ,\n",
       "          2.36363636,  4.72727273,  7.09090909],\n",
       "        [ 4.        ,  5.        ,  6.        ,  7.        ,  9.45454545,\n",
       "         11.81818182, 14.18181818, 16.54545455],\n",
       "        [ 8.        ,  9.        , 10.        , 11.        , 18.90909091,\n",
       "         21.27272727, 23.63636364, 26.        ]]),\n",
       " (3, 8))"
      ]
     },
     "execution_count": 10,
     "metadata": {},
     "output_type": "execute_result"
    }
   ],
   "source": [
    "d = np.append(b, c, axis=1)\n",
    "d, d.shape"
   ]
  }
 ],
 "metadata": {
  "kernelspec": {
   "display_name": "Python 3 (ipykernel)",
   "language": "python",
   "name": "python3"
  },
  "language_info": {
   "codemirror_mode": {
    "name": "ipython",
    "version": 3
   },
   "file_extension": ".py",
   "mimetype": "text/x-python",
   "name": "python",
   "nbconvert_exporter": "python",
   "pygments_lexer": "ipython3",
   "version": "3.8.8"
  }
 },
 "nbformat": 4,
 "nbformat_minor": 5
}
