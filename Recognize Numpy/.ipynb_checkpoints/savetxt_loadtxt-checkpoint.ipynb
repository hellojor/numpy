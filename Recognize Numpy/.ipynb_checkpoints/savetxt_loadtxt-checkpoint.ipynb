{
 "cells": [
  {
   "cell_type": "markdown",
   "id": "472a0108",
   "metadata": {},
   "source": [
    "# 以文字格式儲存與讀取陣列 - savetxt() 與 loadtxt()\n",
    "\n",
    "    缺點：最高只能儲存2D的陣列\n",
    "    \n",
    "    np.savetxt(fname, X, fmt, delimiter, newline, header, footer, comments,\n",
    "    encoding)\n",
    "    \n",
    "    np.loadtxt(fname, dtype, comment, delimiter, converters, skiprows, usecols, \n",
    "    unpack, ndim, encoding)"
   ]
  },
  {
   "cell_type": "code",
   "execution_count": 1,
   "id": "8ba4e0e7",
   "metadata": {},
   "outputs": [],
   "source": [
    "import numpy as np"
   ]
  },
  {
   "cell_type": "code",
   "execution_count": 2,
   "id": "53e3d4fc",
   "metadata": {},
   "outputs": [
    {
     "data": {
      "text/plain": [
       "array([[0.37557679, 0.98494301, 0.08655212, 0.04959077],\n",
       "       [0.94970426, 0.31525954, 0.72114718, 0.72199114],\n",
       "       [0.94511556, 0.89624882, 0.65621217, 0.50000117]])"
      ]
     },
     "execution_count": 2,
     "metadata": {},
     "output_type": "execute_result"
    }
   ],
   "source": [
    "a = np.random.rand(3, 4)\n",
    "a"
   ]
  },
  {
   "cell_type": "code",
   "execution_count": 3,
   "id": "72dbd637",
   "metadata": {},
   "outputs": [],
   "source": [
    "np.savetxt('../output_file/sample1.txt', a)"
   ]
  },
  {
   "cell_type": "code",
   "execution_count": 4,
   "id": "8bf5cb64",
   "metadata": {},
   "outputs": [
    {
     "data": {
      "text/plain": [
       "array([[0.37557679, 0.98494301, 0.08655212, 0.04959077],\n",
       "       [0.94970426, 0.31525954, 0.72114718, 0.72199114],\n",
       "       [0.94511556, 0.89624882, 0.65621217, 0.50000117]])"
      ]
     },
     "execution_count": 4,
     "metadata": {},
     "output_type": "execute_result"
    }
   ],
   "source": [
    "b = np.loadtxt('../output_file/sample1.txt')\n",
    "b"
   ]
  },
  {
   "cell_type": "code",
   "execution_count": 5,
   "id": "89b198cd",
   "metadata": {},
   "outputs": [],
   "source": [
    "np.savetxt('../output_file/sample1.csv', a)"
   ]
  },
  {
   "cell_type": "code",
   "execution_count": 6,
   "id": "be4807e0",
   "metadata": {},
   "outputs": [],
   "source": [
    "np.savetxt('../output_file/sample1.csv', a)"
   ]
  },
  {
   "cell_type": "code",
   "execution_count": 7,
   "id": "4a99949a",
   "metadata": {},
   "outputs": [],
   "source": [
    "np.savetxt('../output_file/sample1.csv', a)"
   ]
  },
  {
   "cell_type": "code",
   "execution_count": 8,
   "id": "e8351b32",
   "metadata": {},
   "outputs": [],
   "source": [
    "np.savetxt('../output_file/sample1.csv', a)"
   ]
  },
  {
   "cell_type": "code",
   "execution_count": 9,
   "id": "a032e848",
   "metadata": {},
   "outputs": [
    {
     "data": {
      "text/plain": [
       "array([[0.38251563, 0.87639315, 0.29097544, 0.46843954],\n",
       "       [0.61090723, 0.25777427, 0.73009274, 0.01220844],\n",
       "       [0.66506052, 0.93097831, 0.63279316, 0.83611651]])"
      ]
     },
     "execution_count": 9,
     "metadata": {},
     "output_type": "execute_result"
    }
   ],
   "source": [
    "c = np.loadtxt('../output_file/sample2.txt', delimiter=',')\n",
    "c"
   ]
  },
  {
   "cell_type": "code",
   "execution_count": 10,
   "id": "e39ac855",
   "metadata": {},
   "outputs": [],
   "source": [
    "np.savetxt('../output_file/sample3.txt', a, fmt='%.2e') #請查看sample3.txt"
   ]
  },
  {
   "cell_type": "code",
   "execution_count": 11,
   "id": "72b6c371",
   "metadata": {},
   "outputs": [],
   "source": [
    "np.savetxt('../output_file/sample4.txt', a, fmt='%.2f') #請查看sample4.txt"
   ]
  },
  {
   "cell_type": "code",
   "execution_count": 12,
   "id": "0aad7f92",
   "metadata": {},
   "outputs": [],
   "source": [
    "np.savetxt('../output_file/sample5.txt', a, fmt='%.3e',\n",
    "          header='this is a header', footer='this is a footer') \n",
    "#請查看sample5.txt"
   ]
  },
  {
   "cell_type": "code",
   "execution_count": 13,
   "id": "ec3a4f7a",
   "metadata": {},
   "outputs": [],
   "source": [
    "np.savetxt('../output_file/sample6.txt', a, fmt='%.3e',header='this is a header', \n",
    "           footer='this is a footer', comments='>>>') \n",
    "#請查看sample6.txt"
   ]
  },
  {
   "cell_type": "code",
   "execution_count": 14,
   "id": "99867014",
   "metadata": {},
   "outputs": [
    {
     "data": {
      "text/plain": [
       "array([[0.38, 0.98, 0.09, 0.05],\n",
       "       [0.95, 0.32, 0.72, 0.72],\n",
       "       [0.95, 0.9 , 0.66, 0.5 ]])"
      ]
     },
     "execution_count": 14,
     "metadata": {},
     "output_type": "execute_result"
    }
   ],
   "source": [
    "np.loadtxt('../output_file/sample4.txt')"
   ]
  },
  {
   "cell_type": "code",
   "execution_count": 15,
   "id": "da70fbee",
   "metadata": {},
   "outputs": [
    {
     "data": {
      "text/plain": [
       "array([[0.38, 0.09],\n",
       "       [0.95, 0.72],\n",
       "       [0.95, 0.66]])"
      ]
     },
     "execution_count": 15,
     "metadata": {},
     "output_type": "execute_result"
    }
   ],
   "source": [
    "np.loadtxt('../output_file/sample4.txt', usecols=(0,2))"
   ]
  },
  {
   "cell_type": "code",
   "execution_count": 16,
   "id": "f53ea235",
   "metadata": {},
   "outputs": [
    {
     "data": {
      "text/plain": [
       "array([[0.95, 0.32, 0.72, 0.72],\n",
       "       [0.95, 0.9 , 0.66, 0.5 ]])"
      ]
     },
     "execution_count": 16,
     "metadata": {},
     "output_type": "execute_result"
    }
   ],
   "source": [
    "np.loadtxt('../output_file/sample4.txt', skiprows=1) #skiprows=開頭前幾行"
   ]
  },
  {
   "cell_type": "code",
   "execution_count": 17,
   "id": "f2955901",
   "metadata": {},
   "outputs": [
    {
     "data": {
      "text/plain": [
       "array([(18, b'female', 154.1, b'No'), (21, b'male', 172.3, b'Yes'),\n",
       "       (22, b'female', 160.8, b'Yes'), (23, b'male', 190.1, b'Yes'),\n",
       "       (25, b'female', 156. , b'No')],\n",
       "      dtype=[('col1', '<i8'), ('col2', 'S10'), ('col3', '<f8'), ('col4', 'S10')])"
      ]
     },
     "execution_count": 17,
     "metadata": {},
     "output_type": "execute_result"
    }
   ],
   "source": [
    "np.loadtxt('../source/foo.csv', dtype=[('col1', 'i8'),\n",
    "                             ('col2', 'S10'),\n",
    "                             ('col3', 'f8'),\n",
    "                             ('col4', 'S10')\n",
    "                            ])"
   ]
  },
  {
   "cell_type": "code",
   "execution_count": 18,
   "id": "30d49ed4",
   "metadata": {},
   "outputs": [
    {
     "data": {
      "text/plain": [
       "[array([18, 21, 22, 23, 25], dtype=int64),\n",
       " array([b'female', b'male', b'female', b'male', b'female'], dtype='|S10'),\n",
       " array([154.1, 172.3, 160.8, 190.1, 156. ]),\n",
       " array([b'No', b'Yes', b'Yes', b'Yes', b'No'], dtype='|S10')]"
      ]
     },
     "execution_count": 18,
     "metadata": {},
     "output_type": "execute_result"
    }
   ],
   "source": [
    "np.loadtxt('../source/foo.csv', dtype=[('col1', 'i8'),\n",
    "                             ('col2', 'S10'),\n",
    "                             ('col3', 'f8'),\n",
    "                             ('col4', 'S10')\n",
    "                            ], unpack=True)"
   ]
  },
  {
   "cell_type": "code",
   "execution_count": 19,
   "id": "3067635a",
   "metadata": {},
   "outputs": [],
   "source": [
    "age,gender,tall,driver_license=np.loadtxt('../source/foo.csv', dtype=[\n",
    "        ('col1', 'i8'),('col2', 'S10'),('col3', 'f8'),('col4', 'S10')\n",
    "                                                                ], unpack=True)"
   ]
  },
  {
   "cell_type": "code",
   "execution_count": 20,
   "id": "5a1d9664",
   "metadata": {},
   "outputs": [
    {
     "data": {
      "text/plain": [
       "array([18, 21, 22, 23, 25], dtype=int64)"
      ]
     },
     "execution_count": 20,
     "metadata": {},
     "output_type": "execute_result"
    }
   ],
   "source": [
    "age"
   ]
  },
  {
   "cell_type": "code",
   "execution_count": 21,
   "id": "87c1e5ff",
   "metadata": {},
   "outputs": [
    {
     "data": {
      "text/plain": [
       "array([b'female', b'male', b'female', b'male', b'female'], dtype='|S10')"
      ]
     },
     "execution_count": 21,
     "metadata": {},
     "output_type": "execute_result"
    }
   ],
   "source": [
    "gender"
   ]
  },
  {
   "cell_type": "code",
   "execution_count": 22,
   "id": "5ca4ef77",
   "metadata": {},
   "outputs": [
    {
     "data": {
      "text/plain": [
       "array([154.1, 172.3, 160.8, 190.1, 156. ])"
      ]
     },
     "execution_count": 22,
     "metadata": {},
     "output_type": "execute_result"
    }
   ],
   "source": [
    "tall"
   ]
  },
  {
   "cell_type": "code",
   "execution_count": 23,
   "id": "9312d98b",
   "metadata": {},
   "outputs": [
    {
     "data": {
      "text/plain": [
       "array([b'No', b'Yes', b'Yes', b'Yes', b'No'], dtype='|S10')"
      ]
     },
     "execution_count": 23,
     "metadata": {},
     "output_type": "execute_result"
    }
   ],
   "source": [
    "driver_license"
   ]
  },
  {
   "cell_type": "code",
   "execution_count": 24,
   "id": "fc5c932d",
   "metadata": {},
   "outputs": [],
   "source": [
    "def driver_license(str):\n",
    "    if str == b'Yes':\n",
    "        return 1\n",
    "    else:\n",
    "        return -1"
   ]
  },
  {
   "cell_type": "code",
   "execution_count": 25,
   "id": "ec92db3b",
   "metadata": {},
   "outputs": [],
   "source": [
    "def gender(str):\n",
    "    if str == b'male':\n",
    "        return 1\n",
    "    else:\n",
    "        return -1"
   ]
  },
  {
   "cell_type": "code",
   "execution_count": 26,
   "id": "15eb7338",
   "metadata": {},
   "outputs": [
    {
     "data": {
      "text/plain": [
       "array([[ 18. ,  -1. , 154.1,  -1. ],\n",
       "       [ 21. ,   1. , 172.3,   1. ],\n",
       "       [ 22. ,  -1. , 160.8,   1. ],\n",
       "       [ 23. ,   1. , 190.1,   1. ],\n",
       "       [ 25. ,  -1. , 156. ,  -1. ]])"
      ]
     },
     "execution_count": 26,
     "metadata": {},
     "output_type": "execute_result"
    }
   ],
   "source": [
    "np.loadtxt('../source/foo.csv', converters={1:gender, 3:driver_license})"
   ]
  }
 ],
 "metadata": {
  "kernelspec": {
   "display_name": "Python 3 (ipykernel)",
   "language": "python",
   "name": "python3"
  },
  "language_info": {
   "codemirror_mode": {
    "name": "ipython",
    "version": 3
   },
   "file_extension": ".py",
   "mimetype": "text/x-python",
   "name": "python",
   "nbconvert_exporter": "python",
   "pygments_lexer": "ipython3",
   "version": "3.8.8"
  }
 },
 "nbformat": 4,
 "nbformat_minor": 5
}
