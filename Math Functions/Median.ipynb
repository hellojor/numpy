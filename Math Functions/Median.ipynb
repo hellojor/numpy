{
 "cells": [
  {
   "cell_type": "markdown",
   "id": "446b6929",
   "metadata": {},
   "source": [
    "# 計算中位數 - median()\n",
    "\n",
    "    np.median(a, axis=None, out=None, overwrite_input=False, keepdims=False)"
   ]
  },
  {
   "cell_type": "code",
   "execution_count": 1,
   "id": "0979fbd1",
   "metadata": {},
   "outputs": [],
   "source": [
    "import numpy as np"
   ]
  },
  {
   "cell_type": "code",
   "execution_count": 2,
   "id": "d1143299",
   "metadata": {},
   "outputs": [
    {
     "data": {
      "text/plain": [
       "array([[[ 3, 55, 12, 66],\n",
       "        [43, 36, 21, 38],\n",
       "        [41, 60, 95, 56]],\n",
       "\n",
       "       [[84, 31, 84, 59],\n",
       "        [22,  8, 46, 63],\n",
       "        [10, 17, 54, 59]]])"
      ]
     },
     "execution_count": 2,
     "metadata": {},
     "output_type": "execute_result"
    }
   ],
   "source": [
    "a = np.random.randint(100, size=(2, 3, 4))\n",
    "a"
   ]
  },
  {
   "cell_type": "code",
   "execution_count": 3,
   "id": "cfc0cb63",
   "metadata": {},
   "outputs": [
    {
     "data": {
      "text/plain": [
       "44.5"
      ]
     },
     "execution_count": 3,
     "metadata": {},
     "output_type": "execute_result"
    }
   ],
   "source": [
    "np.median(a)"
   ]
  },
  {
   "cell_type": "code",
   "execution_count": 4,
   "id": "ab1f69b3",
   "metadata": {},
   "outputs": [
    {
     "data": {
      "text/plain": [
       "array([[33.5, 37. , 58. ],\n",
       "       [71.5, 34. , 35.5]])"
      ]
     },
     "execution_count": 4,
     "metadata": {},
     "output_type": "execute_result"
    }
   ],
   "source": [
    "np.median(a, axis=2)"
   ]
  },
  {
   "cell_type": "code",
   "execution_count": 5,
   "id": "91ba5ed7",
   "metadata": {},
   "outputs": [
    {
     "data": {
      "text/plain": [
       "array([[41., 55., 21., 56.],\n",
       "       [22., 17., 54., 59.]])"
      ]
     },
     "execution_count": 5,
     "metadata": {},
     "output_type": "execute_result"
    }
   ],
   "source": [
    "np.median(a, axis=1)"
   ]
  },
  {
   "cell_type": "code",
   "execution_count": 6,
   "id": "48784082",
   "metadata": {},
   "outputs": [
    {
     "data": {
      "text/plain": [
       "array([[[ 3, 55, 12, 66],\n",
       "        [43, 36, 21, 38],\n",
       "        [41, 60, 95, 56]],\n",
       "\n",
       "       [[84, 31, 84, 59],\n",
       "        [22,  8, 46, 63],\n",
       "        [10, 17, 54, 59]]])"
      ]
     },
     "execution_count": 6,
     "metadata": {},
     "output_type": "execute_result"
    }
   ],
   "source": [
    "b = a.copy() #使用copy建立的b 跟 a 是不同的物件，也在不同的記憶體裏\n",
    "b"
   ]
  },
  {
   "cell_type": "code",
   "execution_count": 7,
   "id": "90983e80",
   "metadata": {},
   "outputs": [
    {
     "data": {
      "text/plain": [
       "array([[41., 55., 21., 56.],\n",
       "       [22., 17., 54., 59.]])"
      ]
     },
     "execution_count": 7,
     "metadata": {},
     "output_type": "execute_result"
    }
   ],
   "source": [
    "np.median(b, axis=1, overwrite_input=True)"
   ]
  },
  {
   "cell_type": "code",
   "execution_count": 8,
   "id": "0574c85d",
   "metadata": {},
   "outputs": [
    {
     "data": {
      "text/plain": [
       "False"
      ]
     },
     "execution_count": 8,
     "metadata": {},
     "output_type": "execute_result"
    }
   ],
   "source": [
    "np.all(a==b) #查看是否一樣"
   ]
  },
  {
   "cell_type": "code",
   "execution_count": 9,
   "id": "e42a91e6",
   "metadata": {},
   "outputs": [
    {
     "data": {
      "text/plain": [
       "array([[[ 3, 55, 12, 66],\n",
       "        [43, 36, 21, 38],\n",
       "        [41, 60, 95, 56]],\n",
       "\n",
       "       [[84, 31, 84, 59],\n",
       "        [22,  8, 46, 63],\n",
       "        [10, 17, 54, 59]]])"
      ]
     },
     "execution_count": 9,
     "metadata": {},
     "output_type": "execute_result"
    }
   ],
   "source": [
    "a"
   ]
  },
  {
   "cell_type": "code",
   "execution_count": 10,
   "id": "62ae12e1",
   "metadata": {
    "scrolled": true
   },
   "outputs": [
    {
     "data": {
      "text/plain": [
       "array([[[ 3, 36, 12, 38],\n",
       "        [41, 55, 21, 56],\n",
       "        [43, 60, 95, 66]],\n",
       "\n",
       "       [[10,  8, 46, 59],\n",
       "        [22, 17, 54, 59],\n",
       "        [84, 31, 84, 63]]])"
      ]
     },
     "execution_count": 10,
     "metadata": {},
     "output_type": "execute_result"
    }
   ],
   "source": [
    "b #由此可見如果overwrite_input=True, 就會在找出median的同時將其排序"
   ]
  },
  {
   "cell_type": "code",
   "execution_count": 11,
   "id": "8626a069",
   "metadata": {},
   "outputs": [],
   "source": [
    "b = a.copy()"
   ]
  },
  {
   "cell_type": "code",
   "execution_count": 12,
   "id": "7455966d",
   "metadata": {},
   "outputs": [
    {
     "name": "stdout",
     "output_type": "stream",
     "text": [
      "19.8 µs ± 1.01 µs per loop (mean ± std. dev. of 7 runs, 100000 loops each)\n"
     ]
    }
   ],
   "source": [
    "%timeit np.median(a, axis=1)"
   ]
  },
  {
   "cell_type": "code",
   "execution_count": 13,
   "id": "8fc96600",
   "metadata": {},
   "outputs": [
    {
     "name": "stdout",
     "output_type": "stream",
     "text": [
      "19 µs ± 247 ns per loop (mean ± std. dev. of 7 runs, 10000 loops each)\n"
     ]
    }
   ],
   "source": [
    "%timeit np.median(b, axis=1, overwrite_input=True)\n",
    "# 由此可見overwrite_input比較快"
   ]
  },
  {
   "cell_type": "code",
   "execution_count": 14,
   "id": "c1b38e02",
   "metadata": {},
   "outputs": [
    {
     "data": {
      "text/plain": [
       "array([[[43.5, 43. , 48. , 62.5],\n",
       "        [32.5, 22. , 33.5, 50.5],\n",
       "        [25.5, 38.5, 74.5, 57.5]]])"
      ]
     },
     "execution_count": 14,
     "metadata": {},
     "output_type": "execute_result"
    }
   ],
   "source": [
    "np.median(a, axis=0, keepdims=True)"
   ]
  },
  {
   "cell_type": "code",
   "execution_count": 15,
   "id": "4dfb39d7",
   "metadata": {},
   "outputs": [
    {
     "data": {
      "text/plain": [
       "array([[[41., 55., 21., 56.]],\n",
       "\n",
       "       [[22., 17., 54., 59.]]])"
      ]
     },
     "execution_count": 15,
     "metadata": {},
     "output_type": "execute_result"
    }
   ],
   "source": [
    "np.median(a, axis=1, keepdims=True)"
   ]
  },
  {
   "cell_type": "code",
   "execution_count": 16,
   "id": "cd776dc7",
   "metadata": {},
   "outputs": [
    {
     "data": {
      "text/plain": [
       "array([[41., 55., 21., 56.],\n",
       "       [22., 17., 54., 59.]])"
      ]
     },
     "execution_count": 16,
     "metadata": {},
     "output_type": "execute_result"
    }
   ],
   "source": [
    "np.median(a, axis=1, keepdims=False)"
   ]
  }
 ],
 "metadata": {
  "kernelspec": {
   "display_name": "Python 3 (ipykernel)",
   "language": "python",
   "name": "python3"
  },
  "language_info": {
   "codemirror_mode": {
    "name": "ipython",
    "version": 3
   },
   "file_extension": ".py",
   "mimetype": "text/x-python",
   "name": "python",
   "nbconvert_exporter": "python",
   "pygments_lexer": "ipython3",
   "version": "3.8.8"
  }
 },
 "nbformat": 4,
 "nbformat_minor": 5
}
