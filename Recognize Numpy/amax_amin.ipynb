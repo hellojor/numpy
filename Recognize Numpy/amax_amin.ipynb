{
 "cells": [
  {
   "cell_type": "markdown",
   "id": "6afcd573",
   "metadata": {},
   "source": [
    "# 取出最大值、最小值 - amax() 與 amin()"
   ]
  },
  {
   "cell_type": "markdown",
   "id": "75514dcf",
   "metadata": {},
   "source": [
    "## np.amax()\n",
    "\n",
    "    np.amax(a, axis=None, out=None, keepdims=False)\n",
    "    ndarray.max(axis=None, out=None, keepdims=False)"
   ]
  },
  {
   "cell_type": "code",
   "execution_count": 1,
   "id": "3492b235",
   "metadata": {},
   "outputs": [],
   "source": [
    "import numpy as np"
   ]
  },
  {
   "cell_type": "code",
   "execution_count": 2,
   "id": "32237c3c",
   "metadata": {},
   "outputs": [
    {
     "data": {
      "text/plain": [
       "3"
      ]
     },
     "execution_count": 2,
     "metadata": {},
     "output_type": "execute_result"
    }
   ],
   "source": [
    "np.amax(np.array([1, 2, 3, 2, 1]))"
   ]
  },
  {
   "cell_type": "code",
   "execution_count": 3,
   "id": "70eeccee",
   "metadata": {},
   "outputs": [
    {
     "data": {
      "text/plain": [
       "array([[1, 2],\n",
       "       [3, 4]])"
      ]
     },
     "execution_count": 3,
     "metadata": {},
     "output_type": "execute_result"
    }
   ],
   "source": [
    "a = np.arange(1, 5).reshape(2, 2)\n",
    "a"
   ]
  },
  {
   "cell_type": "code",
   "execution_count": 4,
   "id": "398e8ff6",
   "metadata": {},
   "outputs": [
    {
     "data": {
      "text/plain": [
       "array([3, 4])"
      ]
     },
     "execution_count": 4,
     "metadata": {},
     "output_type": "execute_result"
    }
   ],
   "source": [
    "np.amax(a, axis=0)"
   ]
  },
  {
   "cell_type": "code",
   "execution_count": 5,
   "id": "ab5990ba",
   "metadata": {},
   "outputs": [
    {
     "data": {
      "text/plain": [
       "array([2, 4])"
      ]
     },
     "execution_count": 5,
     "metadata": {},
     "output_type": "execute_result"
    }
   ],
   "source": [
    "np.amax(a, axis=1)"
   ]
  },
  {
   "cell_type": "code",
   "execution_count": 6,
   "id": "28e92064",
   "metadata": {
    "scrolled": true
   },
   "outputs": [
    {
     "data": {
      "text/plain": [
       "array([2, 4])"
      ]
     },
     "execution_count": 6,
     "metadata": {},
     "output_type": "execute_result"
    }
   ],
   "source": [
    "np.amax(a, axis=1)"
   ]
  },
  {
   "cell_type": "code",
   "execution_count": 7,
   "id": "44ccd67d",
   "metadata": {},
   "outputs": [
    {
     "data": {
      "text/plain": [
       "array([[[ 1,  8, 22, 10, 18],\n",
       "        [25, 10, 21,  5,  3],\n",
       "        [27, 26, 13, 13, 11]],\n",
       "\n",
       "       [[ 4, 28, 28,  7,  0],\n",
       "        [14, 11, 16, 15, 22],\n",
       "        [ 5,  7,  9, 20, 19]]])"
      ]
     },
     "execution_count": 7,
     "metadata": {},
     "output_type": "execute_result"
    }
   ],
   "source": [
    "b = np.random.randint(30, size=(2, 3, 5))\n",
    "b"
   ]
  },
  {
   "cell_type": "code",
   "execution_count": 8,
   "id": "54287355",
   "metadata": {},
   "outputs": [
    {
     "data": {
      "text/plain": [
       "array([[ 4, 28, 28, 10, 18],\n",
       "       [25, 11, 21, 15, 22],\n",
       "       [27, 26, 13, 20, 19]])"
      ]
     },
     "execution_count": 8,
     "metadata": {},
     "output_type": "execute_result"
    }
   ],
   "source": [
    "b.max(axis=0)"
   ]
  },
  {
   "cell_type": "code",
   "execution_count": 9,
   "id": "4c5c18d9",
   "metadata": {},
   "outputs": [
    {
     "data": {
      "text/plain": [
       "array([[27, 26, 22, 13, 18],\n",
       "       [14, 28, 28, 20, 22]])"
      ]
     },
     "execution_count": 9,
     "metadata": {},
     "output_type": "execute_result"
    }
   ],
   "source": [
    "b.max(axis=1)"
   ]
  },
  {
   "cell_type": "code",
   "execution_count": 10,
   "id": "5fff34d1",
   "metadata": {},
   "outputs": [
    {
     "data": {
      "text/plain": [
       "array([[22, 25, 27],\n",
       "       [28, 22, 20]])"
      ]
     },
     "execution_count": 10,
     "metadata": {},
     "output_type": "execute_result"
    }
   ],
   "source": [
    "b.max(axis=2)"
   ]
  },
  {
   "cell_type": "markdown",
   "id": "6caa1cab",
   "metadata": {},
   "source": [
    "## np.amax()\n",
    "\n",
    "    np.amin(a, axis=None, out=None, keepdims=False)\n",
    "    ndarray.min(axis=None, out=None, keepdims=False)"
   ]
  },
  {
   "cell_type": "code",
   "execution_count": 11,
   "id": "bc7c50a9",
   "metadata": {},
   "outputs": [
    {
     "data": {
      "text/plain": [
       "array([[[17, 19, 27, 26,  4],\n",
       "        [ 8, 18, 22, 29,  9],\n",
       "        [20, 24, 17, 18, 20]],\n",
       "\n",
       "       [[28,  6, 13, 10, 29],\n",
       "        [15, 23,  2,  4, 18],\n",
       "        [ 2, 22, 27, 23, 22]]])"
      ]
     },
     "execution_count": 11,
     "metadata": {},
     "output_type": "execute_result"
    }
   ],
   "source": [
    "b = np.random.randint(30, size=(2, 3, 5))\n",
    "b"
   ]
  },
  {
   "cell_type": "code",
   "execution_count": 12,
   "id": "f76cf497",
   "metadata": {},
   "outputs": [
    {
     "data": {
      "text/plain": [
       "array([[17,  6, 13, 10,  4],\n",
       "       [ 8, 18,  2,  4,  9],\n",
       "       [ 2, 22, 17, 18, 20]])"
      ]
     },
     "execution_count": 12,
     "metadata": {},
     "output_type": "execute_result"
    }
   ],
   "source": [
    "np.amin(b, axis=0)"
   ]
  },
  {
   "cell_type": "code",
   "execution_count": 13,
   "id": "0238ec3c",
   "metadata": {},
   "outputs": [
    {
     "data": {
      "text/plain": [
       "array([[ 8, 18, 17, 18,  4],\n",
       "       [ 2,  6,  2,  4, 18]])"
      ]
     },
     "execution_count": 13,
     "metadata": {},
     "output_type": "execute_result"
    }
   ],
   "source": [
    "np.amin(b, axis=1)"
   ]
  },
  {
   "cell_type": "code",
   "execution_count": 14,
   "id": "33fdb576",
   "metadata": {},
   "outputs": [
    {
     "data": {
      "text/plain": [
       "array([[ 4,  8, 17],\n",
       "       [ 6,  2,  2]])"
      ]
     },
     "execution_count": 14,
     "metadata": {},
     "output_type": "execute_result"
    }
   ],
   "source": [
    "np.amin(b, axis=2)"
   ]
  }
 ],
 "metadata": {
  "kernelspec": {
   "display_name": "Python 3 (ipykernel)",
   "language": "python",
   "name": "python3"
  },
  "language_info": {
   "codemirror_mode": {
    "name": "ipython",
    "version": 3
   },
   "file_extension": ".py",
   "mimetype": "text/x-python",
   "name": "python",
   "nbconvert_exporter": "python",
   "pygments_lexer": "ipython3",
   "version": "3.8.8"
  }
 },
 "nbformat": 4,
 "nbformat_minor": 5
}
